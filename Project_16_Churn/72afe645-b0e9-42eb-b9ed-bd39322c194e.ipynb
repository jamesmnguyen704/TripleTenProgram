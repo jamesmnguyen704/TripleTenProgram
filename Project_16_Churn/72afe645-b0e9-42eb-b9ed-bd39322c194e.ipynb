{
 "cells": [
  {
   "cell_type": "markdown",
   "id": "ab1b54f2",
   "metadata": {},
   "source": [
    "**Review**\n",
    "\n",
    "Hello James!\n",
    "\n",
    "I'm happy to review your code today.\n",
    "  \n",
    "You can find my comments in colored markdown cells:\n",
    "  \n",
    "<div class=\"alert alert-success\">\n",
    "  If everything is done successfully.\n",
    "</div>\n",
    "  \n",
    "<div class=\"alert alert-warning\">\n",
    "  If I have some (optional) suggestions, or questions to think about, or general comments.\n",
    "</div>\n",
    "  \n",
    "<div class=\"alert alert-danger\">\n",
    "  If a section requires some corrections. Work can't be accepted with red comments.\n",
    "</div>\n",
    "  \n",
    "Please don't remove my comments, as it will make further review iterations much harder for me.\n",
    "  \n",
    "Feel free to reply to my comments or ask questions using the following template:\n",
    "  \n",
    "<div class=\"alert alert-info\">\n",
    "  For your comments and questions.\n",
    "</div>\n",
    "  \n",
    "First of all, thank you for turning in the project! You did an excellent job! The code is accepted. Based on your best model's ROC-AUC on the test set, you've got 4.5 SP. Congrats!"
   ]
  },
  {
   "cell_type": "markdown",
   "id": "0b0ec3c8",
   "metadata": {},
   "source": [
    "<div class=\"alert alert-success\">\n",
    "    Hi James! I have approved your initial report for the final project. Great work! Just wanted to add some helpful pointers:\n",
    "    <br/><br/>\n",
    "If end date is empty, assume that the customer is still with the company (no churn)\n",
    "    <br/><br/>\n",
    "    When merging dataframes make sure that you do not miss any customers since some ID’s may not exist in certain tables. You can treat these missing cases as that customer not signing up for the specific service\n",
    "<br/><br/>\n",
    "    Your target variable should be Churn / No Churn, this will be a binary classification task\n",
    "<br/><br/>\n",
    "    Make sure that the validation set is used to tune hyperparameters, good idea to use gridsearch\n",
    "<br/><br/>\n",
    "    There does indeed exist a class imbalance in the data, make sure this is accounted for\n",
    "<br/><br/>\n",
    "    Careful with data leakage, make sure to not include features that may be collinear (i.e if using one-hot encoding for categorical variables, drop one of the columns) or reference the target variable in some way (see topic on data leakage)\n",
    "<br/><br/>\n",
    "    Good choice of models to try\n",
    "<br/><br/>\n",
    "    Very good EDA plan\n",
    "<br/><br/>\n",
    "    The goal of this project is to understand why customers churned or stopped their service. And we can use machine learning to identify features of the data that had high predictive power when determining which customers will churn. And if we know that, what can we do as a company to prevent ongoing churn (this part is more of a discussion question for your end\n",
    "<br/><br/>\n",
    "-Yervand, Data Science Tutor\n",
    "</div>\n"
   ]
  },
  {
   "cell_type": "markdown",
   "id": "30396304",
   "metadata": {},
   "source": [
    "<div class=\"alert alert-success\">\n",
    "<br/><br/>\n",
    "    Hello Yervand, I believe I've gotten the project completed. I've been working on it on Jupyter and VSCode on my personal computer to see when the code isn't working. Could you assist me with how I needed to install libraries or whatever I was doing that kept giving me an error on the notebook?\n",
    "-Student James \n",
    "</div>\n"
   ]
  },
  {
   "cell_type": "markdown",
   "id": "25ee0932",
   "metadata": {},
   "source": [
    "# Predictive Churn Analysis for Telecom Services Using Machine Learning"
   ]
  },
  {
   "cell_type": "markdown",
   "id": "90893e8c",
   "metadata": {},
   "source": [
    "## Project Description\n",
    "\n",
    "This project aims to develop a predictive model to identify customers who are likely to continue or discontinue their telecom operator's services. The analysis will start with examining datasets related to contracts, personal details, and internet/phone service usage.\n",
    "\n",
    "Comprehensive exploratory data analysis (EDA) will be conducted to identify trends and inform feature engineering. Categorical variables will be encoded using one-hot encoding, and new features will be created to capture customer behavior.\n",
    "\n",
    "Boosting algorithms will be employed for their binary classification capabilities, and the predictive model will be fine-tuned through hyperparameter optimization. The primary metric for performance evaluation will be the AUC-ROC score, with a target of achieving 0.88 or higher.\n",
    "\n",
    "The goal of the project is to enable the telecom operator to proactively identify customers at risk of churning and to send targeted promotions and customer retention plans to those individuals."
   ]
  },
  {
   "cell_type": "markdown",
   "id": "b6c4d4f2",
   "metadata": {},
   "source": [
    "## Interconnect's Services\n",
    "\n",
    "Interconnect mainly provides two types of services:\n",
    "\n",
    "1. **Landline Communication**: The telephone can be connected to several lines simultaneously.\n",
    "2. **Internet**: The network can be set up via a telephone line (DSL, digital subscriber line) or through a fiber optic cable.\n",
    "\n",
    "Additional services offered by the company include:\n",
    "\n",
    "- **Internet Security**: Antivirus software (DeviceProtection) and a malicious website blocker (OnlineSecurity)\n",
    "- **Technical Support**: A dedicated technical support line (TechSupport)\n",
    "- **Cloud Services**: Cloud file storage and data backup (OnlineBackup)\n",
    "- **Streaming Services**: TV streaming (StreamingTV) and a movie directory (StreamingMovies)\n",
    "\n",
    "Clients can choose either a monthly payment plan or sign a 1- or 2-year contract. They have various payment methods available and receive an electronic invoice after each transaction."
   ]
  },
  {
   "cell_type": "markdown",
   "id": "4aee59b7",
   "metadata": {},
   "source": [
    "## Data Description\n",
    "\n",
    "The data consists of files obtained from different sources:\n",
    "\n",
    "- `contract.csv` — Contract information\n",
    "- `personal.csv` — Client's personal data\n",
    "- `internet.csv` — Information about internet services\n",
    "- `phone.csv` — Information about telephone services\n",
    "\n",
    "In each file, the column `customerID` contains a unique code assigned to each client."
   ]
  },
  {
   "cell_type": "markdown",
   "id": "963ce2d3",
   "metadata": {},
   "source": [
    "## Import Libraries\n",
    "### Initial Data Exploration\n",
    "\n",
    "Import the datasets and combine them using the common column `customerID`."
   ]
  },
  {
   "cell_type": "code",
   "execution_count": null,
   "id": "0a57a262",
   "metadata": {},
   "outputs": [],
   "source": [
    "# Install scikit-learn\n",
    "!pip install scikit-learn\n",
    "!pip install --upgrade scikit-learn"
   ]
  },
  {
   "cell_type": "code",
   "execution_count": null,
   "id": "96d4ca77",
   "metadata": {},
   "outputs": [],
   "source": [
    "!pip install lightgbm\n",
    "!pip install catboost\n",
    "!pip install imbalanced-learn"
   ]
  },
  {
   "cell_type": "code",
   "execution_count": null,
   "id": "d496e1de",
   "metadata": {},
   "outputs": [],
   "source": [
    "import pandas as pd \n",
    "import numpy as np\n",
    "import matplotlib.pyplot as plt\n",
    "import seaborn as sns\n",
    "from sklearn.preprocessing import LabelEncoder\n",
    "import matplotlib.pyplot as plt\n",
    "from sklearn.preprocessing import StandardScaler\n",
    "from sklearn.preprocessing import PolynomialFeatures, OneHotEncoder\n",
    "from sklearn.compose import ColumnTransformer\n",
    "from sklearn.preprocessing import MinMaxScaler\n",
    "\n",
    "from sklearn.model_selection import train_test_split\n",
    "from sklearn.linear_model import LogisticRegression\n",
    "from sklearn.metrics import accuracy_score, confusion_matrix, classification_report\n",
    "from sklearn.metrics import roc_auc_score\n",
    "\n",
    "from sklearn.pipeline import Pipeline\n",
    "from sklearn.model_selection import cross_val_score\n",
    "\n",
    "from imblearn.pipeline import Pipeline as ImbPipeline\n",
    "from sklearn.metrics import roc_auc_score\n",
    "from sklearn.model_selection import GridSearchCV\n",
    "from sklearn.metrics import make_scorer\n",
    "from lightgbm import LGBMClassifier\n",
    "from catboost import CatBoostClassifier\n",
    "\n",
    "from sklearn.model_selection import train_test_split\n",
    "from imblearn.over_sampling import SMOTE\n",
    "\n",
    "from sklearn.ensemble import AdaBoostClassifier"
   ]
  },
  {
   "cell_type": "code",
   "execution_count": null,
   "id": "9e1edc4f",
   "metadata": {},
   "outputs": [],
   "source": [
    "#read in data - for personal computer\n",
    "df_phone = pd.read_csv('/Users/James/Projects/Final Project/Datasets/phone.csv')\n",
    "df_personal = pd.read_csv('/Users/James/Projects/Final Project/Datasets/personal.csv')\n",
    "df_internet = pd.read_csv('/Users/James/Projects/Final Project/Datasets/internet.csv')\n",
    "df_contract = pd.read_csv('/Users/James/Projects/Final Project/Datasets/contract.csv')"
   ]
  },
  {
   "cell_type": "code",
   "execution_count": null,
   "id": "37ed4467",
   "metadata": {},
   "outputs": [],
   "source": [
    "#read in data - for jupyter notebook\n",
    "# df_phone = pd.read_csv('phone.csv')\n",
    "# df_personal = pd.read_csv('personal.csv')\n",
    "# df_internet = pd.read_csv('internet.csv')\n",
    "# df_contract = pd.read_csv('contract.csv')\n",
    "#read in data - for jupyter notebook\n",
    "df_phone = pd.read_csv('/datasets/final_provider/phone.csv')\n",
    "df_personal = pd.read_csv('/datasets/final_provider/personal.csv')\n",
    "df_internet = pd.read_csv('/datasets/final_provider/internet.csv')\n",
    "df_contract = pd.read_csv('/datasets/final_provider/contract.csv')"
   ]
  },
  {
   "cell_type": "code",
   "execution_count": null,
   "id": "f235f85d",
   "metadata": {},
   "outputs": [],
   "source": [
    "#display df_phone\n",
    "display(df_phone.head())\n",
    "display(df_phone.info())"
   ]
  },
  {
   "cell_type": "code",
   "execution_count": null,
   "id": "710af509",
   "metadata": {},
   "outputs": [],
   "source": [
    "#display df_personal\n",
    "display(df_personal.head())\n",
    "df_personal.info()"
   ]
  },
  {
   "cell_type": "code",
   "execution_count": null,
   "id": "104af480",
   "metadata": {},
   "outputs": [],
   "source": [
    "#display df_internet\n",
    "display(df_internet.head())\n",
    "df_contract.info()"
   ]
  },
  {
   "cell_type": "code",
   "execution_count": null,
   "id": "3997c968",
   "metadata": {},
   "outputs": [],
   "source": [
    "#display df_contract\n",
    "display(df_contract.head())\n",
    "df_internet.info()"
   ]
  },
  {
   "cell_type": "code",
   "execution_count": null,
   "id": "cff4049f",
   "metadata": {},
   "outputs": [],
   "source": [
    "#create a merged df with all data based on customerID\n",
    "df_all = pd.merge(df_contract, df_personal, on='customerID', how='outer')\n",
    "df_all = pd.merge(df_all, df_phone, on='customerID', how='outer')\n",
    "df_all = pd.merge(df_all, df_internet, on='customerID', how='outer')\n",
    "\n",
    "df_all"
   ]
  },
  {
   "cell_type": "markdown",
   "id": "c2838f44",
   "metadata": {},
   "source": [
    "### Data Cleaning and Feature Engineering\n",
    "\n",
    "Here is what I will work on in this section:\n",
    "\n",
    "- Fill in NA values.\n",
    "- Lowercase column names.\n",
    "- Change `totalcharges` feature from object to numeric.\n",
    "- Use encoding to encode categorical features.\n",
    "- Scale numerical features (`monthlycharges`, `totalcharges`, and `tenure`) using Min-Max scaling because the distribution is not normal.\n",
    "- Add a column called `churn` based on the `enddate` column to create binary classification targets.\n",
    "- Add a column for the number of months using the service."
   ]
  },
  {
   "cell_type": "code",
   "execution_count": null,
   "id": "7a527d22",
   "metadata": {},
   "outputs": [],
   "source": [
    "#turn all null values into no \n",
    "df_all = df_all.fillna('No')"
   ]
  },
  {
   "cell_type": "code",
   "execution_count": null,
   "id": "58cf7837",
   "metadata": {},
   "outputs": [],
   "source": [
    "#see if there are null values\n",
    "df_all.isnull().sum()\n",
    "\n",
    "#delete rows where total_charges is null\n",
    "df_all = df_all[df_all['TotalCharges'].notna()]"
   ]
  },
  {
   "cell_type": "code",
   "execution_count": null,
   "id": "388ad1e4",
   "metadata": {},
   "outputs": [],
   "source": [
    "#lowercase all column names \n",
    "df_all.columns = df_all.columns.str.lower()"
   ]
  },
  {
   "cell_type": "code",
   "execution_count": null,
   "id": "a6bab969",
   "metadata": {},
   "outputs": [],
   "source": [
    "\n",
    "#change the column names to have proper _ instead of them being mushed together \n",
    "column_names = ['customer_id', 'begin_date', 'end_date', 'type', 'paperless_billing', 'payment_method', 'monthly_charges', 'total_charges', 'gender', 'senior_citizen', 'partner', 'dependents', 'multiple_lines', 'internet_service', 'online_security', 'online_backup', 'device_protection', 'tech_support', 'streaming_tv', 'streaming_movies' ]\n",
    "\n",
    "df_all.columns = column_names"
   ]
  },
  {
   "cell_type": "code",
   "execution_count": null,
   "id": "df1e5aa0",
   "metadata": {},
   "outputs": [],
   "source": [
    "#change totalcharges to numeric\n",
    "df_all['total_charges'] = pd.to_numeric(df_all['total_charges'], errors='coerce')"
   ]
  },
  {
   "cell_type": "code",
   "execution_count": null,
   "id": "8ea2cf33",
   "metadata": {},
   "outputs": [],
   "source": [
    "#encode categorical features\n",
    "\n",
    "#instantiate label encoder\n",
    "le = LabelEncoder()\n",
    "\n",
    "#create list of columns that need to be encoded\n",
    "column_list = ['paperless_billing', 'gender', 'senior_citizen', 'partner', 'dependents', 'multiple_lines', 'online_security', 'online_backup', 'device_protection', 'tech_support', 'streaming_tv', 'streaming_movies']\n",
    "\n",
    "#using a for loop to change all columns in the list to label encoded\n",
    "for column in column_list:\n",
    "    df_all[column] = le.fit_transform(df_all[column])\n",
    "    print(column, le.classes_)"
   ]
  },
  {
   "cell_type": "code",
   "execution_count": null,
   "id": "c6d53840",
   "metadata": {},
   "outputs": [],
   "source": [
    "#turn internet service names into a list from value_counts\n",
    "internet_service_list = ['fiber_optic', 'dsl', 'no']\n",
    "\n",
    "#turn the types of payment methods into a list\n",
    "payment_method_list = ['electronic_check', 'mailed_check', 'bank_transfer', 'credit_card']\n",
    "\n",
    "#turn the types of contracts into a list\n",
    "contract_list = ['Month_to_month', 'one_year', 'two_year']"
   ]
  },
  {
   "cell_type": "code",
   "execution_count": null,
   "id": "4bb01a78",
   "metadata": {},
   "outputs": [],
   "source": [
    "import sklearn\n",
    "print(sklearn.__version__)"
   ]
  },
  {
   "cell_type": "code",
   "execution_count": null,
   "id": "6e73415b",
   "metadata": {},
   "outputs": [],
   "source": [
    "#onehot encode categorical features\n",
    "#instantiate onehot encoder\n",
    "ohe = OneHotEncoder(sparse=False)\n",
    "\n",
    "#transform and fit payment_method, internet_service, and type\n",
    "payment_method = ohe.fit_transform(df_all[['payment_method']])\n",
    "internet_service = ohe.fit_transform(df_all[['internet_service']])\n",
    "type_ = ohe.fit_transform(df_all[['type']])"
   ]
  },
  {
   "cell_type": "code",
   "execution_count": null,
   "id": "61a2988f",
   "metadata": {},
   "outputs": [],
   "source": [
    "#turn the transformed columns into dataframes\n",
    "payment_method = pd.DataFrame(payment_method, columns=payment_method_list)\n",
    "internet_service = pd.DataFrame(internet_service, columns=internet_service_list)\n",
    "type_ = pd.DataFrame(type_, columns=contract_list)\n",
    "\n",
    "#drop the original columns\n",
    "df_all = df_all.drop(['payment_method', 'internet_service', 'type'], axis=1)\n",
    "\n",
    "#concat the dataframes together\n",
    "df_all = pd.concat([df_all, payment_method, internet_service, type_], axis=1)"
   ]
  },
  {
   "cell_type": "code",
   "execution_count": null,
   "id": "e7570b32",
   "metadata": {},
   "outputs": [],
   "source": [
    "#create a new column called churn that is 1 if there is a date and 0 if it says no based on enddate column\n",
    "df_all['churn'] = np.where(df_all['end_date'] == 'No', 0, 1)"
   ]
  },
  {
   "cell_type": "code",
   "execution_count": null,
   "id": "e2bd5752",
   "metadata": {},
   "outputs": [],
   "source": [
    "#change all enddate values to 2020-02-01 \n",
    "df_all['end_date'] = np.where(df_all['end_date'] == 'No', '2020-02-01', df_all['end_date'])\n",
    "\n",
    "#change begindate and enddate to datetime\n",
    "df_all['begin_date'] = pd.to_datetime(df_all['begin_date'])\n",
    "df_all['end_date'] = pd.to_datetime(df_all['end_date'])\n",
    "\n",
    "#create a new column called tenure that is the difference between enddate and begindate\n",
    "df_all['tenure'] = df_all['end_date'] - df_all['begin_date']"
   ]
  },
  {
   "cell_type": "code",
   "execution_count": null,
   "id": "3eb14662",
   "metadata": {},
   "outputs": [],
   "source": [
    "#change tenure to numeric and divide by 30 to get tenure in months \n",
    "df_all['tenure'] = (df_all['tenure'].dt.days/30).round(0)"
   ]
  },
  {
   "cell_type": "markdown",
   "id": "cdcb3877",
   "metadata": {},
   "source": [
    "### Exploratory Data Analysis (EDA)\n",
    "\n",
    "For the EDA, my strategy is to investigate if each feature has a correlation with whether or not a customer is likely to churn. This will be done using visual methods to better understand the relationships between features and churn.\n",
    "\n",
    "To achieve this, I will:\n",
    "\n",
    "- Analyze each feature in relation to churn.\n",
    "- Use visualizations to identify patterns and correlations.\n",
    "- Check the imbalance of the dataset.\n",
    "\n",
    "#### Steps for EDA:\n",
    "\n",
    "1. **Analyze Each Feature in Relation to Churn**:\n",
    "   - Examine individual features to see how they correlate with churn.\n",
    "\n",
    "2. **Use Visualizations**:\n",
    "   - Create visualizations such as bar plots, histograms, box plots, and scatter plots to explore the relationships between features and churn.\n",
    "\n",
    "3. **Check Dataset Imbalance**:\n",
    "   - Assess the balance between the churned and non-churned classes to understand the distribution of the target variable.\n"
   ]
  },
  {
   "cell_type": "code",
   "execution_count": null,
   "id": "7ec8eab8",
   "metadata": {},
   "outputs": [],
   "source": [
    "#see how many people churned vs how many didnt \n",
    "df_all['churn'].value_counts()"
   ]
  },
  {
   "cell_type": "markdown",
   "id": "99a8e198",
   "metadata": {},
   "source": [
    "So we have quite an unbalanced dataset where a majority of people are still active on the service. I will use a method like SMOTE later on after creating train and test sets.\n",
    "\n",
    "### When do people generally leave the service?\n",
    "\n",
    "To analyze when people generally leave the service, we will explore the distribution of churn over different features such as tenure and contract type. This will help us understand the typical behavior of customers who leave the service.\n"
   ]
  },
  {
   "cell_type": "code",
   "execution_count": null,
   "id": "196ab417",
   "metadata": {},
   "outputs": [],
   "source": [
    "#turn end_date into a datetime object\n",
    "df_all['end_date'] = pd.to_datetime(df_all['end_date'])\n",
    "\n",
    "#create a new column called month that is the month of the end_date\n",
    "df_all['month'] = df_all['end_date'].dt.month\n",
    "\n",
    "#plot the distribution of the months\n",
    "df_all['month'].value_counts()"
   ]
  },
  {
   "cell_type": "markdown",
   "id": "e0d03246",
   "metadata": {},
   "source": [
    "We can observe that terminations are fairly evenly distributed across the months in the dataset. Note that February represents the end of the dataset period, so these users are still active.\n",
    "\n",
    "### How many months does the average person use the service before leaving?"
   ]
  },
  {
   "cell_type": "code",
   "execution_count": null,
   "id": "e38e75c0",
   "metadata": {
    "scrolled": true
   },
   "outputs": [],
   "source": [
    "#for all people that have churned, lets see how long they were with the company using a histogram\n",
    "plt.hist(df_all[df_all['churn'] == 1]['tenure'], bins=75)\n",
    "#title the plot number of days with company for people that churned\n",
    "plt.title('Number of months with company for people that churned')\n",
    "plt.xlabel('Number of months')\n",
    "plt.ylabel('Number of people')\n",
    "\n",
    "\n",
    "plt.show()"
   ]
  },
  {
   "cell_type": "markdown",
   "id": "8541547c",
   "metadata": {},
   "source": [
    "The data reveals that the majority of customers who left the service did so within the first few months. This indicates a strong correlation between the number of months a customer has been using the service and their likelihood of leaving. Therefore, it is crucial to include this feature in our predictive model.\n",
    "\n",
    "To improve retention, it may be necessary to target newer members with more aggressive promotions or ad campaigns, as they are the most likely to cancel early on.\n",
    "\n",
    "### How much does the average user spend? \n",
    "\n",
    "Next, we will examine the spending habits of users, comparing the differences between churned and active customers."
   ]
  },
  {
   "cell_type": "code",
   "execution_count": null,
   "id": "e94f9947",
   "metadata": {},
   "outputs": [],
   "source": [
    "#create plot between monthly charges and churn for people that churned and didnt churn\n",
    "plt.boxplot([df_all[df_all['churn'] == 1]['monthly_charges'], df_all[df_all['churn'] == 0]['monthly_charges']])\n",
    "\n",
    "#title the plot monthly charges for people that churned and didnt churn\n",
    "plt.title('Monthly charges for people that churned and didnt churn')\n",
    "plt.ylabel('Monthly charges')\n",
    "\n",
    "#label the x axis\n",
    "plt.xticks([1, 2], ['Churned', 'Didnt Churn'])\n",
    "\n",
    "plt.show()\n",
    "\n",
    "#delete null values in total charges and total_charges s\n",
    "df_all = df_all[df_all['total_charges'].notna()]\n",
    "df_all = df_all[df_all['total_charges'].notna()]\n",
    "\n",
    "\n",
    "#create boxplot between total charges and churn for people that churned and didnt churn\n",
    "plt.boxplot([df_all[df_all['churn'] == 1]['total_charges'], df_all[df_all['churn'] == 0]['total_charges']])\n",
    "#title the plot total charges for people that churned and didnt churn\n",
    "plt.title('Total charges for people that churned and didnt churn')\n",
    "plt.ylabel('Total charges')\n",
    "\n",
    "#label the x axis\n",
    "plt.xticks([1, 2], ['Churned', 'Didnt Churn'])\n"
   ]
  },
  {
   "cell_type": "markdown",
   "id": "0acc527e",
   "metadata": {},
   "source": [
    "From this boxplot, we can see that, on average, people who leave the service spend more money per month, as indicated by the higher median and interquartile range.\n",
    "\n",
    "For total charges, the trend is reversed. Active users spend more in total, which makes sense since they have likely been using the service for a longer period. An interesting observation is that churned users have many more outliers with high spending.\n",
    "\n",
    "This information is significant because it may indicate that high monthly spenders are more likely to be dissatisfied with the service or a specific expensive add-on.\n",
    "\n",
    "### Churn Based on Additional Services Purchased or Not"
   ]
  },
  {
   "cell_type": "code",
   "execution_count": null,
   "id": "6ccd6a88",
   "metadata": {},
   "outputs": [],
   "source": [
    "#create a 2x4 plot\n",
    "fig, axs = plt.subplots(nrows=2, ncols=3, figsize=(16, 8))\n",
    "\n",
    "#use groupby to see the mean of churn for each column and then plot it\n",
    "df_all.groupby('online_security')['churn'].mean().plot(kind='bar', ax=axs[0, 0])\n",
    "df_all.groupby('online_backup')['churn'].mean().plot(kind='bar', ax=axs[0, 1])\n",
    "df_all.groupby('device_protection')['churn'].mean().plot(kind='bar', ax=axs[0, 2])\n",
    "df_all.groupby('tech_support')['churn'].mean().plot(kind='bar', ax=axs[1, 0])\n",
    "df_all.groupby('streaming_tv')['churn'].mean().plot(kind='bar', ax=axs[1, 1])\n",
    "df_all.groupby('streaming_movies')['churn'].mean().plot(kind='bar', ax=axs[1, 2])\n",
    "\n",
    "plt.show()"
   ]
  },
  {
   "cell_type": "markdown",
   "id": "6d7a991b",
   "metadata": {},
   "source": [
    "### Churn Based on Additional Services\n",
    "\n",
    "The chart above illustrates the churn rate for each type of extra service offered. We observe that services such as online security, backup, device protection, and tech support show a significantly higher churn rate among customers who do not purchase these additional services.\n",
    "\n",
    "However, for streaming services, customers who subscribe to them have higher churn rates. This may correlate with our previous observation that higher spenders are more likely to leave. It suggests that users who rely on streaming services may be experiencing dissatisfaction.\n",
    "\n",
    "In summary, adding extra services, except for streaming services, appears to decrease the likelihood of a customer leaving. These findings highlight the importance of including these features in our model training.\n",
    "\n",
    "### Churn Differences Between Types of People\n",
    "\n",
    "Next, we will analyze churn differences based on various demographic factors such as gender, senior status, whether or not they have partners, and if they have dependents.\n"
   ]
  },
  {
   "cell_type": "code",
   "execution_count": null,
   "id": "7e34514b",
   "metadata": {},
   "outputs": [],
   "source": [
    "#create a new set of \n",
    "\n",
    "#create a 2x4 plot\n",
    "fig, axs = plt.subplots(nrows=2, ncols=2, figsize=(16, 8))\n",
    "\n",
    "#use groupby to see the mean of churn for each column and then plot it\n",
    "df_all.groupby('gender')['churn'].mean().plot(kind='bar', ax=axs[0, 0])\n",
    "df_all.groupby('senior_citizen')['churn'].mean().plot(kind='bar', ax=axs[0, 1])\n",
    "df_all.groupby('partner')['churn'].mean().plot(kind='bar', ax=axs[1, 0])\n",
    "df_all.groupby('dependents')['churn'].mean().plot(kind='bar', ax=axs[1, 1])\n",
    "\n",
    "plt.show()"
   ]
  },
  {
   "cell_type": "markdown",
   "id": "ba3ca475",
   "metadata": {},
   "source": [
    "### Churn Differences Between Types of People\n",
    "\n",
    "Senior citizens have a higher rate of leaving. However, couples and families have lower rates of leaving. This makes sense because couples and families typically have more than one member, making it more of an effort to change multiple people's service provider.\n",
    "\n",
    "### Differences in Churn Rates Based on the Type of Payment\n",
    "\n",
    "Next, we will examine the differences in churn rates based on the type of payment, including factors such as paperless billing and the payment method used."
   ]
  },
  {
   "cell_type": "code",
   "execution_count": null,
   "id": "241eea02",
   "metadata": {},
   "outputs": [],
   "source": [
    "#create 1x1 plot\n",
    "fig, axs = plt.subplots(nrows=1, ncols=1, figsize=(16, 8))\n",
    "\n",
    "#use groupby to see the mean of churn for each column and then plot it\n",
    "df_all.groupby('paperless_billing')['churn'].mean().plot(kind='bar', ax=axs)\n",
    "\n",
    "plt.show()"
   ]
  },
  {
   "cell_type": "markdown",
   "id": "4c81b5a9",
   "metadata": {},
   "source": [
    "It seems that users who have paperless billing have higher rates of leaving. I'm not sure why this is the case, but it still indicates that it is an important piece of information.\n",
    "\n",
    "### Differences in Churn Rates Based on the Type of Payment\n",
    "\n",
    "Next, we will examine the differences in churn rates based on the type of payment, including factors such as paperless billing and the payment method used."
   ]
  },
  {
   "cell_type": "code",
   "execution_count": null,
   "id": "f2628b88",
   "metadata": {},
   "outputs": [],
   "source": [
    "#create \n",
    "fig, axs = plt.subplots(nrows=1, ncols=1, figsize=(16, 8))\n",
    "\n",
    "#group by payment method and see the mean churn for each payment method\n",
    "df_all.groupby(['electronic_check', 'mailed_check', 'bank_transfer', 'credit_card'])['churn'].mean().plot(kind='bar', ax=axs)\n",
    "\n",
    "#title the plot mean churn for each payment method\n",
    "plt.title('Mean churn for each payment method')\n",
    "plt.ylabel('Mean churn')\n",
    "plt.xlabel('Payment method')\n",
    "\n",
    "plt.xticks([0, 1, 2, 3], ['Bank transfer', 'Credit card', 'Electronic check', 'Mailed check'])\n",
    "plt.show()"
   ]
  },
  {
   "cell_type": "markdown",
   "id": "b34ac128",
   "metadata": {},
   "source": [
    "It appears that customers who use credit cards have a higher churn rate, which is an interesting observation.\n",
    "\n",
    "### EDA Conclusion\n",
    "\n",
    "In conclusion, several distinct correlations between churn rates and various features in the dataset have been identified.\n",
    "\n",
    "The most notable finding is that the majority of users who left the service did so within the first few months. To address this, the company could implement aggressive promotions and discounts targeting newer users to improve retention. Additionally, offering promotions for additional services like online security could be beneficial, as customers who purchase add-ons are more likely to remain with the service."
   ]
  },
  {
   "cell_type": "markdown",
   "id": "70465252",
   "metadata": {},
   "source": [
    "# WORK PLAN\n",
    "\n",
    "### Clarifying Questions\n",
    "\n",
    "1. **Definition of Churn**: What defines churn to the company? For example, how many months of inactivity classify a customer as churned?\n",
    "2. **Model Constraints**: Are there any constraints on the types of models that can be used, such as interpretability requirements or computational limits?\n",
    "3. **Evaluation Metrics**: Besides the AUC-ROC score, are there any other evaluation metrics that should be considered, such as precision, recall, or F1-score, especially given the class imbalance?\n",
    "4. **High-Risk Customers**: Do we need to identify high-risk customers, and how frequently will the data be updated?\n",
    "\n",
    "### Rough Plan for Solving the Task   \n",
    "\n",
    "1. **Data Cleaning and Preprocessing**:   COMPLETED Please provide feedback or improvement\n",
    "   - **Objective**: Ensure that the dataset is complete and in a format suitable for analysis.\n",
    "   - **Steps**: \n",
    "     - Fill in missing values.\n",
    "     - Standardize column names.\n",
    "     - Convert necessary columns to the appropriate data types.\n",
    "     - Encode categorical variables.\n",
    "\n",
    "2. **Exploratory Data Analysis (EDA)**:  COMPLETED Please provide feedback or improvement\n",
    "   - **Objective**: Identify trends, correlations, and patterns within the data that are relevant to customer churn.\n",
    "   - **Steps**:\n",
    "     - Visualize the distribution of key features in relation to churn.\n",
    "     - Analyze the balance of the dataset and investigate class imbalances.\n",
    "     - Identify potential features that correlate strongly with churn, such as tenure, monthly charges, and additional services.\n",
    "\n",
    "3. **Feature Engineering**:\n",
    "   - **Objective**: Create new features and refine existing ones to improve the model’s predictive power.\n",
    "   - **Steps**:\n",
    "     - Create binary indicators for whether customers use additional services.\n",
    "     - Calculate the tenure of customers based on their contract dates.\n",
    "     - Scale numerical features using Min-Max scaling.\n",
    "\n",
    "4. **Model Building and Evaluation**:\n",
    "   - **Objective**: Develop a predictive model to identify customers likely to churn and evaluate its performance.\n",
    "   - **Steps**:\n",
    "     - Split the data into training and testing sets.\n",
    "     - Use boosting algorithms like XGBoost, LightGBM, and CatBoost for classification.\n",
    "     - Perform hyperparameter optimization using GridSearchCV.\n",
    "     - Evaluate model performance using AUC-ROC score and other relevant metrics.\n",
    "\n",
    "5. **Model Interpretation and Actionable Insights**:\n",
    "   - **Objective**: Interpret the model results and derive actionable insights to help the business reduce churn.\n",
    "   - **Steps**:\n",
    "     - Identify key features that contribute to churn predictions.\n",
    "     - Provide recommendations for targeted promotions and retention strategies based on model insights.\n",
    "     - Create visualizations to communicate findings to stakeholders.\n"
   ]
  },
  {
   "cell_type": "markdown",
   "id": "c85bbc06",
   "metadata": {},
   "source": [
    "<div class=\"alert alert-success\">\n",
    "<b>Reviewer's comment</b>\n",
    "\n",
    "Excellent work on data preprocessing and EDA! Dataframes were merged correctly\n",
    "\n",
    "</div>"
   ]
  },
  {
   "cell_type": "markdown",
   "id": "8f0e1b8b",
   "metadata": {},
   "source": [
    "## Creating Dataset for Model and Final Modifications after EDA\n",
    "\n",
    "1. **Remove Unnecessary Columns**:\n",
    "   - Delete all unnecessary columns, including one column from each one-hot encoded feature.\n",
    "\n",
    "2. **Split the Dataset**:\n",
    "   - Use `train_test_split` to divide the dataset into training and testing sets.\n",
    "\n",
    "3. **Balance the Dataset**:\n",
    "   - Use SMOTE to balance the dataset and address class imbalance."
   ]
  },
  {
   "cell_type": "code",
   "execution_count": null,
   "id": "bc9ec0e4",
   "metadata": {},
   "outputs": [],
   "source": [
    "#categorize tenure into 3 categories. 0-6 months, 6-12 months, and 12+ months\n",
    "\n",
    "#use np.where to create a new column called tenure_cat that is 0 if tenure is 0-6 months, 1 if tenure is 6-12 months, and 2 if tenure is 12+ months\n",
    "\n",
    "df_all['tenure_cat'] = np.where(df_all['tenure'] <= 6, 0, np.where(df_all['tenure'] <= 12, 1, 2))"
   ]
  },
  {
   "cell_type": "code",
   "execution_count": null,
   "id": "e4c79808",
   "metadata": {},
   "outputs": [],
   "source": [
    "#delete unnecesaray columns\n",
    "df_combined = df_all.drop(['gender','customer_id', 'month', 'begin_date', 'end_date', 'tenure'], axis=1)\n",
    "\n",
    "#drop 1 of the columns from each of the onehot encoded columns\n",
    "df_combined = df_combined.drop(['fiber_optic', 'Month_to_month', 'electronic_check'], axis=1)"
   ]
  },
  {
   "cell_type": "code",
   "execution_count": null,
   "id": "2cd84f57",
   "metadata": {},
   "outputs": [],
   "source": [
    "df_combined.columns"
   ]
  },
  {
   "cell_type": "markdown",
   "id": "a1f89d9a",
   "metadata": {},
   "source": [
    "<div class=\"alert alert-success\">\n",
    "<b>Reviewer's comment</b>\n",
    "\n",
    "The features look good, there doesn't seem to be any data leakage\n",
    "\n",
    "</div>"
   ]
  },
  {
   "cell_type": "code",
   "execution_count": null,
   "id": "a954aec5",
   "metadata": {},
   "outputs": [],
   "source": [
    "#delete the index\n",
    "df_combined = df_combined.reset_index(drop=True)"
   ]
  },
  {
   "cell_type": "code",
   "execution_count": null,
   "id": "03df64ac",
   "metadata": {},
   "outputs": [],
   "source": [
    "X = df_combined.drop('churn', axis=1)\n",
    "y = df_combined['churn']\n",
    "\n",
    "X_train, X_test, y_train, y_test = train_test_split(X, y, test_size=0.3, random_state=12345)"
   ]
  },
  {
   "cell_type": "markdown",
   "id": "e0319f0a",
   "metadata": {},
   "source": [
    "<div class=\"alert alert-success\">\n",
    "<b>Reviewer's comment</b>\n",
    "\n",
    "The data split is reasonable\n",
    "\n",
    "</div>"
   ]
  },
  {
   "cell_type": "code",
   "execution_count": null,
   "id": "a008678c",
   "metadata": {},
   "outputs": [],
   "source": [
    "print(X_train.shape)\n",
    "print(X_test.shape)"
   ]
  },
  {
   "cell_type": "code",
   "execution_count": null,
   "id": "a3e482a5",
   "metadata": {},
   "outputs": [],
   "source": [
    "#scale monthly charges and total charges\n",
    "scaler = StandardScaler()\n",
    "\n",
    "#for cross validation datasets so i can use pipeline\n",
    "X_train_scaled = X_train.copy()\n",
    "X_test_scaled = X_test.copy()\n",
    "\n",
    "#scale for the training monthly charges\n",
    "scaler.fit(X_train_scaled[['monthly_charges']])\n",
    "#now use fitted scaler to transform the training and test data\n",
    "X_train_scaled['monthly_charges_s'] = scaler.transform(X_train_scaled[['monthly_charges']])\n",
    "X_test_scaled['monthly_charges_s'] = scaler.transform(X_test_scaled[['monthly_charges']])\n",
    "\n",
    "#do the same for total charges\n",
    "scaler.fit(X_train_scaled[['total_charges']])\n",
    "X_train_scaled['total_charges_s'] = scaler.transform(X_train_scaled[['total_charges']])\n",
    "X_test_scaled['total_charges_s'] = scaler.transform(X_test_scaled[['total_charges']])\n",
    "\n",
    "#drop the original columns\n",
    "X_train_scaled = X_train_scaled.drop(['monthly_charges', 'total_charges'], axis=1)\n",
    "X_test_scaled = X_test_scaled.drop(['monthly_charges', 'total_charges'], axis=1)"
   ]
  },
  {
   "cell_type": "markdown",
   "id": "97b2cf0e",
   "metadata": {},
   "source": [
    "<div class=\"alert alert-success\">\n",
    "<b>Reviewer's comment</b>\n",
    "\n",
    "Scaling was applied correctly\n",
    "\n",
    "</div>"
   ]
  },
  {
   "cell_type": "markdown",
   "id": "f4d96f6f",
   "metadata": {},
   "source": [
    "### Using SMOTE to Address the Imbalance Problem of Churn vs. No Churn\n",
    "\n",
    "To ensure our model is not biased towards the majority class, we will use SMOTE (Synthetic Minority Over-sampling Technique) to balance the dataset by generating synthetic samples for the minority class (churned customers)."
   ]
  },
  {
   "cell_type": "code",
   "execution_count": null,
   "id": "188fb51f",
   "metadata": {},
   "outputs": [],
   "source": [
    "!pip install imbalanced-learn"
   ]
  },
  {
   "cell_type": "code",
   "execution_count": null,
   "id": "d3ba7c26",
   "metadata": {},
   "outputs": [],
   "source": [
    "#start smote\n",
    "smote = SMOTE()\n",
    "\n",
    "#fit smote using the X_train_\n",
    "X_train_smote, y_train_smote = smote.fit_resample(X_train_scaled, y_train)\n",
    "\n",
    "#check the shape of the new data\n",
    "print(X_train_smote.columns)"
   ]
  },
  {
   "cell_type": "code",
   "execution_count": null,
   "id": "c5135ee9",
   "metadata": {
    "scrolled": true
   },
   "outputs": [],
   "source": [
    "#see how many people churned vs how many didnt \n",
    "y_train_smote.value_counts()"
   ]
  },
  {
   "cell_type": "markdown",
   "id": "97946c77",
   "metadata": {},
   "source": [
    "<div class=\"alert alert-success\">\n",
    "<b>Reviewer's comment</b>\n",
    "\n",
    "Good idea to use oversampling to deal with class imbalance and it was correctly applied only to the train set\n",
    "\n",
    "</div>"
   ]
  },
  {
   "cell_type": "markdown",
   "id": "3bea8ee7",
   "metadata": {},
   "source": [
    "# Training Logistic Regression on Balanced Dataset"
   ]
  },
  {
   "cell_type": "code",
   "execution_count": null,
   "id": "4696df89",
   "metadata": {},
   "outputs": [],
   "source": [
    "#logistic regression\n",
    "reg = LogisticRegression()\n",
    "\n",
    "reg.fit(X_train_smote, y_train_smote)\n",
    "y_pred = reg.predict_proba(X_test_scaled)\n",
    "\n",
    "#to see positive instances\n",
    "y_proba_pos = y_pred[:, 1]\n",
    "\n",
    "#score\n",
    "print(roc_auc_score(y_test, y_proba_pos))"
   ]
  },
  {
   "cell_type": "markdown",
   "id": "e78afba1",
   "metadata": {},
   "source": [
    "Test out different boosting models\n",
    "lgbm\n",
    "catboost\n",
    "use gridsearch to determine best params"
   ]
  },
  {
   "cell_type": "code",
   "execution_count": null,
   "id": "65b3cdc4",
   "metadata": {},
   "outputs": [],
   "source": [
    "#create a gridsearch function that uses SMOTE for balancing and standard scaler to scale values\n",
    "def grid_search(X_train, y_train, model):\n",
    "\n",
    "    #define params\n",
    "    param_grid = {\n",
    "        'classifier__learning_rate': [0.001, 0.01, 0.1, 0.5],  \n",
    "        'classifier__max_depth': [3, 5, 7, 10],            \n",
    "        'classifier__n_estimators': [100, 200, 500, 1000, 2000] \n",
    "        }\n",
    "    \n",
    "    #create pipeline with custom model\n",
    "    pipeline = ImbPipeline([\n",
    "        ('scaler', StandardScaler()),\n",
    "        ('smote', SMOTE(random_state=12345)),\n",
    "        ('classifier', model)\n",
    "    ])\n",
    "\n",
    "    #scorer \n",
    "    roc_auc_scorer = make_scorer(roc_auc_score, needs_proba=True)\n",
    "\n",
    "    #define gridsearch\n",
    "    grid_search = GridSearchCV(estimator=pipeline,\n",
    "                           param_grid=param_grid,\n",
    "                           scoring=roc_auc_scorer,\n",
    "                           cv=5,\n",
    "                           verbose=1, \n",
    "                           n_jobs=-1)\n",
    "    \n",
    "    #fit the pipeline\n",
    "    grid_search.fit(X_train, y_train)\n",
    "\n",
    "    # Best ROC-AUC score\n",
    "    print(\"Best ROC-AUC Score:\", grid_search.best_score_)\n",
    "\n",
    "    # Best parameters found\n",
    "    print(\"Best Parameters:\", grid_search.best_params_)"
   ]
  },
  {
   "cell_type": "markdown",
   "id": "a212cab8",
   "metadata": {},
   "source": [
    "<div class=\"alert alert-success\">\n",
    "<b>Reviewer's comment</b>\n",
    "\n",
    "Very nice! You used pipelines to correctly apply scaling and oversampling for cross-validation\n",
    "\n",
    "</div>"
   ]
  },
  {
   "cell_type": "code",
   "execution_count": null,
   "id": "56c0e0c1",
   "metadata": {},
   "outputs": [],
   "source": [
    "#run gridsearch on LGBMClassifier\n",
    "grid_search(X_train, y_train, LGBMClassifier())"
   ]
  },
  {
   "cell_type": "code",
   "execution_count": null,
   "id": "9aa63d0c",
   "metadata": {},
   "outputs": [],
   "source": [
    "#run gridsearch on catboost\n",
    "grid_search(X_train, y_train, CatBoostClassifier())"
   ]
  },
  {
   "cell_type": "code",
   "execution_count": null,
   "id": "9236c963",
   "metadata": {},
   "outputs": [],
   "source": [
    "#use best params to create new model\n",
    "lgbm = LGBMClassifier(learning_rate=0.01, max_depth=5, n_estimators=200)\n",
    "\n",
    "#fit\n",
    "lgbm.fit(X_train_smote, y_train_smote)\n",
    "\n",
    "#predict\n",
    "y_pred = lgbm.predict_proba(X_test_scaled)\n",
    "\n",
    "#to see positive instances\n",
    "y_proba_pos = y_pred[:, 1]\n",
    "\n",
    "#score\n",
    "print(roc_auc_score(y_test, y_proba_pos))"
   ]
  },
  {
   "cell_type": "code",
   "execution_count": null,
   "id": "19074a0d",
   "metadata": {},
   "outputs": [],
   "source": [
    "#use best params to create new model\n",
    "cat = CatBoostClassifier(learning_rate=0.01, max_depth=3, n_estimators=1000)\n",
    "\n",
    "#fit\n",
    "cat.fit(X_train_smote, y_train_smote)\n",
    "\n",
    "y_pred = cat.predict_proba(X_test_scaled)\n",
    "\n",
    "#to see positive instances\n",
    "y_proba_pos = y_pred[:, 1]\n",
    "\n",
    "#score\n",
    "print(roc_auc_score(y_test, y_proba_pos))"
   ]
  },
  {
   "cell_type": "markdown",
   "id": "a944df27",
   "metadata": {},
   "source": [
    "<div class=\"alert alert-success\">\n",
    "<b>Reviewer's comment</b>\n",
    "\n",
    "Great, you tried a few different models, tuned their hyperparameters using cross-validation and evaluated the final models on the test set.\n",
    "\n",
    "</div>"
   ]
  },
  {
   "cell_type": "markdown",
   "id": "37904ca6",
   "metadata": {},
   "source": [
    "Final Scores and Conclusion\n",
    "Throughout this project, we delved into the intricacies of customer churn with the aim of identifying potential patterns that distinguish churned customers from active members. Our exploratory data analysis (EDA) revealed many interesting patterns in the data, setting the stage for our predictive models. One of the most intriguing patterns we found was that a significant portion of churn occurred among the newest members (less than 5 months of active membership).\n",
    "\n",
    "We employed several models, primarily focusing on gradient boosting due to the nonlinearity in the data. This approach led to models that effectively predict churn versus non-churn rates, achieving performance above the 75 ROC-AUC minimum threshold.\n",
    "\n",
    "The best score we achieved was an AUC-ROC of 84 with the CatBoost classifier. The hyperparameters for this model were: learning_rate = 0.01, max_depth = 3, and n_estimators = 1000.\n",
    "\n",
    "Report Questions\n",
    "What steps of the plan were performed and what steps were skipped (explain why)?\n",
    "\n",
    "Performed Steps: We conducted comprehensive EDA, data preprocessing, feature engineering, and model training and evaluation. We focused on gradient boosting models due to the data's nonlinearity.\n",
    "Skipped Steps: Certain advanced hyperparameter tuning methods were skipped due to computational resource limitations and time constraints.\n",
    "What difficulties did you encounter and how did you manage to solve them?\n",
    "\n",
    "Difficulties: One major challenge was handling the class imbalance in the dataset. We addressed this by using techniques like SMOTE (Synthetic Minority Over-sampling Technique) to balance the training data.\n",
    "What were some of the key steps to solving the task?\n",
    "\n",
    "Conducting thorough EDA to uncover important patterns in the data.\n",
    "Implementing effective data preprocessing and feature engineering.\n",
    "Employing gradient boosting models, particularly CatBoost, to handle nonlinearity and achieve high predictive performance.\n",
    "What is your final model and what quality score does it have?\n",
    "\n",
    "Our final model is the CatBoost classifier, which achieved an AUC-ROC score of 84."
   ]
  },
  {
   "cell_type": "markdown",
   "id": "c66cbf64",
   "metadata": {},
   "source": [
    "Report\n",
    "What steps of the plan were performed and what steps were skipped (explain why)?\n",
    "I believe I completed all the steps that I had planned for and there was nothing that I felt necessary to skip. Everything from data preparation, exploratory data analysis (EDA), final modifications, and model training were necessary for me to complete the project.\n",
    "\n",
    "What difficulties did you encounter and how did you manage to solve them?\n",
    "I encountered some difficulties in the data preparation segment of the project. I made a couple of errors in properly scaling and preparing the data for use in cross-validation, and in encoding without data leakage. These were relatively simple problems that didn't require a lot of time to solve but had the potential to drastically alter the results of the project if they hadn't been corrected.\n",
    "\n",
    "What were some of the key steps to solving the task?\n",
    "In each step of the project, there were key actions that contributed to solving the task:\n",
    "\n",
    "EDA: Understanding all the features was crucial since there were many that covered different aspects of each customer. Spending time to decipher each feature and create visual diagrams to show relationships between them and churn was essential for understanding the data.\n",
    "Data Preparation: Being thorough and meticulous in handling the data was important. Ensuring the data was scaled without leakage between training and test sets, using proper One-Hot Encoding (OHE) techniques, and employing appropriate sampling techniques were key steps.\n",
    "Model Training: Using GridSearchCV was pivotal in finding the best hyperparameters, making the process simpler and more efficient.\n",
    "What is your final model and what quality score does it have?\n",
    "My final model is the CatBoost classifier with a learning rate (lr) of 0.01, max depth of 3, and 1000 estimators. I achieved an ROC-AUC score of 84.4."
   ]
  },
  {
   "cell_type": "code",
   "execution_count": null,
   "id": "1c235a53",
   "metadata": {},
   "outputs": [],
   "source": []
  },
  {
   "cell_type": "code",
   "execution_count": null,
   "id": "9dd85657",
   "metadata": {},
   "outputs": [],
   "source": []
  },
  {
   "cell_type": "code",
   "execution_count": null,
   "id": "40d9fe2c",
   "metadata": {},
   "outputs": [],
   "source": []
  },
  {
   "cell_type": "code",
   "execution_count": null,
   "id": "b2c1481b",
   "metadata": {},
   "outputs": [],
   "source": []
  },
  {
   "cell_type": "code",
   "execution_count": null,
   "id": "313997c5",
   "metadata": {},
   "outputs": [],
   "source": []
  },
  {
   "cell_type": "code",
   "execution_count": null,
   "id": "9a1efde7",
   "metadata": {},
   "outputs": [],
   "source": []
  },
  {
   "cell_type": "code",
   "execution_count": null,
   "id": "fdfe77ff",
   "metadata": {},
   "outputs": [],
   "source": []
  },
  {
   "cell_type": "code",
   "execution_count": null,
   "id": "d8ca79bc",
   "metadata": {},
   "outputs": [],
   "source": []
  }
 ],
 "metadata": {
  "ExecuteTimeLog": [
   {
    "duration": 25843,
    "start_time": "2024-05-31T21:13:55.429Z"
   },
   {
    "duration": 2099,
    "start_time": "2024-05-31T21:14:54.987Z"
   },
   {
    "duration": 11427,
    "start_time": "2024-05-31T21:15:28.981Z"
   },
   {
    "duration": 39,
    "start_time": "2024-05-31T21:15:44.636Z"
   },
   {
    "duration": 725,
    "start_time": "2024-05-31T21:19:17.607Z"
   },
   {
    "duration": 89,
    "start_time": "2024-05-31T21:19:43.793Z"
   },
   {
    "duration": 32,
    "start_time": "2024-05-31T21:20:07.017Z"
   },
   {
    "duration": 24,
    "start_time": "2024-05-31T21:20:27.267Z"
   },
   {
    "duration": 27,
    "start_time": "2024-05-31T21:20:45.465Z"
   },
   {
    "duration": 29,
    "start_time": "2024-05-31T21:21:26.569Z"
   },
   {
    "duration": 67,
    "start_time": "2024-05-31T21:22:23.182Z"
   },
   {
    "duration": 12,
    "start_time": "2024-05-31T21:26:55.421Z"
   },
   {
    "duration": 0,
    "start_time": "2024-05-31T21:26:55.436Z"
   },
   {
    "duration": 0,
    "start_time": "2024-05-31T21:26:55.439Z"
   },
   {
    "duration": 0,
    "start_time": "2024-05-31T21:26:55.442Z"
   },
   {
    "duration": 0,
    "start_time": "2024-05-31T21:26:55.445Z"
   },
   {
    "duration": 0,
    "start_time": "2024-05-31T21:26:55.447Z"
   },
   {
    "duration": 0,
    "start_time": "2024-05-31T21:26:55.450Z"
   },
   {
    "duration": 0,
    "start_time": "2024-05-31T21:26:55.452Z"
   },
   {
    "duration": 0,
    "start_time": "2024-05-31T21:26:55.457Z"
   },
   {
    "duration": 11147,
    "start_time": "2024-05-31T21:27:11.854Z"
   },
   {
    "duration": 2091,
    "start_time": "2024-05-31T21:27:23.005Z"
   },
   {
    "duration": 0,
    "start_time": "2024-05-31T21:27:25.099Z"
   },
   {
    "duration": 0,
    "start_time": "2024-05-31T21:27:25.102Z"
   },
   {
    "duration": 0,
    "start_time": "2024-05-31T21:27:25.113Z"
   },
   {
    "duration": 0,
    "start_time": "2024-05-31T21:27:25.115Z"
   },
   {
    "duration": 0,
    "start_time": "2024-05-31T21:27:25.117Z"
   },
   {
    "duration": 0,
    "start_time": "2024-05-31T21:27:25.119Z"
   },
   {
    "duration": 52,
    "start_time": "2024-05-31T21:27:32.894Z"
   },
   {
    "duration": 24,
    "start_time": "2024-05-31T21:27:34.163Z"
   },
   {
    "duration": 25,
    "start_time": "2024-05-31T21:27:34.503Z"
   },
   {
    "duration": 31,
    "start_time": "2024-05-31T21:27:34.971Z"
   },
   {
    "duration": 27,
    "start_time": "2024-05-31T21:27:35.202Z"
   },
   {
    "duration": 60,
    "start_time": "2024-05-31T21:27:38.670Z"
   },
   {
    "duration": 16,
    "start_time": "2024-05-31T21:34:43.587Z"
   },
   {
    "duration": 21,
    "start_time": "2024-05-31T21:34:43.783Z"
   },
   {
    "duration": 3,
    "start_time": "2024-05-31T21:34:43.974Z"
   },
   {
    "duration": 5,
    "start_time": "2024-05-31T21:34:44.145Z"
   },
   {
    "duration": 9,
    "start_time": "2024-05-31T21:34:44.335Z"
   },
   {
    "duration": 41,
    "start_time": "2024-05-31T21:34:44.518Z"
   },
   {
    "duration": 11,
    "start_time": "2024-05-31T21:41:05.141Z"
   },
   {
    "duration": 880,
    "start_time": "2024-05-31T21:41:05.325Z"
   },
   {
    "duration": 0,
    "start_time": "2024-05-31T21:41:06.213Z"
   },
   {
    "duration": 0,
    "start_time": "2024-05-31T21:41:06.216Z"
   },
   {
    "duration": 0,
    "start_time": "2024-05-31T21:41:06.219Z"
   },
   {
    "duration": 0,
    "start_time": "2024-05-31T21:41:06.222Z"
   },
   {
    "duration": 6,
    "start_time": "2024-05-31T21:41:06.227Z"
   },
   {
    "duration": 21,
    "start_time": "2024-05-31T21:41:06.560Z"
   },
   {
    "duration": 13,
    "start_time": "2024-05-31T21:41:10.235Z"
   },
   {
    "duration": 7,
    "start_time": "2024-05-31T21:41:10.456Z"
   },
   {
    "duration": 16,
    "start_time": "2024-05-31T21:41:10.633Z"
   },
   {
    "duration": 17,
    "start_time": "2024-05-31T21:41:10.828Z"
   },
   {
    "duration": 112,
    "start_time": "2024-05-31T21:44:27.312Z"
   },
   {
    "duration": 5,
    "start_time": "2024-05-31T21:45:40.166Z"
   },
   {
    "duration": 813,
    "start_time": "2024-05-31T21:45:40.727Z"
   },
   {
    "duration": 0,
    "start_time": "2024-05-31T21:45:41.542Z"
   },
   {
    "duration": 0,
    "start_time": "2024-05-31T21:45:41.544Z"
   },
   {
    "duration": 0,
    "start_time": "2024-05-31T21:45:41.546Z"
   },
   {
    "duration": 256,
    "start_time": "2024-05-31T21:45:41.664Z"
   },
   {
    "duration": 252,
    "start_time": "2024-05-31T21:45:42.872Z"
   },
   {
    "duration": 6,
    "start_time": "2024-05-31T21:45:43.842Z"
   },
   {
    "duration": 37,
    "start_time": "2024-05-31T21:45:44.633Z"
   },
   {
    "duration": 143,
    "start_time": "2024-05-31T21:45:45.446Z"
   },
   {
    "duration": 330,
    "start_time": "2024-05-31T21:46:53.883Z"
   },
   {
    "duration": 6,
    "start_time": "2024-05-31T21:46:54.347Z"
   },
   {
    "duration": 11244,
    "start_time": "2024-05-31T21:47:01.482Z"
   },
   {
    "duration": 1788,
    "start_time": "2024-05-31T21:47:12.730Z"
   },
   {
    "duration": 0,
    "start_time": "2024-05-31T21:47:14.523Z"
   },
   {
    "duration": 0,
    "start_time": "2024-05-31T21:47:14.525Z"
   },
   {
    "duration": 0,
    "start_time": "2024-05-31T21:47:14.528Z"
   },
   {
    "duration": 0,
    "start_time": "2024-05-31T21:47:14.530Z"
   },
   {
    "duration": 0,
    "start_time": "2024-05-31T21:47:14.532Z"
   },
   {
    "duration": 0,
    "start_time": "2024-05-31T21:47:14.534Z"
   },
   {
    "duration": 0,
    "start_time": "2024-05-31T21:47:14.538Z"
   },
   {
    "duration": 0,
    "start_time": "2024-05-31T21:47:14.541Z"
   },
   {
    "duration": 0,
    "start_time": "2024-05-31T21:47:14.543Z"
   },
   {
    "duration": 0,
    "start_time": "2024-05-31T21:47:14.544Z"
   },
   {
    "duration": 0,
    "start_time": "2024-05-31T21:47:14.547Z"
   },
   {
    "duration": 0,
    "start_time": "2024-05-31T21:47:14.549Z"
   },
   {
    "duration": 0,
    "start_time": "2024-05-31T21:47:14.553Z"
   },
   {
    "duration": 0,
    "start_time": "2024-05-31T21:47:14.557Z"
   },
   {
    "duration": 1,
    "start_time": "2024-05-31T21:47:14.559Z"
   },
   {
    "duration": 0,
    "start_time": "2024-05-31T21:47:14.612Z"
   },
   {
    "duration": 0,
    "start_time": "2024-05-31T21:47:14.614Z"
   },
   {
    "duration": 0,
    "start_time": "2024-05-31T21:47:14.616Z"
   },
   {
    "duration": 54,
    "start_time": "2024-05-31T21:47:22.682Z"
   },
   {
    "duration": 24,
    "start_time": "2024-05-31T21:47:23.655Z"
   },
   {
    "duration": 23,
    "start_time": "2024-05-31T21:47:24.422Z"
   },
   {
    "duration": 29,
    "start_time": "2024-05-31T21:47:24.633Z"
   },
   {
    "duration": 27,
    "start_time": "2024-05-31T21:47:24.827Z"
   },
   {
    "duration": 61,
    "start_time": "2024-05-31T21:47:25.861Z"
   },
   {
    "duration": 19,
    "start_time": "2024-05-31T21:47:26.982Z"
   },
   {
    "duration": 21,
    "start_time": "2024-05-31T21:47:27.164Z"
   },
   {
    "duration": 4,
    "start_time": "2024-05-31T21:47:27.449Z"
   },
   {
    "duration": 5,
    "start_time": "2024-05-31T21:47:27.664Z"
   },
   {
    "duration": 9,
    "start_time": "2024-05-31T21:47:27.878Z"
   },
   {
    "duration": 34,
    "start_time": "2024-05-31T21:47:28.093Z"
   },
   {
    "duration": 4,
    "start_time": "2024-05-31T21:47:28.893Z"
   },
   {
    "duration": 22,
    "start_time": "2024-05-31T21:47:29.121Z"
   },
   {
    "duration": 12,
    "start_time": "2024-05-31T21:47:29.340Z"
   },
   {
    "duration": 7,
    "start_time": "2024-05-31T21:47:29.540Z"
   },
   {
    "duration": 14,
    "start_time": "2024-05-31T21:47:29.744Z"
   },
   {
    "duration": 7,
    "start_time": "2024-05-31T21:47:29.930Z"
   },
   {
    "duration": 8,
    "start_time": "2024-05-31T21:54:59.406Z"
   },
   {
    "duration": 19,
    "start_time": "2024-05-31T21:55:18.893Z"
   },
   {
    "duration": 357,
    "start_time": "2024-05-31T21:57:25.894Z"
   },
   {
    "duration": 355,
    "start_time": "2024-05-31T21:58:19.797Z"
   },
   {
    "duration": 7,
    "start_time": "2024-05-31T21:59:20.610Z"
   },
   {
    "duration": 922,
    "start_time": "2024-05-31T21:59:46.724Z"
   },
   {
    "duration": 550,
    "start_time": "2024-05-31T22:03:14.979Z"
   },
   {
    "duration": 259,
    "start_time": "2024-05-31T22:04:01.899Z"
   },
   {
    "duration": 292,
    "start_time": "2024-05-31T22:04:46.039Z"
   },
   {
    "duration": 321,
    "start_time": "2024-06-03T03:32:22.801Z"
   },
   {
    "duration": 26,
    "start_time": "2024-06-03T03:32:43.744Z"
   },
   {
    "duration": 56057,
    "start_time": "2024-06-03T03:32:55.757Z"
   },
   {
    "duration": 5883,
    "start_time": "2024-06-03T03:33:51.818Z"
   },
   {
    "duration": 0,
    "start_time": "2024-06-03T03:33:57.706Z"
   },
   {
    "duration": 0,
    "start_time": "2024-06-03T03:33:57.707Z"
   },
   {
    "duration": 0,
    "start_time": "2024-06-03T03:33:57.709Z"
   },
   {
    "duration": 0,
    "start_time": "2024-06-03T03:33:57.710Z"
   },
   {
    "duration": 0,
    "start_time": "2024-06-03T03:33:57.723Z"
   },
   {
    "duration": 0,
    "start_time": "2024-06-03T03:33:57.725Z"
   },
   {
    "duration": 0,
    "start_time": "2024-06-03T03:33:57.727Z"
   },
   {
    "duration": 0,
    "start_time": "2024-06-03T03:33:57.729Z"
   },
   {
    "duration": 0,
    "start_time": "2024-06-03T03:33:57.731Z"
   },
   {
    "duration": 0,
    "start_time": "2024-06-03T03:33:57.734Z"
   },
   {
    "duration": 0,
    "start_time": "2024-06-03T03:33:57.735Z"
   },
   {
    "duration": 0,
    "start_time": "2024-06-03T03:33:57.737Z"
   },
   {
    "duration": 0,
    "start_time": "2024-06-03T03:33:57.739Z"
   },
   {
    "duration": 0,
    "start_time": "2024-06-03T03:33:57.741Z"
   },
   {
    "duration": 0,
    "start_time": "2024-06-03T03:33:57.743Z"
   },
   {
    "duration": 0,
    "start_time": "2024-06-03T03:33:57.749Z"
   },
   {
    "duration": 0,
    "start_time": "2024-06-03T03:33:57.751Z"
   },
   {
    "duration": 0,
    "start_time": "2024-06-03T03:33:57.752Z"
   },
   {
    "duration": 0,
    "start_time": "2024-06-03T03:33:57.753Z"
   },
   {
    "duration": 0,
    "start_time": "2024-06-03T03:33:57.756Z"
   },
   {
    "duration": 0,
    "start_time": "2024-06-03T03:33:57.759Z"
   },
   {
    "duration": 0,
    "start_time": "2024-06-03T03:33:57.761Z"
   },
   {
    "duration": 0,
    "start_time": "2024-06-03T03:33:57.763Z"
   },
   {
    "duration": 0,
    "start_time": "2024-06-03T03:33:57.764Z"
   },
   {
    "duration": 0,
    "start_time": "2024-06-03T03:33:57.766Z"
   },
   {
    "duration": 0,
    "start_time": "2024-06-03T03:33:57.825Z"
   },
   {
    "duration": 0,
    "start_time": "2024-06-03T03:33:57.829Z"
   },
   {
    "duration": 0,
    "start_time": "2024-06-03T03:33:57.831Z"
   },
   {
    "duration": 30,
    "start_time": "2024-06-03T03:34:21.038Z"
   },
   {
    "duration": 96,
    "start_time": "2024-06-03T03:34:21.913Z"
   },
   {
    "duration": 32,
    "start_time": "2024-06-03T03:34:22.105Z"
   },
   {
    "duration": 25,
    "start_time": "2024-06-03T03:34:22.280Z"
   },
   {
    "duration": 30,
    "start_time": "2024-06-03T03:34:22.468Z"
   },
   {
    "duration": 31,
    "start_time": "2024-06-03T03:34:22.647Z"
   },
   {
    "duration": 67,
    "start_time": "2024-06-03T03:34:22.827Z"
   },
   {
    "duration": 15,
    "start_time": "2024-06-03T03:34:23.212Z"
   },
   {
    "duration": 26,
    "start_time": "2024-06-03T03:34:23.421Z"
   },
   {
    "duration": 7,
    "start_time": "2024-06-03T03:34:23.620Z"
   },
   {
    "duration": 5,
    "start_time": "2024-06-03T03:34:23.812Z"
   },
   {
    "duration": 9,
    "start_time": "2024-06-03T03:34:24.014Z"
   },
   {
    "duration": 38,
    "start_time": "2024-06-03T03:34:24.212Z"
   },
   {
    "duration": 4,
    "start_time": "2024-06-03T03:34:24.415Z"
   },
   {
    "duration": 20,
    "start_time": "2024-06-03T03:34:24.611Z"
   },
   {
    "duration": 12,
    "start_time": "2024-06-03T03:34:24.806Z"
   },
   {
    "duration": 7,
    "start_time": "2024-06-03T03:34:25.016Z"
   },
   {
    "duration": 18,
    "start_time": "2024-06-03T03:34:25.215Z"
   },
   {
    "duration": 8,
    "start_time": "2024-06-03T03:34:25.428Z"
   },
   {
    "duration": 10,
    "start_time": "2024-06-03T03:34:25.847Z"
   },
   {
    "duration": 22,
    "start_time": "2024-06-03T03:34:26.255Z"
   },
   {
    "duration": 357,
    "start_time": "2024-06-03T03:34:26.682Z"
   },
   {
    "duration": 350,
    "start_time": "2024-06-03T03:34:27.197Z"
   },
   {
    "duration": 775,
    "start_time": "2024-06-03T03:34:27.593Z"
   },
   {
    "duration": 595,
    "start_time": "2024-06-03T03:34:28.371Z"
   },
   {
    "duration": 368,
    "start_time": "2024-06-03T03:34:28.970Z"
   },
   {
    "duration": 325,
    "start_time": "2024-06-03T03:34:29.341Z"
   },
   {
    "duration": 8,
    "start_time": "2024-06-03T03:34:29.671Z"
   },
   {
    "duration": 10,
    "start_time": "2024-06-03T03:34:30.117Z"
   },
   {
    "duration": 6,
    "start_time": "2024-06-03T03:36:19.532Z"
   },
   {
    "duration": 5,
    "start_time": "2024-06-03T03:41:05.174Z"
   },
   {
    "duration": 6,
    "start_time": "2024-06-03T03:44:26.477Z"
   },
   {
    "duration": 8,
    "start_time": "2024-06-03T03:44:27.003Z"
   },
   {
    "duration": 6,
    "start_time": "2024-06-03T03:44:27.987Z"
   },
   {
    "duration": 4,
    "start_time": "2024-06-03T03:44:31.514Z"
   },
   {
    "duration": 10,
    "start_time": "2024-06-03T03:44:32.808Z"
   },
   {
    "duration": 4,
    "start_time": "2024-06-03T03:44:34.823Z"
   },
   {
    "duration": 30,
    "start_time": "2024-06-03T03:44:36.046Z"
   },
   {
    "duration": 30,
    "start_time": "2024-06-03T03:49:24.546Z"
   },
   {
    "duration": 8,
    "start_time": "2024-06-03T03:49:26.188Z"
   },
   {
    "duration": 29,
    "start_time": "2024-06-03T03:55:44.937Z"
   },
   {
    "duration": 28,
    "start_time": "2024-06-03T03:56:06.114Z"
   },
   {
    "duration": 27,
    "start_time": "2024-06-03T03:56:06.896Z"
   },
   {
    "duration": 5,
    "start_time": "2024-06-03T03:56:14.192Z"
   },
   {
    "duration": 33,
    "start_time": "2024-06-03T03:56:14.401Z"
   },
   {
    "duration": 27,
    "start_time": "2024-06-03T03:56:14.811Z"
   },
   {
    "duration": 22,
    "start_time": "2024-06-03T03:56:15.441Z"
   },
   {
    "duration": 11309,
    "start_time": "2024-06-03T03:56:34.121Z"
   },
   {
    "duration": 2090,
    "start_time": "2024-06-03T03:56:45.434Z"
   },
   {
    "duration": 0,
    "start_time": "2024-06-03T03:56:47.530Z"
   },
   {
    "duration": 0,
    "start_time": "2024-06-03T03:56:47.532Z"
   },
   {
    "duration": 0,
    "start_time": "2024-06-03T03:56:47.534Z"
   },
   {
    "duration": 0,
    "start_time": "2024-06-03T03:56:47.536Z"
   },
   {
    "duration": 0,
    "start_time": "2024-06-03T03:56:47.539Z"
   },
   {
    "duration": 0,
    "start_time": "2024-06-03T03:56:47.541Z"
   },
   {
    "duration": 0,
    "start_time": "2024-06-03T03:56:47.545Z"
   },
   {
    "duration": 0,
    "start_time": "2024-06-03T03:56:47.547Z"
   },
   {
    "duration": 0,
    "start_time": "2024-06-03T03:56:47.551Z"
   },
   {
    "duration": 0,
    "start_time": "2024-06-03T03:56:47.553Z"
   },
   {
    "duration": 0,
    "start_time": "2024-06-03T03:56:47.557Z"
   },
   {
    "duration": 0,
    "start_time": "2024-06-03T03:56:47.559Z"
   },
   {
    "duration": 0,
    "start_time": "2024-06-03T03:56:47.562Z"
   },
   {
    "duration": 0,
    "start_time": "2024-06-03T03:56:47.567Z"
   },
   {
    "duration": 0,
    "start_time": "2024-06-03T03:56:47.569Z"
   },
   {
    "duration": 0,
    "start_time": "2024-06-03T03:56:47.624Z"
   },
   {
    "duration": 0,
    "start_time": "2024-06-03T03:56:47.626Z"
   },
   {
    "duration": 0,
    "start_time": "2024-06-03T03:56:47.629Z"
   },
   {
    "duration": 0,
    "start_time": "2024-06-03T03:56:47.630Z"
   },
   {
    "duration": 0,
    "start_time": "2024-06-03T03:56:47.631Z"
   },
   {
    "duration": 0,
    "start_time": "2024-06-03T03:56:47.633Z"
   },
   {
    "duration": 0,
    "start_time": "2024-06-03T03:56:47.634Z"
   },
   {
    "duration": 0,
    "start_time": "2024-06-03T03:56:47.636Z"
   },
   {
    "duration": 0,
    "start_time": "2024-06-03T03:56:47.639Z"
   },
   {
    "duration": 0,
    "start_time": "2024-06-03T03:56:47.642Z"
   },
   {
    "duration": 0,
    "start_time": "2024-06-03T03:56:47.645Z"
   },
   {
    "duration": 0,
    "start_time": "2024-06-03T03:56:47.647Z"
   },
   {
    "duration": 0,
    "start_time": "2024-06-03T03:56:47.650Z"
   },
   {
    "duration": 0,
    "start_time": "2024-06-03T03:56:47.652Z"
   },
   {
    "duration": 0,
    "start_time": "2024-06-03T03:56:47.654Z"
   },
   {
    "duration": 0,
    "start_time": "2024-06-03T03:56:47.656Z"
   },
   {
    "duration": 0,
    "start_time": "2024-06-03T03:56:47.659Z"
   },
   {
    "duration": 0,
    "start_time": "2024-06-03T03:56:47.661Z"
   },
   {
    "duration": 0,
    "start_time": "2024-06-03T03:56:47.662Z"
   },
   {
    "duration": 0,
    "start_time": "2024-06-03T03:56:47.737Z"
   },
   {
    "duration": 0,
    "start_time": "2024-06-03T03:56:47.740Z"
   },
   {
    "duration": 35,
    "start_time": "2024-06-03T04:00:22.291Z"
   },
   {
    "duration": 57,
    "start_time": "2024-06-03T04:00:22.487Z"
   },
   {
    "duration": 25,
    "start_time": "2024-06-03T04:00:22.684Z"
   },
   {
    "duration": 23,
    "start_time": "2024-06-03T04:00:22.899Z"
   },
   {
    "duration": 27,
    "start_time": "2024-06-03T04:00:23.084Z"
   },
   {
    "duration": 31,
    "start_time": "2024-06-03T04:00:23.283Z"
   },
   {
    "duration": 83,
    "start_time": "2024-06-03T04:00:23.484Z"
   },
   {
    "duration": 16,
    "start_time": "2024-06-03T04:00:23.863Z"
   },
   {
    "duration": 22,
    "start_time": "2024-06-03T04:00:24.059Z"
   },
   {
    "duration": 5,
    "start_time": "2024-06-03T04:00:24.266Z"
   },
   {
    "duration": 5,
    "start_time": "2024-06-03T04:00:24.461Z"
   },
   {
    "duration": 9,
    "start_time": "2024-06-03T04:00:24.681Z"
   },
   {
    "duration": 36,
    "start_time": "2024-06-03T04:00:24.909Z"
   },
   {
    "duration": 4,
    "start_time": "2024-06-03T04:00:25.121Z"
   },
   {
    "duration": 25,
    "start_time": "2024-06-03T04:00:25.332Z"
   },
   {
    "duration": 13,
    "start_time": "2024-06-03T04:00:25.543Z"
   },
   {
    "duration": 7,
    "start_time": "2024-06-03T04:00:25.759Z"
   },
   {
    "duration": 18,
    "start_time": "2024-06-03T04:00:25.981Z"
   },
   {
    "duration": 13,
    "start_time": "2024-06-03T04:00:26.177Z"
   },
   {
    "duration": 9,
    "start_time": "2024-06-03T04:00:26.586Z"
   },
   {
    "duration": 24,
    "start_time": "2024-06-03T04:00:26.968Z"
   },
   {
    "duration": 396,
    "start_time": "2024-06-03T04:00:27.408Z"
   },
   {
    "duration": 416,
    "start_time": "2024-06-03T04:00:27.873Z"
   },
   {
    "duration": 900,
    "start_time": "2024-06-03T04:00:28.308Z"
   },
   {
    "duration": 680,
    "start_time": "2024-06-03T04:00:29.213Z"
   },
   {
    "duration": 279,
    "start_time": "2024-06-03T04:00:29.897Z"
   },
   {
    "duration": 319,
    "start_time": "2024-06-03T04:00:30.179Z"
   },
   {
    "duration": 7,
    "start_time": "2024-06-03T04:00:30.667Z"
   },
   {
    "duration": 8,
    "start_time": "2024-06-03T04:00:30.887Z"
   },
   {
    "duration": 7,
    "start_time": "2024-06-03T04:00:31.107Z"
   },
   {
    "duration": 4,
    "start_time": "2024-06-03T04:00:31.331Z"
   },
   {
    "duration": 10,
    "start_time": "2024-06-03T04:00:31.670Z"
   },
   {
    "duration": 5,
    "start_time": "2024-06-03T04:00:31.924Z"
   },
   {
    "duration": 39,
    "start_time": "2024-06-03T04:00:32.173Z"
   },
   {
    "duration": 56,
    "start_time": "2024-06-03T04:00:32.644Z"
   },
   {
    "duration": 29,
    "start_time": "2024-06-03T04:00:32.886Z"
   },
   {
    "duration": 32,
    "start_time": "2024-06-03T04:00:33.122Z"
   },
   {
    "duration": 6,
    "start_time": "2024-06-03T04:01:49.232Z"
   },
   {
    "duration": 7,
    "start_time": "2024-06-03T04:01:50.294Z"
   },
   {
    "duration": 9,
    "start_time": "2024-06-03T04:01:50.755Z"
   },
   {
    "duration": 7,
    "start_time": "2024-06-03T04:01:51.782Z"
   },
   {
    "duration": 10,
    "start_time": "2024-06-03T04:01:52.228Z"
   },
   {
    "duration": 4,
    "start_time": "2024-06-03T04:01:53.009Z"
   },
   {
    "duration": 30,
    "start_time": "2024-06-03T04:01:54.127Z"
   },
   {
    "duration": 25,
    "start_time": "2024-06-03T04:01:55.710Z"
   },
   {
    "duration": 24,
    "start_time": "2024-06-03T04:01:56.423Z"
   },
   {
    "duration": 28,
    "start_time": "2024-06-03T04:01:57.100Z"
   },
   {
    "duration": 28,
    "start_time": "2024-06-03T04:02:48.476Z"
   },
   {
    "duration": 2839,
    "start_time": "2024-06-03T04:03:34.957Z"
   },
   {
    "duration": 28,
    "start_time": "2024-06-03T04:03:44.396Z"
   },
   {
    "duration": 26,
    "start_time": "2024-06-03T04:03:45.326Z"
   },
   {
    "duration": 24,
    "start_time": "2024-06-03T04:03:45.557Z"
   },
   {
    "duration": 29,
    "start_time": "2024-06-03T04:03:45.732Z"
   },
   {
    "duration": 15869,
    "start_time": "2024-06-03T04:05:02.250Z"
   },
   {
    "duration": 22467,
    "start_time": "2024-06-03T04:06:41.649Z"
   },
   {
    "duration": 2109,
    "start_time": "2024-06-03T04:07:04.119Z"
   },
   {
    "duration": 0,
    "start_time": "2024-06-03T04:07:06.234Z"
   },
   {
    "duration": 0,
    "start_time": "2024-06-03T04:07:06.235Z"
   },
   {
    "duration": 0,
    "start_time": "2024-06-03T04:07:06.238Z"
   },
   {
    "duration": 0,
    "start_time": "2024-06-03T04:07:06.240Z"
   },
   {
    "duration": 0,
    "start_time": "2024-06-03T04:07:06.242Z"
   },
   {
    "duration": 0,
    "start_time": "2024-06-03T04:07:06.243Z"
   },
   {
    "duration": 1,
    "start_time": "2024-06-03T04:07:06.245Z"
   },
   {
    "duration": 0,
    "start_time": "2024-06-03T04:07:06.248Z"
   },
   {
    "duration": 0,
    "start_time": "2024-06-03T04:07:06.250Z"
   },
   {
    "duration": 0,
    "start_time": "2024-06-03T04:07:06.253Z"
   },
   {
    "duration": 0,
    "start_time": "2024-06-03T04:07:06.256Z"
   },
   {
    "duration": 1,
    "start_time": "2024-06-03T04:07:06.258Z"
   },
   {
    "duration": 0,
    "start_time": "2024-06-03T04:07:06.261Z"
   },
   {
    "duration": 0,
    "start_time": "2024-06-03T04:07:06.264Z"
   },
   {
    "duration": 0,
    "start_time": "2024-06-03T04:07:06.266Z"
   },
   {
    "duration": 0,
    "start_time": "2024-06-03T04:07:06.269Z"
   },
   {
    "duration": 0,
    "start_time": "2024-06-03T04:07:06.324Z"
   },
   {
    "duration": 0,
    "start_time": "2024-06-03T04:07:06.327Z"
   },
   {
    "duration": 0,
    "start_time": "2024-06-03T04:07:06.330Z"
   },
   {
    "duration": 0,
    "start_time": "2024-06-03T04:07:06.336Z"
   },
   {
    "duration": 0,
    "start_time": "2024-06-03T04:07:06.338Z"
   },
   {
    "duration": 0,
    "start_time": "2024-06-03T04:07:06.340Z"
   },
   {
    "duration": 0,
    "start_time": "2024-06-03T04:07:06.343Z"
   },
   {
    "duration": 0,
    "start_time": "2024-06-03T04:07:06.345Z"
   },
   {
    "duration": 0,
    "start_time": "2024-06-03T04:07:06.347Z"
   },
   {
    "duration": 0,
    "start_time": "2024-06-03T04:07:06.349Z"
   },
   {
    "duration": 0,
    "start_time": "2024-06-03T04:07:06.351Z"
   },
   {
    "duration": 0,
    "start_time": "2024-06-03T04:07:06.354Z"
   },
   {
    "duration": 0,
    "start_time": "2024-06-03T04:07:06.357Z"
   },
   {
    "duration": 0,
    "start_time": "2024-06-03T04:07:06.359Z"
   },
   {
    "duration": 0,
    "start_time": "2024-06-03T04:07:06.361Z"
   },
   {
    "duration": 0,
    "start_time": "2024-06-03T04:07:06.368Z"
   },
   {
    "duration": 0,
    "start_time": "2024-06-03T04:07:06.369Z"
   },
   {
    "duration": 0,
    "start_time": "2024-06-03T04:07:06.424Z"
   },
   {
    "duration": 0,
    "start_time": "2024-06-03T04:07:06.427Z"
   },
   {
    "duration": 0,
    "start_time": "2024-06-03T04:07:06.430Z"
   },
   {
    "duration": 0,
    "start_time": "2024-06-03T04:07:06.431Z"
   },
   {
    "duration": 0,
    "start_time": "2024-06-03T04:07:06.434Z"
   },
   {
    "duration": 18175,
    "start_time": "2024-06-03T04:08:16.340Z"
   },
   {
    "duration": 7424,
    "start_time": "2024-06-03T04:09:35.443Z"
   },
   {
    "duration": 8789,
    "start_time": "2024-06-03T04:09:47.913Z"
   },
   {
    "duration": 1874,
    "start_time": "2024-06-03T04:10:02.408Z"
   },
   {
    "duration": 64,
    "start_time": "2024-06-03T04:10:04.286Z"
   },
   {
    "duration": 28,
    "start_time": "2024-06-03T04:10:04.353Z"
   },
   {
    "duration": 49,
    "start_time": "2024-06-03T04:10:04.385Z"
   },
   {
    "duration": 31,
    "start_time": "2024-06-03T04:10:04.437Z"
   },
   {
    "duration": 72,
    "start_time": "2024-06-03T04:10:04.472Z"
   },
   {
    "duration": 76,
    "start_time": "2024-06-03T04:10:04.552Z"
   },
   {
    "duration": 15,
    "start_time": "2024-06-03T04:10:04.986Z"
   },
   {
    "duration": 22,
    "start_time": "2024-06-03T04:10:05.196Z"
   },
   {
    "duration": 4,
    "start_time": "2024-06-03T04:10:05.396Z"
   },
   {
    "duration": 5,
    "start_time": "2024-06-03T04:10:05.603Z"
   },
   {
    "duration": 9,
    "start_time": "2024-06-03T04:10:05.814Z"
   },
   {
    "duration": 40,
    "start_time": "2024-06-03T04:10:06.034Z"
   },
   {
    "duration": 4,
    "start_time": "2024-06-03T04:10:06.254Z"
   },
   {
    "duration": 434,
    "start_time": "2024-06-03T04:10:06.473Z"
   },
   {
    "duration": 0,
    "start_time": "2024-06-03T04:10:06.910Z"
   },
   {
    "duration": 6,
    "start_time": "2024-06-03T04:10:06.922Z"
   },
   {
    "duration": 16,
    "start_time": "2024-06-03T04:10:07.151Z"
   },
   {
    "duration": 7,
    "start_time": "2024-06-03T04:10:07.388Z"
   },
   {
    "duration": 8,
    "start_time": "2024-06-03T04:10:07.846Z"
   },
   {
    "duration": 21,
    "start_time": "2024-06-03T04:10:08.322Z"
   },
   {
    "duration": 348,
    "start_time": "2024-06-03T04:10:08.774Z"
   },
   {
    "duration": 353,
    "start_time": "2024-06-03T04:10:09.270Z"
   },
   {
    "duration": 877,
    "start_time": "2024-06-03T04:10:09.842Z"
   },
   {
    "duration": 598,
    "start_time": "2024-06-03T04:10:10.725Z"
   },
   {
    "duration": 262,
    "start_time": "2024-06-03T04:10:11.327Z"
   },
   {
    "duration": 1030,
    "start_time": "2024-06-03T04:10:11.592Z"
   },
   {
    "duration": 0,
    "start_time": "2024-06-03T04:10:12.626Z"
   },
   {
    "duration": 1106,
    "start_time": "2024-06-03T04:10:12.774Z"
   },
   {
    "duration": 0,
    "start_time": "2024-06-03T04:10:13.884Z"
   },
   {
    "duration": 0,
    "start_time": "2024-06-03T04:10:13.887Z"
   },
   {
    "duration": 0,
    "start_time": "2024-06-03T04:10:13.889Z"
   },
   {
    "duration": 0,
    "start_time": "2024-06-03T04:10:13.891Z"
   },
   {
    "duration": 0,
    "start_time": "2024-06-03T04:10:13.893Z"
   },
   {
    "duration": 2816,
    "start_time": "2024-06-03T04:10:14.331Z"
   },
   {
    "duration": 8,
    "start_time": "2024-06-03T04:10:17.152Z"
   },
   {
    "duration": 32,
    "start_time": "2024-06-03T04:10:17.162Z"
   },
   {
    "duration": 0,
    "start_time": "2024-06-03T04:10:17.198Z"
   },
   {
    "duration": 0,
    "start_time": "2024-06-03T04:10:17.202Z"
   },
   {
    "duration": 33,
    "start_time": "2024-06-03T04:10:32.850Z"
   },
   {
    "duration": 36,
    "start_time": "2024-06-03T04:10:33.510Z"
   },
   {
    "duration": 22,
    "start_time": "2024-06-03T04:13:06.682Z"
   },
   {
    "duration": 15,
    "start_time": "2024-06-03T04:13:09.846Z"
   },
   {
    "duration": 8,
    "start_time": "2024-06-03T04:13:10.418Z"
   },
   {
    "duration": 38,
    "start_time": "2024-06-03T04:13:10.620Z"
   },
   {
    "duration": 141,
    "start_time": "2024-06-03T04:13:10.834Z"
   },
   {
    "duration": 7402,
    "start_time": "2024-06-03T04:13:43.311Z"
   },
   {
    "duration": 8413,
    "start_time": "2024-06-03T04:13:50.716Z"
   },
   {
    "duration": 1785,
    "start_time": "2024-06-03T04:13:59.133Z"
   },
   {
    "duration": 53,
    "start_time": "2024-06-03T04:14:00.924Z"
   },
   {
    "duration": 41,
    "start_time": "2024-06-03T04:14:00.982Z"
   },
   {
    "duration": 23,
    "start_time": "2024-06-03T04:14:01.026Z"
   },
   {
    "duration": 30,
    "start_time": "2024-06-03T04:14:01.052Z"
   },
   {
    "duration": 69,
    "start_time": "2024-06-03T04:14:01.085Z"
   },
   {
    "duration": 79,
    "start_time": "2024-06-03T04:14:01.157Z"
   },
   {
    "duration": 14,
    "start_time": "2024-06-03T04:14:01.239Z"
   },
   {
    "duration": 21,
    "start_time": "2024-06-03T04:14:01.256Z"
   },
   {
    "duration": 4,
    "start_time": "2024-06-03T04:14:01.280Z"
   },
   {
    "duration": 5,
    "start_time": "2024-06-03T04:14:01.324Z"
   },
   {
    "duration": 8,
    "start_time": "2024-06-03T04:14:01.336Z"
   },
   {
    "duration": 38,
    "start_time": "2024-06-03T04:14:01.348Z"
   },
   {
    "duration": 36,
    "start_time": "2024-06-03T04:14:01.389Z"
   },
   {
    "duration": 19,
    "start_time": "2024-06-03T04:14:01.429Z"
   },
   {
    "duration": 11,
    "start_time": "2024-06-03T04:14:01.450Z"
   },
   {
    "duration": 7,
    "start_time": "2024-06-03T04:14:01.464Z"
   },
   {
    "duration": 57,
    "start_time": "2024-06-03T04:14:01.473Z"
   },
   {
    "duration": 8,
    "start_time": "2024-06-03T04:14:01.533Z"
   },
   {
    "duration": 9,
    "start_time": "2024-06-03T04:14:01.544Z"
   },
   {
    "duration": 20,
    "start_time": "2024-06-03T04:14:01.556Z"
   },
   {
    "duration": 408,
    "start_time": "2024-06-03T04:14:01.580Z"
   },
   {
    "duration": 381,
    "start_time": "2024-06-03T04:14:01.992Z"
   },
   {
    "duration": 782,
    "start_time": "2024-06-03T04:14:02.376Z"
   },
   {
    "duration": 737,
    "start_time": "2024-06-03T04:14:03.161Z"
   },
   {
    "duration": 277,
    "start_time": "2024-06-03T04:14:03.901Z"
   },
   {
    "duration": 305,
    "start_time": "2024-06-03T04:14:04.181Z"
   },
   {
    "duration": 8,
    "start_time": "2024-06-03T04:14:04.489Z"
   },
   {
    "duration": 29,
    "start_time": "2024-06-03T04:14:04.500Z"
   },
   {
    "duration": 7,
    "start_time": "2024-06-03T04:14:04.531Z"
   },
   {
    "duration": 5,
    "start_time": "2024-06-03T04:14:04.542Z"
   },
   {
    "duration": 12,
    "start_time": "2024-06-03T04:14:04.550Z"
   },
   {
    "duration": 5,
    "start_time": "2024-06-03T04:14:04.565Z"
   },
   {
    "duration": 32,
    "start_time": "2024-06-03T04:14:04.622Z"
   },
   {
    "duration": 2788,
    "start_time": "2024-06-03T04:14:04.656Z"
   },
   {
    "duration": 4,
    "start_time": "2024-06-03T04:14:07.447Z"
   },
   {
    "duration": 191,
    "start_time": "2024-06-03T04:14:07.455Z"
   },
   {
    "duration": 8,
    "start_time": "2024-06-03T04:14:07.649Z"
   },
   {
    "duration": 172,
    "start_time": "2024-06-03T04:14:07.665Z"
   },
   {
    "duration": 118,
    "start_time": "2024-06-03T04:22:14.904Z"
   },
   {
    "duration": 8,
    "start_time": "2024-06-03T04:22:22.905Z"
   },
   {
    "duration": 7548,
    "start_time": "2024-06-03T04:23:37.376Z"
   },
   {
    "duration": 8711,
    "start_time": "2024-06-03T04:23:44.928Z"
   },
   {
    "duration": 1764,
    "start_time": "2024-06-03T04:23:53.642Z"
   },
   {
    "duration": 62,
    "start_time": "2024-06-03T04:23:55.410Z"
   },
   {
    "duration": 32,
    "start_time": "2024-06-03T04:23:55.475Z"
   },
   {
    "duration": 27,
    "start_time": "2024-06-03T04:23:55.525Z"
   },
   {
    "duration": 30,
    "start_time": "2024-06-03T04:23:55.555Z"
   },
   {
    "duration": 29,
    "start_time": "2024-06-03T04:23:55.625Z"
   },
   {
    "duration": 94,
    "start_time": "2024-06-03T04:23:55.657Z"
   },
   {
    "duration": 18,
    "start_time": "2024-06-03T04:23:55.761Z"
   },
   {
    "duration": 43,
    "start_time": "2024-06-03T04:23:55.783Z"
   },
   {
    "duration": 5,
    "start_time": "2024-06-03T04:23:55.829Z"
   },
   {
    "duration": 6,
    "start_time": "2024-06-03T04:23:55.838Z"
   },
   {
    "duration": 11,
    "start_time": "2024-06-03T04:23:55.849Z"
   },
   {
    "duration": 88,
    "start_time": "2024-06-03T04:23:55.863Z"
   },
   {
    "duration": 6,
    "start_time": "2024-06-03T04:23:55.954Z"
   },
   {
    "duration": 26,
    "start_time": "2024-06-03T04:23:55.963Z"
   },
   {
    "duration": 40,
    "start_time": "2024-06-03T04:23:55.993Z"
   },
   {
    "duration": 7,
    "start_time": "2024-06-03T04:23:56.036Z"
   },
   {
    "duration": 15,
    "start_time": "2024-06-03T04:23:56.047Z"
   },
   {
    "duration": 7,
    "start_time": "2024-06-03T04:23:56.066Z"
   },
   {
    "duration": 52,
    "start_time": "2024-06-03T04:23:56.077Z"
   },
   {
    "duration": 20,
    "start_time": "2024-06-03T04:23:56.133Z"
   },
   {
    "duration": 398,
    "start_time": "2024-06-03T04:23:56.156Z"
   },
   {
    "duration": 391,
    "start_time": "2024-06-03T04:23:56.558Z"
   },
   {
    "duration": 838,
    "start_time": "2024-06-03T04:23:56.953Z"
   },
   {
    "duration": 679,
    "start_time": "2024-06-03T04:23:57.798Z"
   },
   {
    "duration": 266,
    "start_time": "2024-06-03T04:23:58.485Z"
   },
   {
    "duration": 310,
    "start_time": "2024-06-03T04:23:58.754Z"
   },
   {
    "duration": 9,
    "start_time": "2024-06-03T04:23:59.068Z"
   },
   {
    "duration": 12,
    "start_time": "2024-06-03T04:23:59.082Z"
   },
   {
    "duration": 28,
    "start_time": "2024-06-03T04:23:59.097Z"
   },
   {
    "duration": 8,
    "start_time": "2024-06-03T04:23:59.128Z"
   },
   {
    "duration": 11,
    "start_time": "2024-06-03T04:23:59.138Z"
   },
   {
    "duration": 6,
    "start_time": "2024-06-03T04:23:59.151Z"
   },
   {
    "duration": 76,
    "start_time": "2024-06-03T04:23:59.160Z"
   },
   {
    "duration": 2906,
    "start_time": "2024-06-03T04:23:59.238Z"
   },
   {
    "duration": 4,
    "start_time": "2024-06-03T04:24:02.148Z"
   },
   {
    "duration": 186,
    "start_time": "2024-06-03T04:24:02.157Z"
   },
   {
    "duration": 8,
    "start_time": "2024-06-03T04:24:02.349Z"
   },
   {
    "duration": 112,
    "start_time": "2024-06-03T04:24:02.424Z"
   },
   {
    "duration": 83,
    "start_time": "2024-06-03T04:24:02.540Z"
   },
   {
    "duration": 7667,
    "start_time": "2024-06-03T04:26:05.259Z"
   },
   {
    "duration": 8712,
    "start_time": "2024-06-03T04:26:12.929Z"
   },
   {
    "duration": 1770,
    "start_time": "2024-06-03T04:26:21.645Z"
   },
   {
    "duration": 59,
    "start_time": "2024-06-03T04:26:23.422Z"
   },
   {
    "duration": 45,
    "start_time": "2024-06-03T04:26:23.486Z"
   },
   {
    "duration": 31,
    "start_time": "2024-06-03T04:26:23.536Z"
   },
   {
    "duration": 68,
    "start_time": "2024-06-03T04:26:23.571Z"
   },
   {
    "duration": 30,
    "start_time": "2024-06-03T04:26:23.643Z"
   },
   {
    "duration": 106,
    "start_time": "2024-06-03T04:26:23.677Z"
   },
   {
    "duration": 36,
    "start_time": "2024-06-03T04:26:23.788Z"
   },
   {
    "duration": 22,
    "start_time": "2024-06-03T04:26:23.830Z"
   },
   {
    "duration": 4,
    "start_time": "2024-06-03T04:26:23.855Z"
   },
   {
    "duration": 6,
    "start_time": "2024-06-03T04:26:23.864Z"
   },
   {
    "duration": 54,
    "start_time": "2024-06-03T04:26:23.875Z"
   },
   {
    "duration": 40,
    "start_time": "2024-06-03T04:26:23.932Z"
   },
   {
    "duration": 5,
    "start_time": "2024-06-03T04:26:23.976Z"
   },
   {
    "duration": 23,
    "start_time": "2024-06-03T04:26:29.088Z"
   },
   {
    "duration": 12,
    "start_time": "2024-06-03T04:26:29.285Z"
   },
   {
    "duration": 7,
    "start_time": "2024-06-03T04:26:29.513Z"
   },
   {
    "duration": 23,
    "start_time": "2024-06-03T04:26:29.717Z"
   },
   {
    "duration": 9,
    "start_time": "2024-06-03T04:26:29.931Z"
   },
   {
    "duration": 9,
    "start_time": "2024-06-03T04:26:30.368Z"
   },
   {
    "duration": 21,
    "start_time": "2024-06-03T04:26:30.791Z"
   },
   {
    "duration": 394,
    "start_time": "2024-06-03T04:26:31.932Z"
   },
   {
    "duration": 390,
    "start_time": "2024-06-03T04:26:32.354Z"
   },
   {
    "duration": 873,
    "start_time": "2024-06-03T04:26:32.785Z"
   },
   {
    "duration": 768,
    "start_time": "2024-06-03T04:26:33.663Z"
   },
   {
    "duration": 290,
    "start_time": "2024-06-03T04:26:34.435Z"
   },
   {
    "duration": 317,
    "start_time": "2024-06-03T04:26:34.729Z"
   },
   {
    "duration": 7,
    "start_time": "2024-06-03T04:26:35.050Z"
   },
   {
    "duration": 9,
    "start_time": "2024-06-03T04:26:35.245Z"
   },
   {
    "duration": 7,
    "start_time": "2024-06-03T04:26:35.460Z"
   },
   {
    "duration": 5,
    "start_time": "2024-06-03T04:26:35.681Z"
   },
   {
    "duration": 13,
    "start_time": "2024-06-03T04:26:35.943Z"
   },
   {
    "duration": 4,
    "start_time": "2024-06-03T04:26:36.166Z"
   },
   {
    "duration": 31,
    "start_time": "2024-06-03T04:26:36.409Z"
   },
   {
    "duration": 2865,
    "start_time": "2024-06-03T04:26:36.854Z"
   },
   {
    "duration": 7,
    "start_time": "2024-06-03T04:26:39.724Z"
   },
   {
    "duration": 201,
    "start_time": "2024-06-03T04:26:39.736Z"
   },
   {
    "duration": 8,
    "start_time": "2024-06-03T04:26:39.944Z"
   },
   {
    "duration": 172,
    "start_time": "2024-06-03T04:26:39.956Z"
   },
   {
    "duration": 10,
    "start_time": "2024-06-03T04:26:40.132Z"
   },
   {
    "duration": 17139,
    "start_time": "2024-06-06T18:07:49.921Z"
   },
   {
    "duration": 39249,
    "start_time": "2024-06-06T18:08:07.064Z"
   },
   {
    "duration": 5779,
    "start_time": "2024-06-06T18:08:46.316Z"
   },
   {
    "duration": 0,
    "start_time": "2024-06-06T18:08:52.105Z"
   },
   {
    "duration": 0,
    "start_time": "2024-06-06T18:08:52.106Z"
   },
   {
    "duration": 0,
    "start_time": "2024-06-06T18:08:52.108Z"
   },
   {
    "duration": 0,
    "start_time": "2024-06-06T18:08:52.110Z"
   },
   {
    "duration": 0,
    "start_time": "2024-06-06T18:08:52.117Z"
   },
   {
    "duration": 0,
    "start_time": "2024-06-06T18:08:52.119Z"
   },
   {
    "duration": 0,
    "start_time": "2024-06-06T18:08:52.122Z"
   },
   {
    "duration": 0,
    "start_time": "2024-06-06T18:08:52.123Z"
   },
   {
    "duration": 0,
    "start_time": "2024-06-06T18:08:52.125Z"
   },
   {
    "duration": 0,
    "start_time": "2024-06-06T18:08:52.141Z"
   },
   {
    "duration": 0,
    "start_time": "2024-06-06T18:08:52.142Z"
   },
   {
    "duration": 0,
    "start_time": "2024-06-06T18:08:52.146Z"
   },
   {
    "duration": 0,
    "start_time": "2024-06-06T18:08:52.147Z"
   },
   {
    "duration": 0,
    "start_time": "2024-06-06T18:08:52.150Z"
   },
   {
    "duration": 0,
    "start_time": "2024-06-06T18:08:52.157Z"
   },
   {
    "duration": 0,
    "start_time": "2024-06-06T18:08:52.163Z"
   },
   {
    "duration": 0,
    "start_time": "2024-06-06T18:08:52.168Z"
   },
   {
    "duration": 0,
    "start_time": "2024-06-06T18:08:52.170Z"
   },
   {
    "duration": 0,
    "start_time": "2024-06-06T18:08:52.172Z"
   },
   {
    "duration": 0,
    "start_time": "2024-06-06T18:08:52.174Z"
   },
   {
    "duration": 0,
    "start_time": "2024-06-06T18:08:52.175Z"
   },
   {
    "duration": 0,
    "start_time": "2024-06-06T18:08:52.178Z"
   },
   {
    "duration": 0,
    "start_time": "2024-06-06T18:08:52.181Z"
   },
   {
    "duration": 0,
    "start_time": "2024-06-06T18:08:52.182Z"
   },
   {
    "duration": 0,
    "start_time": "2024-06-06T18:08:52.185Z"
   },
   {
    "duration": 0,
    "start_time": "2024-06-06T18:08:52.187Z"
   },
   {
    "duration": 0,
    "start_time": "2024-06-06T18:08:52.195Z"
   },
   {
    "duration": 0,
    "start_time": "2024-06-06T18:08:52.196Z"
   },
   {
    "duration": 0,
    "start_time": "2024-06-06T18:08:52.208Z"
   },
   {
    "duration": 0,
    "start_time": "2024-06-06T18:08:52.209Z"
   },
   {
    "duration": 0,
    "start_time": "2024-06-06T18:08:52.215Z"
   },
   {
    "duration": 0,
    "start_time": "2024-06-06T18:08:52.217Z"
   },
   {
    "duration": 0,
    "start_time": "2024-06-06T18:08:52.234Z"
   },
   {
    "duration": 0,
    "start_time": "2024-06-06T18:08:52.236Z"
   },
   {
    "duration": 0,
    "start_time": "2024-06-06T18:08:52.238Z"
   },
   {
    "duration": 0,
    "start_time": "2024-06-06T18:08:52.240Z"
   },
   {
    "duration": 0,
    "start_time": "2024-06-06T18:08:52.241Z"
   },
   {
    "duration": 0,
    "start_time": "2024-06-06T18:08:52.243Z"
   },
   {
    "duration": 0,
    "start_time": "2024-06-06T18:08:52.245Z"
   },
   {
    "duration": 0,
    "start_time": "2024-06-06T18:08:52.247Z"
   },
   {
    "duration": 0,
    "start_time": "2024-06-06T18:08:52.248Z"
   },
   {
    "duration": 0,
    "start_time": "2024-06-06T18:08:52.250Z"
   },
   {
    "duration": 115,
    "start_time": "2024-06-06T18:11:22.400Z"
   },
   {
    "duration": 29,
    "start_time": "2024-06-06T18:11:22.899Z"
   },
   {
    "duration": 25,
    "start_time": "2024-06-06T18:11:23.151Z"
   },
   {
    "duration": 28,
    "start_time": "2024-06-06T18:11:23.563Z"
   },
   {
    "duration": 31,
    "start_time": "2024-06-06T18:11:23.763Z"
   },
   {
    "duration": 65,
    "start_time": "2024-06-06T18:11:23.986Z"
   },
   {
    "duration": 31,
    "start_time": "2024-06-06T18:11:24.446Z"
   },
   {
    "duration": 39,
    "start_time": "2024-06-06T18:11:24.717Z"
   },
   {
    "duration": 6,
    "start_time": "2024-06-06T18:11:24.978Z"
   },
   {
    "duration": 5,
    "start_time": "2024-06-06T18:11:25.216Z"
   },
   {
    "duration": 11,
    "start_time": "2024-06-06T18:11:25.425Z"
   },
   {
    "duration": 39,
    "start_time": "2024-06-06T18:11:25.653Z"
   },
   {
    "duration": 3,
    "start_time": "2024-06-06T18:11:25.883Z"
   },
   {
    "duration": 194,
    "start_time": "2024-06-06T18:11:26.088Z"
   },
   {
    "duration": 33,
    "start_time": "2024-06-06T18:11:26.296Z"
   },
   {
    "duration": 6,
    "start_time": "2024-06-06T18:11:26.498Z"
   },
   {
    "duration": 15,
    "start_time": "2024-06-06T18:11:26.702Z"
   },
   {
    "duration": 12,
    "start_time": "2024-06-06T18:11:26.893Z"
   },
   {
    "duration": 10,
    "start_time": "2024-06-06T18:11:27.345Z"
   },
   {
    "duration": 23,
    "start_time": "2024-06-06T18:11:27.749Z"
   },
   {
    "duration": 352,
    "start_time": "2024-06-06T18:11:28.177Z"
   },
   {
    "duration": 380,
    "start_time": "2024-06-06T18:11:28.604Z"
   },
   {
    "duration": 764,
    "start_time": "2024-06-06T18:11:29.026Z"
   },
   {
    "duration": 577,
    "start_time": "2024-06-06T18:11:29.793Z"
   },
   {
    "duration": 269,
    "start_time": "2024-06-06T18:11:30.373Z"
   },
   {
    "duration": 1062,
    "start_time": "2024-06-06T18:11:30.644Z"
   },
   {
    "duration": 0,
    "start_time": "2024-06-06T18:11:31.709Z"
   },
   {
    "duration": 0,
    "start_time": "2024-06-06T18:11:31.710Z"
   },
   {
    "duration": 0,
    "start_time": "2024-06-06T18:11:31.713Z"
   },
   {
    "duration": 30,
    "start_time": "2024-06-06T18:11:31.741Z"
   },
   {
    "duration": 65,
    "start_time": "2024-06-06T18:11:31.941Z"
   },
   {
    "duration": 41,
    "start_time": "2024-06-06T18:11:32.162Z"
   },
   {
    "duration": 64,
    "start_time": "2024-06-06T18:11:32.350Z"
   },
   {
    "duration": 2878,
    "start_time": "2024-06-06T18:11:32.763Z"
   },
   {
    "duration": 49,
    "start_time": "2024-06-06T18:11:35.645Z"
   },
   {
    "duration": 0,
    "start_time": "2024-06-06T18:11:35.702Z"
   },
   {
    "duration": 0,
    "start_time": "2024-06-06T18:11:35.708Z"
   },
   {
    "duration": 0,
    "start_time": "2024-06-06T18:11:35.711Z"
   },
   {
    "duration": 0,
    "start_time": "2024-06-06T18:11:35.716Z"
   },
   {
    "duration": 0,
    "start_time": "2024-06-06T18:11:35.718Z"
   },
   {
    "duration": 0,
    "start_time": "2024-06-06T18:11:35.724Z"
   },
   {
    "duration": 0,
    "start_time": "2024-06-06T18:11:35.726Z"
   },
   {
    "duration": 32,
    "start_time": "2024-06-06T18:16:34.459Z"
   },
   {
    "duration": 8671,
    "start_time": "2024-06-06T18:21:07.621Z"
   },
   {
    "duration": 9989,
    "start_time": "2024-06-06T18:21:16.294Z"
   },
   {
    "duration": 2116,
    "start_time": "2024-06-06T18:21:26.286Z"
   },
   {
    "duration": 0,
    "start_time": "2024-06-06T18:21:28.416Z"
   },
   {
    "duration": 0,
    "start_time": "2024-06-06T18:21:28.424Z"
   },
   {
    "duration": 0,
    "start_time": "2024-06-06T18:21:28.432Z"
   },
   {
    "duration": 0,
    "start_time": "2024-06-06T18:21:28.437Z"
   },
   {
    "duration": 0,
    "start_time": "2024-06-06T18:21:28.443Z"
   },
   {
    "duration": 0,
    "start_time": "2024-06-06T18:21:28.445Z"
   },
   {
    "duration": 0,
    "start_time": "2024-06-06T18:21:28.450Z"
   },
   {
    "duration": 0,
    "start_time": "2024-06-06T18:21:28.452Z"
   },
   {
    "duration": 0,
    "start_time": "2024-06-06T18:21:28.453Z"
   },
   {
    "duration": 0,
    "start_time": "2024-06-06T18:21:28.458Z"
   },
   {
    "duration": 0,
    "start_time": "2024-06-06T18:21:28.460Z"
   },
   {
    "duration": 0,
    "start_time": "2024-06-06T18:21:28.465Z"
   },
   {
    "duration": 0,
    "start_time": "2024-06-06T18:21:28.467Z"
   },
   {
    "duration": 0,
    "start_time": "2024-06-06T18:21:28.472Z"
   },
   {
    "duration": 0,
    "start_time": "2024-06-06T18:21:28.474Z"
   },
   {
    "duration": 0,
    "start_time": "2024-06-06T18:21:28.479Z"
   },
   {
    "duration": 0,
    "start_time": "2024-06-06T18:21:28.484Z"
   },
   {
    "duration": 0,
    "start_time": "2024-06-06T18:21:28.486Z"
   },
   {
    "duration": 0,
    "start_time": "2024-06-06T18:21:28.488Z"
   },
   {
    "duration": 0,
    "start_time": "2024-06-06T18:21:28.493Z"
   },
   {
    "duration": 0,
    "start_time": "2024-06-06T18:21:28.495Z"
   },
   {
    "duration": 0,
    "start_time": "2024-06-06T18:21:28.499Z"
   },
   {
    "duration": 0,
    "start_time": "2024-06-06T18:21:28.504Z"
   },
   {
    "duration": 0,
    "start_time": "2024-06-06T18:21:28.508Z"
   },
   {
    "duration": 0,
    "start_time": "2024-06-06T18:21:28.511Z"
   },
   {
    "duration": 0,
    "start_time": "2024-06-06T18:21:28.515Z"
   },
   {
    "duration": 0,
    "start_time": "2024-06-06T18:21:28.517Z"
   },
   {
    "duration": 0,
    "start_time": "2024-06-06T18:21:28.521Z"
   },
   {
    "duration": 0,
    "start_time": "2024-06-06T18:21:28.524Z"
   },
   {
    "duration": 0,
    "start_time": "2024-06-06T18:21:28.530Z"
   },
   {
    "duration": 0,
    "start_time": "2024-06-06T18:21:28.533Z"
   },
   {
    "duration": 0,
    "start_time": "2024-06-06T18:21:28.537Z"
   },
   {
    "duration": 0,
    "start_time": "2024-06-06T18:21:28.541Z"
   },
   {
    "duration": 0,
    "start_time": "2024-06-06T18:21:28.544Z"
   },
   {
    "duration": 0,
    "start_time": "2024-06-06T18:21:28.549Z"
   },
   {
    "duration": 0,
    "start_time": "2024-06-06T18:21:28.553Z"
   },
   {
    "duration": 0,
    "start_time": "2024-06-06T18:21:28.555Z"
   },
   {
    "duration": 0,
    "start_time": "2024-06-06T18:21:28.560Z"
   },
   {
    "duration": 0,
    "start_time": "2024-06-06T18:21:28.562Z"
   },
   {
    "duration": 0,
    "start_time": "2024-06-06T18:21:28.564Z"
   },
   {
    "duration": 0,
    "start_time": "2024-06-06T18:21:28.570Z"
   },
   {
    "duration": 0,
    "start_time": "2024-06-06T18:21:28.572Z"
   },
   {
    "duration": 131,
    "start_time": "2024-06-06T18:21:58.641Z"
   },
   {
    "duration": 53,
    "start_time": "2024-06-06T18:22:02.418Z"
   },
   {
    "duration": 43,
    "start_time": "2024-06-06T18:22:03.972Z"
   },
   {
    "duration": 38,
    "start_time": "2024-06-06T18:22:04.585Z"
   },
   {
    "duration": 45,
    "start_time": "2024-06-06T18:22:05.636Z"
   },
   {
    "duration": 86,
    "start_time": "2024-06-06T18:22:06.743Z"
   },
   {
    "duration": 40,
    "start_time": "2024-06-06T18:22:08.124Z"
   },
   {
    "duration": 24,
    "start_time": "2024-06-06T18:22:08.983Z"
   },
   {
    "duration": 7,
    "start_time": "2024-06-06T18:22:09.501Z"
   },
   {
    "duration": 4,
    "start_time": "2024-06-06T18:22:10.325Z"
   },
   {
    "duration": 15,
    "start_time": "2024-06-06T18:22:11.314Z"
   },
   {
    "duration": 45,
    "start_time": "2024-06-06T18:22:12.167Z"
   },
   {
    "duration": 11,
    "start_time": "2024-06-06T18:23:27.590Z"
   },
   {
    "duration": 150,
    "start_time": "2024-06-06T18:23:29.402Z"
   },
   {
    "duration": 7944,
    "start_time": "2024-06-06T18:25:42.621Z"
   },
   {
    "duration": 9318,
    "start_time": "2024-06-06T18:25:50.568Z"
   },
   {
    "duration": 97,
    "start_time": "2024-06-06T18:25:59.889Z"
   },
   {
    "duration": 0,
    "start_time": "2024-06-06T18:25:59.995Z"
   },
   {
    "duration": 0,
    "start_time": "2024-06-06T18:26:00.006Z"
   },
   {
    "duration": 0,
    "start_time": "2024-06-06T18:26:00.014Z"
   },
   {
    "duration": 0,
    "start_time": "2024-06-06T18:26:00.021Z"
   },
   {
    "duration": 0,
    "start_time": "2024-06-06T18:26:00.023Z"
   },
   {
    "duration": 0,
    "start_time": "2024-06-06T18:26:00.026Z"
   },
   {
    "duration": 0,
    "start_time": "2024-06-06T18:26:00.032Z"
   },
   {
    "duration": 82,
    "start_time": "2024-06-06T18:26:05.795Z"
   },
   {
    "duration": 40,
    "start_time": "2024-06-06T18:26:06.193Z"
   },
   {
    "duration": 36,
    "start_time": "2024-06-06T18:26:06.654Z"
   },
   {
    "duration": 37,
    "start_time": "2024-06-06T18:26:06.862Z"
   },
   {
    "duration": 61,
    "start_time": "2024-06-06T18:26:07.055Z"
   },
   {
    "duration": 85,
    "start_time": "2024-06-06T18:26:07.256Z"
   },
   {
    "duration": 28,
    "start_time": "2024-06-06T18:26:07.648Z"
   },
   {
    "duration": 42,
    "start_time": "2024-06-06T18:26:07.821Z"
   },
   {
    "duration": 17,
    "start_time": "2024-06-06T18:26:08.265Z"
   },
   {
    "duration": 18,
    "start_time": "2024-06-06T18:26:08.333Z"
   },
   {
    "duration": 11,
    "start_time": "2024-06-06T18:26:08.917Z"
   },
   {
    "duration": 4,
    "start_time": "2024-06-06T18:26:56.214Z"
   },
   {
    "duration": 42,
    "start_time": "2024-06-06T18:27:04.186Z"
   },
   {
    "duration": 45,
    "start_time": "2024-06-06T18:29:58.934Z"
   },
   {
    "duration": 23,
    "start_time": "2024-06-06T18:30:03.331Z"
   },
   {
    "duration": 7,
    "start_time": "2024-06-06T18:30:11.309Z"
   },
   {
    "duration": 788,
    "start_time": "2024-06-06T18:30:13.591Z"
   },
   {
    "duration": 105,
    "start_time": "2024-06-06T18:31:12.215Z"
   },
   {
    "duration": 1116,
    "start_time": "2024-06-06T18:31:12.460Z"
   },
   {
    "duration": 12,
    "start_time": "2024-06-06T18:31:15.756Z"
   },
   {
    "duration": 37,
    "start_time": "2024-06-06T18:31:16.142Z"
   },
   {
    "duration": 61,
    "start_time": "2024-06-06T18:31:16.746Z"
   },
   {
    "duration": 21,
    "start_time": "2024-06-06T18:31:17.530Z"
   },
   {
    "duration": 31,
    "start_time": "2024-06-06T18:31:17.990Z"
   },
   {
    "duration": 419,
    "start_time": "2024-06-06T18:31:19.055Z"
   },
   {
    "duration": 408,
    "start_time": "2024-06-06T18:31:22.661Z"
   },
   {
    "duration": 883,
    "start_time": "2024-06-06T18:31:24.026Z"
   },
   {
    "duration": 803,
    "start_time": "2024-06-06T18:31:25.341Z"
   },
   {
    "duration": 322,
    "start_time": "2024-06-06T18:31:28.822Z"
   },
   {
    "duration": 334,
    "start_time": "2024-06-06T18:31:48.938Z"
   },
   {
    "duration": 14,
    "start_time": "2024-06-06T18:32:17.739Z"
   },
   {
    "duration": 12,
    "start_time": "2024-06-06T18:32:19.293Z"
   },
   {
    "duration": 7,
    "start_time": "2024-06-06T18:32:19.707Z"
   },
   {
    "duration": 9,
    "start_time": "2024-06-06T18:32:23.213Z"
   },
   {
    "duration": 26,
    "start_time": "2024-06-06T18:32:24.046Z"
   },
   {
    "duration": 5,
    "start_time": "2024-06-06T18:32:24.614Z"
   },
   {
    "duration": 69,
    "start_time": "2024-06-06T18:32:25.629Z"
   },
   {
    "duration": 47,
    "start_time": "2024-06-06T18:33:49.746Z"
   },
   {
    "duration": 3079,
    "start_time": "2024-06-06T18:34:55.110Z"
   },
   {
    "duration": 58,
    "start_time": "2024-06-06T18:35:04.985Z"
   },
   {
    "duration": 25,
    "start_time": "2024-06-06T18:35:28.501Z"
   },
   {
    "duration": 79,
    "start_time": "2024-06-06T18:40:44.445Z"
   },
   {
    "duration": 820,
    "start_time": "2024-06-06T18:40:45.258Z"
   },
   {
    "duration": 0,
    "start_time": "2024-06-06T18:40:46.083Z"
   },
   {
    "duration": 39,
    "start_time": "2024-06-06T18:40:53.076Z"
   },
   {
    "duration": 11,
    "start_time": "2024-06-06T18:42:15.962Z"
   },
   {
    "duration": 49,
    "start_time": "2024-06-06T18:42:16.432Z"
   },
   {
    "duration": 144,
    "start_time": "2024-06-06T18:42:17.659Z"
   },
   {
    "duration": 20,
    "start_time": "2024-06-06T18:42:18.077Z"
   },
   {
    "duration": 37,
    "start_time": "2024-06-06T18:42:18.529Z"
   },
   {
    "duration": 434,
    "start_time": "2024-06-06T18:42:18.918Z"
   },
   {
    "duration": 487,
    "start_time": "2024-06-06T18:42:19.361Z"
   },
   {
    "duration": 845,
    "start_time": "2024-06-06T18:42:19.857Z"
   },
   {
    "duration": 755,
    "start_time": "2024-06-06T18:42:20.710Z"
   },
   {
    "duration": 290,
    "start_time": "2024-06-06T18:42:21.477Z"
   },
   {
    "duration": 337,
    "start_time": "2024-06-06T18:42:21.776Z"
   },
   {
    "duration": 9,
    "start_time": "2024-06-06T18:42:22.121Z"
   },
   {
    "duration": 9,
    "start_time": "2024-06-06T18:42:22.138Z"
   },
   {
    "duration": 14,
    "start_time": "2024-06-06T18:42:22.237Z"
   },
   {
    "duration": 13,
    "start_time": "2024-06-06T18:42:22.676Z"
   },
   {
    "duration": 21,
    "start_time": "2024-06-06T18:42:23.147Z"
   },
   {
    "duration": 14,
    "start_time": "2024-06-06T18:42:23.396Z"
   },
   {
    "duration": 38,
    "start_time": "2024-06-06T18:42:23.593Z"
   },
   {
    "duration": 2972,
    "start_time": "2024-06-06T18:42:24.053Z"
   },
   {
    "duration": 53,
    "start_time": "2024-06-06T18:42:27.029Z"
   },
   {
    "duration": 0,
    "start_time": "2024-06-06T18:42:27.089Z"
   },
   {
    "duration": 0,
    "start_time": "2024-06-06T18:42:27.091Z"
   },
   {
    "duration": 0,
    "start_time": "2024-06-06T18:42:27.097Z"
   },
   {
    "duration": 47,
    "start_time": "2024-06-06T18:42:27.183Z"
   },
   {
    "duration": 42,
    "start_time": "2024-06-06T18:42:27.371Z"
   },
   {
    "duration": 31,
    "start_time": "2024-06-06T18:42:27.589Z"
   },
   {
    "duration": 30,
    "start_time": "2024-06-06T18:42:27.783Z"
   },
   {
    "duration": 16,
    "start_time": "2024-06-06T18:43:58.501Z"
   },
   {
    "duration": 10494,
    "start_time": "2024-06-06T18:44:45.820Z"
   },
   {
    "duration": 8521,
    "start_time": "2024-06-06T18:44:59.387Z"
   },
   {
    "duration": 10430,
    "start_time": "2024-06-06T18:47:38.062Z"
   },
   {
    "duration": 8389,
    "start_time": "2024-06-06T18:47:48.496Z"
   },
   {
    "duration": 1977,
    "start_time": "2024-06-06T18:47:56.888Z"
   },
   {
    "duration": 0,
    "start_time": "2024-06-06T18:47:58.872Z"
   },
   {
    "duration": 0,
    "start_time": "2024-06-06T18:47:58.874Z"
   },
   {
    "duration": 0,
    "start_time": "2024-06-06T18:47:58.875Z"
   },
   {
    "duration": 0,
    "start_time": "2024-06-06T18:47:58.877Z"
   },
   {
    "duration": 0,
    "start_time": "2024-06-06T18:47:58.879Z"
   },
   {
    "duration": 0,
    "start_time": "2024-06-06T18:47:58.882Z"
   },
   {
    "duration": 0,
    "start_time": "2024-06-06T18:47:58.883Z"
   },
   {
    "duration": 0,
    "start_time": "2024-06-06T18:47:58.885Z"
   },
   {
    "duration": 0,
    "start_time": "2024-06-06T18:47:58.887Z"
   },
   {
    "duration": 0,
    "start_time": "2024-06-06T18:47:58.889Z"
   },
   {
    "duration": 0,
    "start_time": "2024-06-06T18:47:58.891Z"
   },
   {
    "duration": 0,
    "start_time": "2024-06-06T18:47:58.893Z"
   },
   {
    "duration": 0,
    "start_time": "2024-06-06T18:47:58.894Z"
   },
   {
    "duration": 0,
    "start_time": "2024-06-06T18:47:58.896Z"
   },
   {
    "duration": 0,
    "start_time": "2024-06-06T18:47:58.898Z"
   },
   {
    "duration": 0,
    "start_time": "2024-06-06T18:47:58.900Z"
   },
   {
    "duration": 0,
    "start_time": "2024-06-06T18:47:58.902Z"
   },
   {
    "duration": 0,
    "start_time": "2024-06-06T18:47:58.903Z"
   },
   {
    "duration": 0,
    "start_time": "2024-06-06T18:47:58.905Z"
   },
   {
    "duration": 0,
    "start_time": "2024-06-06T18:47:58.907Z"
   },
   {
    "duration": 0,
    "start_time": "2024-06-06T18:47:58.910Z"
   },
   {
    "duration": 0,
    "start_time": "2024-06-06T18:47:58.932Z"
   },
   {
    "duration": 0,
    "start_time": "2024-06-06T18:47:58.934Z"
   },
   {
    "duration": 0,
    "start_time": "2024-06-06T18:47:58.936Z"
   },
   {
    "duration": 0,
    "start_time": "2024-06-06T18:47:58.937Z"
   },
   {
    "duration": 0,
    "start_time": "2024-06-06T18:47:58.938Z"
   },
   {
    "duration": 0,
    "start_time": "2024-06-06T18:47:58.939Z"
   },
   {
    "duration": 0,
    "start_time": "2024-06-06T18:47:58.940Z"
   },
   {
    "duration": 0,
    "start_time": "2024-06-06T18:47:58.941Z"
   },
   {
    "duration": 0,
    "start_time": "2024-06-06T18:47:58.942Z"
   },
   {
    "duration": 0,
    "start_time": "2024-06-06T18:47:58.943Z"
   },
   {
    "duration": 0,
    "start_time": "2024-06-06T18:47:58.946Z"
   },
   {
    "duration": 0,
    "start_time": "2024-06-06T18:47:58.948Z"
   },
   {
    "duration": 0,
    "start_time": "2024-06-06T18:47:58.949Z"
   },
   {
    "duration": 0,
    "start_time": "2024-06-06T18:47:58.951Z"
   },
   {
    "duration": 0,
    "start_time": "2024-06-06T18:47:58.952Z"
   },
   {
    "duration": 0,
    "start_time": "2024-06-06T18:47:58.954Z"
   },
   {
    "duration": 0,
    "start_time": "2024-06-06T18:47:58.955Z"
   },
   {
    "duration": 0,
    "start_time": "2024-06-06T18:47:58.957Z"
   },
   {
    "duration": 0,
    "start_time": "2024-06-06T18:47:58.958Z"
   },
   {
    "duration": 0,
    "start_time": "2024-06-06T18:47:58.960Z"
   },
   {
    "duration": 0,
    "start_time": "2024-06-06T18:47:58.962Z"
   },
   {
    "duration": 0,
    "start_time": "2024-06-06T18:47:58.963Z"
   },
   {
    "duration": 718,
    "start_time": "2024-06-06T18:48:08.898Z"
   },
   {
    "duration": 0,
    "start_time": "2024-06-06T18:48:09.619Z"
   },
   {
    "duration": 0,
    "start_time": "2024-06-06T18:48:09.621Z"
   },
   {
    "duration": 0,
    "start_time": "2024-06-06T18:48:09.623Z"
   },
   {
    "duration": 28,
    "start_time": "2024-06-06T18:48:09.660Z"
   },
   {
    "duration": 29,
    "start_time": "2024-06-06T18:48:09.848Z"
   },
   {
    "duration": 35,
    "start_time": "2024-06-06T18:48:10.049Z"
   },
   {
    "duration": 103,
    "start_time": "2024-06-06T18:48:10.418Z"
   },
   {
    "duration": 26,
    "start_time": "2024-06-06T18:48:10.605Z"
   },
   {
    "duration": 24,
    "start_time": "2024-06-06T18:48:10.798Z"
   },
   {
    "duration": 37,
    "start_time": "2024-06-06T18:48:11.010Z"
   },
   {
    "duration": 27,
    "start_time": "2024-06-06T18:48:11.195Z"
   },
   {
    "duration": 36,
    "start_time": "2024-06-06T18:48:11.394Z"
   },
   {
    "duration": 4,
    "start_time": "2024-06-06T18:48:11.590Z"
   },
   {
    "duration": 122,
    "start_time": "2024-06-06T18:48:11.792Z"
   },
   {
    "duration": 35,
    "start_time": "2024-06-06T18:48:11.991Z"
   },
   {
    "duration": 24,
    "start_time": "2024-06-06T18:48:12.203Z"
   },
   {
    "duration": 30,
    "start_time": "2024-06-06T18:48:12.414Z"
   },
   {
    "duration": 24,
    "start_time": "2024-06-06T18:48:12.595Z"
   },
   {
    "duration": 25,
    "start_time": "2024-06-06T18:48:13.004Z"
   },
   {
    "duration": 35,
    "start_time": "2024-06-06T18:48:13.418Z"
   },
   {
    "duration": 28,
    "start_time": "2024-06-06T18:48:13.830Z"
   },
   {
    "duration": 42,
    "start_time": "2024-06-06T18:48:14.242Z"
   },
   {
    "duration": 841,
    "start_time": "2024-06-06T18:48:14.663Z"
   },
   {
    "duration": 0,
    "start_time": "2024-06-06T18:48:15.508Z"
   },
   {
    "duration": 0,
    "start_time": "2024-06-06T18:48:15.514Z"
   },
   {
    "duration": 271,
    "start_time": "2024-06-06T18:48:15.879Z"
   },
   {
    "duration": 31,
    "start_time": "2024-06-06T18:48:16.675Z"
   },
   {
    "duration": 29,
    "start_time": "2024-06-06T18:48:16.875Z"
   },
   {
    "duration": 27,
    "start_time": "2024-06-06T18:48:17.076Z"
   },
   {
    "duration": 27,
    "start_time": "2024-06-06T18:48:17.279Z"
   },
   {
    "duration": 26,
    "start_time": "2024-06-06T18:48:17.481Z"
   },
   {
    "duration": 24,
    "start_time": "2024-06-06T18:48:17.693Z"
   },
   {
    "duration": 46,
    "start_time": "2024-06-06T18:48:17.897Z"
   },
   {
    "duration": 2777,
    "start_time": "2024-06-06T18:48:18.304Z"
   },
   {
    "duration": 29,
    "start_time": "2024-06-06T18:48:21.085Z"
   },
   {
    "duration": 0,
    "start_time": "2024-06-06T18:48:21.117Z"
   },
   {
    "duration": 0,
    "start_time": "2024-06-06T18:48:21.119Z"
   },
   {
    "duration": 0,
    "start_time": "2024-06-06T18:48:21.121Z"
   },
   {
    "duration": 0,
    "start_time": "2024-06-06T18:48:21.123Z"
   },
   {
    "duration": 0,
    "start_time": "2024-06-06T18:48:21.125Z"
   },
   {
    "duration": 0,
    "start_time": "2024-06-06T18:48:21.128Z"
   },
   {
    "duration": 0,
    "start_time": "2024-06-06T18:48:21.130Z"
   },
   {
    "duration": 121,
    "start_time": "2024-06-06T18:49:15.667Z"
   },
   {
    "duration": 30,
    "start_time": "2024-06-06T18:49:16.367Z"
   },
   {
    "duration": 54,
    "start_time": "2024-06-06T18:49:17.348Z"
   },
   {
    "duration": 27,
    "start_time": "2024-06-06T18:49:17.694Z"
   },
   {
    "duration": 49,
    "start_time": "2024-06-06T18:49:17.949Z"
   },
   {
    "duration": 72,
    "start_time": "2024-06-06T18:49:18.184Z"
   },
   {
    "duration": 40,
    "start_time": "2024-06-06T18:49:18.666Z"
   },
   {
    "duration": 24,
    "start_time": "2024-06-06T18:49:18.885Z"
   },
   {
    "duration": 7,
    "start_time": "2024-06-06T18:49:19.086Z"
   },
   {
    "duration": 5,
    "start_time": "2024-06-06T18:49:19.320Z"
   },
   {
    "duration": 10,
    "start_time": "2024-06-06T18:49:19.519Z"
   },
   {
    "duration": 75,
    "start_time": "2024-06-06T18:49:19.764Z"
   },
   {
    "duration": 5,
    "start_time": "2024-06-06T18:49:19.980Z"
   },
   {
    "duration": 37,
    "start_time": "2024-06-06T18:49:20.193Z"
   },
   {
    "duration": 46,
    "start_time": "2024-06-06T18:49:20.423Z"
   },
   {
    "duration": 9,
    "start_time": "2024-06-06T18:49:20.643Z"
   },
   {
    "duration": 20,
    "start_time": "2024-06-06T18:49:20.856Z"
   },
   {
    "duration": 12,
    "start_time": "2024-06-06T18:49:21.057Z"
   },
   {
    "duration": 18,
    "start_time": "2024-06-06T18:49:21.439Z"
   },
   {
    "duration": 34,
    "start_time": "2024-06-06T18:49:21.831Z"
   },
   {
    "duration": 529,
    "start_time": "2024-06-06T18:49:22.218Z"
   },
   {
    "duration": 486,
    "start_time": "2024-06-06T18:49:22.755Z"
   },
   {
    "duration": 1019,
    "start_time": "2024-06-06T18:49:23.245Z"
   },
   {
    "duration": 654,
    "start_time": "2024-06-06T18:49:24.274Z"
   },
   {
    "duration": 304,
    "start_time": "2024-06-06T18:49:24.937Z"
   },
   {
    "duration": 1160,
    "start_time": "2024-06-06T18:49:25.251Z"
   },
   {
    "duration": 0,
    "start_time": "2024-06-06T18:49:26.419Z"
   },
   {
    "duration": 0,
    "start_time": "2024-06-06T18:49:26.426Z"
   },
   {
    "duration": 0,
    "start_time": "2024-06-06T18:49:26.432Z"
   },
   {
    "duration": 0,
    "start_time": "2024-06-06T18:49:26.437Z"
   },
   {
    "duration": 0,
    "start_time": "2024-06-06T18:49:26.442Z"
   },
   {
    "duration": 0,
    "start_time": "2024-06-06T18:49:26.443Z"
   },
   {
    "duration": 0,
    "start_time": "2024-06-06T18:49:26.448Z"
   },
   {
    "duration": 2902,
    "start_time": "2024-06-06T18:49:26.748Z"
   },
   {
    "duration": 45,
    "start_time": "2024-06-06T18:49:29.653Z"
   },
   {
    "duration": 0,
    "start_time": "2024-06-06T18:49:29.708Z"
   },
   {
    "duration": 0,
    "start_time": "2024-06-06T18:49:29.715Z"
   },
   {
    "duration": 0,
    "start_time": "2024-06-06T18:49:29.724Z"
   },
   {
    "duration": 0,
    "start_time": "2024-06-06T18:49:29.731Z"
   },
   {
    "duration": 0,
    "start_time": "2024-06-06T18:49:29.736Z"
   },
   {
    "duration": 0,
    "start_time": "2024-06-06T18:49:29.737Z"
   },
   {
    "duration": 0,
    "start_time": "2024-06-06T18:49:29.741Z"
   },
   {
    "duration": 27,
    "start_time": "2024-06-06T18:50:21.822Z"
   },
   {
    "duration": 17,
    "start_time": "2024-06-06T18:50:23.734Z"
   },
   {
    "duration": 7,
    "start_time": "2024-06-06T18:50:24.315Z"
   },
   {
    "duration": 38,
    "start_time": "2024-06-06T18:50:24.548Z"
   },
   {
    "duration": 547,
    "start_time": "2024-06-06T18:50:24.737Z"
   },
   {
    "duration": 46,
    "start_time": "2024-06-06T18:50:43.461Z"
   },
   {
    "duration": 684,
    "start_time": "2024-06-06T18:50:44.255Z"
   },
   {
    "duration": 11,
    "start_time": "2024-06-06T18:50:45.249Z"
   },
   {
    "duration": 34,
    "start_time": "2024-06-06T18:50:46.480Z"
   },
   {
    "duration": 6244,
    "start_time": "2024-06-06T18:53:07.585Z"
   },
   {
    "duration": 8935,
    "start_time": "2024-06-06T18:53:13.839Z"
   },
   {
    "duration": 2169,
    "start_time": "2024-06-06T18:53:22.777Z"
   },
   {
    "duration": 0,
    "start_time": "2024-06-06T18:53:24.960Z"
   },
   {
    "duration": 0,
    "start_time": "2024-06-06T18:53:24.961Z"
   },
   {
    "duration": 0,
    "start_time": "2024-06-06T18:53:24.963Z"
   },
   {
    "duration": 0,
    "start_time": "2024-06-06T18:53:24.973Z"
   },
   {
    "duration": 0,
    "start_time": "2024-06-06T18:53:24.975Z"
   },
   {
    "duration": 1,
    "start_time": "2024-06-06T18:53:24.976Z"
   },
   {
    "duration": 0,
    "start_time": "2024-06-06T18:53:24.986Z"
   },
   {
    "duration": 0,
    "start_time": "2024-06-06T18:53:24.988Z"
   },
   {
    "duration": 0,
    "start_time": "2024-06-06T18:53:24.991Z"
   },
   {
    "duration": 0,
    "start_time": "2024-06-06T18:53:25.001Z"
   },
   {
    "duration": 0,
    "start_time": "2024-06-06T18:53:25.003Z"
   },
   {
    "duration": 0,
    "start_time": "2024-06-06T18:53:25.016Z"
   },
   {
    "duration": 0,
    "start_time": "2024-06-06T18:53:25.018Z"
   },
   {
    "duration": 0,
    "start_time": "2024-06-06T18:53:25.020Z"
   },
   {
    "duration": 0,
    "start_time": "2024-06-06T18:53:25.022Z"
   },
   {
    "duration": 0,
    "start_time": "2024-06-06T18:53:25.024Z"
   },
   {
    "duration": 0,
    "start_time": "2024-06-06T18:53:25.032Z"
   },
   {
    "duration": 0,
    "start_time": "2024-06-06T18:53:25.034Z"
   },
   {
    "duration": 0,
    "start_time": "2024-06-06T18:53:25.036Z"
   },
   {
    "duration": 0,
    "start_time": "2024-06-06T18:53:25.050Z"
   },
   {
    "duration": 0,
    "start_time": "2024-06-06T18:53:25.051Z"
   },
   {
    "duration": 0,
    "start_time": "2024-06-06T18:53:25.052Z"
   },
   {
    "duration": 0,
    "start_time": "2024-06-06T18:53:25.054Z"
   },
   {
    "duration": 0,
    "start_time": "2024-06-06T18:53:25.055Z"
   },
   {
    "duration": 0,
    "start_time": "2024-06-06T18:53:25.066Z"
   },
   {
    "duration": 0,
    "start_time": "2024-06-06T18:53:25.067Z"
   },
   {
    "duration": 0,
    "start_time": "2024-06-06T18:53:25.076Z"
   },
   {
    "duration": 0,
    "start_time": "2024-06-06T18:53:25.078Z"
   },
   {
    "duration": 0,
    "start_time": "2024-06-06T18:53:25.079Z"
   },
   {
    "duration": 0,
    "start_time": "2024-06-06T18:53:25.080Z"
   },
   {
    "duration": 0,
    "start_time": "2024-06-06T18:53:25.081Z"
   },
   {
    "duration": 0,
    "start_time": "2024-06-06T18:53:25.082Z"
   },
   {
    "duration": 0,
    "start_time": "2024-06-06T18:53:25.083Z"
   },
   {
    "duration": 0,
    "start_time": "2024-06-06T18:53:25.084Z"
   },
   {
    "duration": 0,
    "start_time": "2024-06-06T18:53:25.086Z"
   },
   {
    "duration": 0,
    "start_time": "2024-06-06T18:53:25.087Z"
   },
   {
    "duration": 0,
    "start_time": "2024-06-06T18:53:25.088Z"
   },
   {
    "duration": 0,
    "start_time": "2024-06-06T18:53:25.089Z"
   },
   {
    "duration": 0,
    "start_time": "2024-06-06T18:53:25.090Z"
   },
   {
    "duration": 0,
    "start_time": "2024-06-06T18:53:25.091Z"
   },
   {
    "duration": 0,
    "start_time": "2024-06-06T18:53:25.116Z"
   },
   {
    "duration": 0,
    "start_time": "2024-06-06T18:53:25.117Z"
   },
   {
    "duration": 0,
    "start_time": "2024-06-06T18:53:25.118Z"
   },
   {
    "duration": 153,
    "start_time": "2024-06-06T18:53:37.073Z"
   },
   {
    "duration": 45,
    "start_time": "2024-06-06T18:53:38.340Z"
   },
   {
    "duration": 44,
    "start_time": "2024-06-06T18:53:38.545Z"
   },
   {
    "duration": 46,
    "start_time": "2024-06-06T18:53:38.755Z"
   },
   {
    "duration": 31,
    "start_time": "2024-06-06T18:53:38.991Z"
   },
   {
    "duration": 77,
    "start_time": "2024-06-06T18:53:39.172Z"
   },
   {
    "duration": 16,
    "start_time": "2024-06-06T18:53:39.594Z"
   },
   {
    "duration": 19,
    "start_time": "2024-06-06T18:53:39.786Z"
   },
   {
    "duration": 8,
    "start_time": "2024-06-06T18:53:39.991Z"
   },
   {
    "duration": 9,
    "start_time": "2024-06-06T18:53:40.176Z"
   },
   {
    "duration": 15,
    "start_time": "2024-06-06T18:53:40.370Z"
   },
   {
    "duration": 50,
    "start_time": "2024-06-06T18:53:40.554Z"
   },
   {
    "duration": 9,
    "start_time": "2024-06-06T18:53:40.760Z"
   },
   {
    "duration": 140,
    "start_time": "2024-06-06T18:53:40.961Z"
   },
   {
    "duration": 40,
    "start_time": "2024-06-06T18:53:41.172Z"
   },
   {
    "duration": 18,
    "start_time": "2024-06-06T18:53:41.385Z"
   },
   {
    "duration": 39,
    "start_time": "2024-06-06T18:53:41.584Z"
   },
   {
    "duration": 16,
    "start_time": "2024-06-06T18:53:41.760Z"
   },
   {
    "duration": 15,
    "start_time": "2024-06-06T18:53:42.166Z"
   },
   {
    "duration": 42,
    "start_time": "2024-06-06T18:53:42.545Z"
   },
   {
    "duration": 395,
    "start_time": "2024-06-06T18:53:42.932Z"
   },
   {
    "duration": 376,
    "start_time": "2024-06-06T18:53:43.339Z"
   },
   {
    "duration": 995,
    "start_time": "2024-06-06T18:53:43.742Z"
   },
   {
    "duration": 643,
    "start_time": "2024-06-06T18:53:44.745Z"
   },
   {
    "duration": 295,
    "start_time": "2024-06-06T18:53:45.391Z"
   },
   {
    "duration": 1058,
    "start_time": "2024-06-06T18:53:45.693Z"
   },
   {
    "duration": 0,
    "start_time": "2024-06-06T18:53:46.760Z"
   },
   {
    "duration": 0,
    "start_time": "2024-06-06T18:53:46.767Z"
   },
   {
    "duration": 0,
    "start_time": "2024-06-06T18:53:46.771Z"
   },
   {
    "duration": 0,
    "start_time": "2024-06-06T18:53:46.775Z"
   },
   {
    "duration": 0,
    "start_time": "2024-06-06T18:53:46.777Z"
   },
   {
    "duration": 40,
    "start_time": "2024-06-06T18:53:46.785Z"
   },
   {
    "duration": 73,
    "start_time": "2024-06-06T18:53:46.991Z"
   },
   {
    "duration": 2809,
    "start_time": "2024-06-06T18:53:47.389Z"
   },
   {
    "duration": 52,
    "start_time": "2024-06-06T18:53:50.200Z"
   },
   {
    "duration": 0,
    "start_time": "2024-06-06T18:53:50.257Z"
   },
   {
    "duration": 0,
    "start_time": "2024-06-06T18:53:50.266Z"
   },
   {
    "duration": 0,
    "start_time": "2024-06-06T18:53:50.274Z"
   },
   {
    "duration": 0,
    "start_time": "2024-06-06T18:53:50.282Z"
   },
   {
    "duration": 0,
    "start_time": "2024-06-06T18:53:50.284Z"
   },
   {
    "duration": 0,
    "start_time": "2024-06-06T18:53:50.288Z"
   },
   {
    "duration": 0,
    "start_time": "2024-06-06T18:53:50.296Z"
   },
   {
    "duration": 35,
    "start_time": "2024-06-06T18:55:14.396Z"
   },
   {
    "duration": 55,
    "start_time": "2024-06-06T18:55:15.268Z"
   },
   {
    "duration": 46,
    "start_time": "2024-06-06T18:55:16.057Z"
   },
   {
    "duration": 14,
    "start_time": "2024-06-06T18:55:16.485Z"
   },
   {
    "duration": 37,
    "start_time": "2024-06-06T18:55:16.710Z"
   },
   {
    "duration": 39,
    "start_time": "2024-06-06T18:55:16.929Z"
   },
   {
    "duration": 59,
    "start_time": "2024-06-06T18:55:17.144Z"
   },
   {
    "duration": 61,
    "start_time": "2024-06-06T18:55:17.322Z"
   },
   {
    "duration": 322,
    "start_time": "2024-06-06T19:10:03.719Z"
   },
   {
    "duration": 26,
    "start_time": "2024-06-06T19:10:04.198Z"
   },
   {
    "duration": 28,
    "start_time": "2024-06-06T19:10:05.909Z"
   },
   {
    "duration": 29,
    "start_time": "2024-06-06T19:10:10.257Z"
   },
   {
    "duration": 37,
    "start_time": "2024-06-06T19:12:43.026Z"
   },
   {
    "duration": 33,
    "start_time": "2024-06-06T19:12:50.057Z"
   },
   {
    "duration": 42,
    "start_time": "2024-06-06T19:12:56.831Z"
   },
   {
    "duration": 59,
    "start_time": "2024-06-06T19:12:58.653Z"
   },
   {
    "duration": 30,
    "start_time": "2024-06-06T19:13:28.213Z"
   },
   {
    "duration": 30,
    "start_time": "2024-06-06T19:13:51.864Z"
   },
   {
    "duration": 27,
    "start_time": "2024-06-06T19:13:52.860Z"
   },
   {
    "duration": 21,
    "start_time": "2024-06-06T19:13:53.489Z"
   },
   {
    "duration": 5978,
    "start_time": "2024-06-06T19:14:36.016Z"
   },
   {
    "duration": 8287,
    "start_time": "2024-06-06T19:14:41.998Z"
   },
   {
    "duration": 2050,
    "start_time": "2024-06-06T19:14:50.288Z"
   },
   {
    "duration": 0,
    "start_time": "2024-06-06T19:14:52.350Z"
   },
   {
    "duration": 0,
    "start_time": "2024-06-06T19:14:52.354Z"
   },
   {
    "duration": 0,
    "start_time": "2024-06-06T19:14:52.355Z"
   },
   {
    "duration": 0,
    "start_time": "2024-06-06T19:14:52.358Z"
   },
   {
    "duration": 0,
    "start_time": "2024-06-06T19:14:52.364Z"
   },
   {
    "duration": 0,
    "start_time": "2024-06-06T19:14:52.366Z"
   },
   {
    "duration": 0,
    "start_time": "2024-06-06T19:14:52.369Z"
   },
   {
    "duration": 0,
    "start_time": "2024-06-06T19:14:52.370Z"
   },
   {
    "duration": 0,
    "start_time": "2024-06-06T19:14:52.377Z"
   },
   {
    "duration": 0,
    "start_time": "2024-06-06T19:14:52.378Z"
   },
   {
    "duration": 0,
    "start_time": "2024-06-06T19:14:52.382Z"
   },
   {
    "duration": 0,
    "start_time": "2024-06-06T19:14:52.383Z"
   },
   {
    "duration": 0,
    "start_time": "2024-06-06T19:14:52.385Z"
   },
   {
    "duration": 0,
    "start_time": "2024-06-06T19:14:52.389Z"
   },
   {
    "duration": 0,
    "start_time": "2024-06-06T19:14:52.390Z"
   },
   {
    "duration": 0,
    "start_time": "2024-06-06T19:14:52.392Z"
   },
   {
    "duration": 0,
    "start_time": "2024-06-06T19:14:52.393Z"
   },
   {
    "duration": 0,
    "start_time": "2024-06-06T19:14:52.394Z"
   },
   {
    "duration": 0,
    "start_time": "2024-06-06T19:14:52.397Z"
   },
   {
    "duration": 0,
    "start_time": "2024-06-06T19:14:52.398Z"
   },
   {
    "duration": 0,
    "start_time": "2024-06-06T19:14:52.399Z"
   },
   {
    "duration": 0,
    "start_time": "2024-06-06T19:14:52.400Z"
   },
   {
    "duration": 5977,
    "start_time": "2024-06-06T19:14:52.561Z"
   },
   {
    "duration": 8378,
    "start_time": "2024-06-06T19:14:58.543Z"
   },
   {
    "duration": 51,
    "start_time": "2024-06-06T19:15:06.926Z"
   },
   {
    "duration": 0,
    "start_time": "2024-06-06T19:15:06.989Z"
   },
   {
    "duration": 0,
    "start_time": "2024-06-06T19:15:06.990Z"
   },
   {
    "duration": 0,
    "start_time": "2024-06-06T19:15:06.991Z"
   },
   {
    "duration": 0,
    "start_time": "2024-06-06T19:15:06.993Z"
   },
   {
    "duration": 0,
    "start_time": "2024-06-06T19:15:06.994Z"
   },
   {
    "duration": 0,
    "start_time": "2024-06-06T19:15:06.996Z"
   },
   {
    "duration": 0,
    "start_time": "2024-06-06T19:15:07.001Z"
   },
   {
    "duration": 0,
    "start_time": "2024-06-06T19:15:07.003Z"
   },
   {
    "duration": 0,
    "start_time": "2024-06-06T19:15:07.005Z"
   },
   {
    "duration": 0,
    "start_time": "2024-06-06T19:15:07.007Z"
   },
   {
    "duration": 0,
    "start_time": "2024-06-06T19:15:07.009Z"
   },
   {
    "duration": 0,
    "start_time": "2024-06-06T19:15:07.011Z"
   },
   {
    "duration": 0,
    "start_time": "2024-06-06T19:15:07.014Z"
   },
   {
    "duration": 0,
    "start_time": "2024-06-06T19:15:07.016Z"
   },
   {
    "duration": 0,
    "start_time": "2024-06-06T19:15:07.019Z"
   },
   {
    "duration": 0,
    "start_time": "2024-06-06T19:15:07.021Z"
   },
   {
    "duration": 0,
    "start_time": "2024-06-06T19:15:07.037Z"
   },
   {
    "duration": 0,
    "start_time": "2024-06-06T19:15:07.038Z"
   },
   {
    "duration": 0,
    "start_time": "2024-06-06T19:15:07.049Z"
   },
   {
    "duration": 0,
    "start_time": "2024-06-06T19:15:07.050Z"
   },
   {
    "duration": 0,
    "start_time": "2024-06-06T19:15:07.062Z"
   },
   {
    "duration": 0,
    "start_time": "2024-06-06T19:15:07.076Z"
   },
   {
    "duration": 0,
    "start_time": "2024-06-06T19:15:07.077Z"
   },
   {
    "duration": 0,
    "start_time": "2024-06-06T19:15:07.079Z"
   },
   {
    "duration": 0,
    "start_time": "2024-06-06T19:15:07.080Z"
   },
   {
    "duration": 1,
    "start_time": "2024-06-06T19:15:07.081Z"
   },
   {
    "duration": 0,
    "start_time": "2024-06-06T19:15:07.089Z"
   },
   {
    "duration": 0,
    "start_time": "2024-06-06T19:15:07.090Z"
   },
   {
    "duration": 18,
    "start_time": "2024-06-06T19:15:07.091Z"
   },
   {
    "duration": 0,
    "start_time": "2024-06-06T19:15:07.133Z"
   },
   {
    "duration": 1,
    "start_time": "2024-06-06T19:15:07.134Z"
   },
   {
    "duration": 0,
    "start_time": "2024-06-06T19:15:07.137Z"
   },
   {
    "duration": 0,
    "start_time": "2024-06-06T19:15:07.138Z"
   },
   {
    "duration": 0,
    "start_time": "2024-06-06T19:15:07.140Z"
   },
   {
    "duration": 0,
    "start_time": "2024-06-06T19:15:07.141Z"
   },
   {
    "duration": 0,
    "start_time": "2024-06-06T19:15:07.142Z"
   },
   {
    "duration": 1,
    "start_time": "2024-06-06T19:15:07.143Z"
   },
   {
    "duration": 0,
    "start_time": "2024-06-06T19:15:07.145Z"
   },
   {
    "duration": 0,
    "start_time": "2024-06-06T19:15:07.145Z"
   },
   {
    "duration": 0,
    "start_time": "2024-06-06T19:15:07.146Z"
   },
   {
    "duration": 0,
    "start_time": "2024-06-06T19:15:07.147Z"
   },
   {
    "duration": 0,
    "start_time": "2024-06-06T19:15:07.169Z"
   },
   {
    "duration": 0,
    "start_time": "2024-06-06T19:15:07.170Z"
   },
   {
    "duration": 730,
    "start_time": "2024-06-06T19:15:33.630Z"
   },
   {
    "duration": 0,
    "start_time": "2024-06-06T19:15:34.363Z"
   },
   {
    "duration": 0,
    "start_time": "2024-06-06T19:15:34.364Z"
   },
   {
    "duration": 0,
    "start_time": "2024-06-06T19:15:34.366Z"
   },
   {
    "duration": 0,
    "start_time": "2024-06-06T19:15:34.367Z"
   },
   {
    "duration": 0,
    "start_time": "2024-06-06T19:15:34.369Z"
   },
   {
    "duration": 49,
    "start_time": "2024-06-06T19:15:34.629Z"
   },
   {
    "duration": 0,
    "start_time": "2024-06-06T19:15:34.685Z"
   },
   {
    "duration": 114,
    "start_time": "2024-06-06T19:15:34.777Z"
   },
   {
    "duration": 27,
    "start_time": "2024-06-06T19:15:34.919Z"
   },
   {
    "duration": 55,
    "start_time": "2024-06-06T19:15:35.028Z"
   },
   {
    "duration": 47,
    "start_time": "2024-06-06T19:15:35.128Z"
   },
   {
    "duration": 40,
    "start_time": "2024-06-06T19:15:35.200Z"
   },
   {
    "duration": 14,
    "start_time": "2024-06-06T19:15:35.264Z"
   },
   {
    "duration": 121,
    "start_time": "2024-06-06T19:15:35.374Z"
   },
   {
    "duration": 0,
    "start_time": "2024-06-06T19:15:35.500Z"
   },
   {
    "duration": 66,
    "start_time": "2024-06-06T19:15:56.085Z"
   },
   {
    "duration": 29,
    "start_time": "2024-06-06T19:15:56.807Z"
   },
   {
    "duration": 21,
    "start_time": "2024-06-06T19:15:57.064Z"
   },
   {
    "duration": 34,
    "start_time": "2024-06-06T19:15:57.237Z"
   },
   {
    "duration": 31,
    "start_time": "2024-06-06T19:15:57.420Z"
   },
   {
    "duration": 87,
    "start_time": "2024-06-06T19:15:57.618Z"
   },
   {
    "duration": 16,
    "start_time": "2024-06-06T19:15:57.997Z"
   },
   {
    "duration": 21,
    "start_time": "2024-06-06T19:15:58.191Z"
   },
   {
    "duration": 4,
    "start_time": "2024-06-06T19:15:58.390Z"
   },
   {
    "duration": 4,
    "start_time": "2024-06-06T19:15:58.586Z"
   },
   {
    "duration": 12,
    "start_time": "2024-06-06T19:15:58.782Z"
   },
   {
    "duration": 38,
    "start_time": "2024-06-06T19:15:58.987Z"
   },
   {
    "duration": 4,
    "start_time": "2024-06-06T19:15:59.185Z"
   },
   {
    "duration": 38,
    "start_time": "2024-06-06T19:15:59.384Z"
   },
   {
    "duration": 37,
    "start_time": "2024-06-06T19:15:59.627Z"
   },
   {
    "duration": 14,
    "start_time": "2024-06-06T19:15:59.930Z"
   },
   {
    "duration": 15,
    "start_time": "2024-06-06T19:16:00.112Z"
   },
   {
    "duration": 46,
    "start_time": "2024-06-06T19:16:00.328Z"
   },
   {
    "duration": 10,
    "start_time": "2024-06-06T19:16:00.745Z"
   },
   {
    "duration": 26,
    "start_time": "2024-06-06T19:16:01.138Z"
   },
   {
    "duration": 424,
    "start_time": "2024-06-06T19:16:01.558Z"
   },
   {
    "duration": 390,
    "start_time": "2024-06-06T19:16:01.990Z"
   },
   {
    "duration": 775,
    "start_time": "2024-06-06T19:16:02.385Z"
   },
   {
    "duration": 587,
    "start_time": "2024-06-06T19:16:03.165Z"
   },
   {
    "duration": 360,
    "start_time": "2024-06-06T19:16:03.755Z"
   },
   {
    "duration": 966,
    "start_time": "2024-06-06T19:16:04.118Z"
   },
   {
    "duration": 1,
    "start_time": "2024-06-06T19:16:05.087Z"
   },
   {
    "duration": 0,
    "start_time": "2024-06-06T19:16:05.092Z"
   },
   {
    "duration": 0,
    "start_time": "2024-06-06T19:16:05.094Z"
   },
   {
    "duration": 0,
    "start_time": "2024-06-06T19:16:05.095Z"
   },
   {
    "duration": 216,
    "start_time": "2024-06-06T19:16:05.178Z"
   },
   {
    "duration": 0,
    "start_time": "2024-06-06T19:16:05.401Z"
   },
   {
    "duration": 37,
    "start_time": "2024-06-06T19:16:05.585Z"
   },
   {
    "duration": 2770,
    "start_time": "2024-06-06T19:16:06.022Z"
   },
   {
    "duration": 29,
    "start_time": "2024-06-06T19:16:08.796Z"
   },
   {
    "duration": 0,
    "start_time": "2024-06-06T19:16:08.829Z"
   },
   {
    "duration": 0,
    "start_time": "2024-06-06T19:16:08.832Z"
   },
   {
    "duration": 0,
    "start_time": "2024-06-06T19:16:08.833Z"
   },
   {
    "duration": 0,
    "start_time": "2024-06-06T19:16:08.834Z"
   },
   {
    "duration": 0,
    "start_time": "2024-06-06T19:16:08.835Z"
   },
   {
    "duration": 0,
    "start_time": "2024-06-06T19:16:08.847Z"
   },
   {
    "duration": 0,
    "start_time": "2024-06-06T19:16:08.848Z"
   },
   {
    "duration": 4,
    "start_time": "2024-06-06T19:17:08.865Z"
   },
   {
    "duration": 37,
    "start_time": "2024-06-06T19:18:07.136Z"
   },
   {
    "duration": 15,
    "start_time": "2024-06-06T19:18:08.082Z"
   },
   {
    "duration": 8,
    "start_time": "2024-06-06T19:18:10.691Z"
   },
   {
    "duration": 37,
    "start_time": "2024-06-06T19:18:11.119Z"
   },
   {
    "duration": 581,
    "start_time": "2024-06-06T19:19:41.267Z"
   },
   {
    "duration": 11,
    "start_time": "2024-06-06T19:19:51.062Z"
   },
   {
    "duration": 29,
    "start_time": "2024-06-06T19:19:52.613Z"
   },
   {
    "duration": 336,
    "start_time": "2024-06-06T19:19:53.443Z"
   },
   {
    "duration": 365,
    "start_time": "2024-06-06T19:19:53.931Z"
   },
   {
    "duration": 923,
    "start_time": "2024-06-06T19:19:54.778Z"
   },
   {
    "duration": 563,
    "start_time": "2024-06-06T19:19:55.705Z"
   },
   {
    "duration": 236,
    "start_time": "2024-06-06T19:19:56.289Z"
   },
   {
    "duration": 331,
    "start_time": "2024-06-06T19:19:56.585Z"
   },
   {
    "duration": 10,
    "start_time": "2024-06-06T19:19:58.927Z"
   },
   {
    "duration": 300,
    "start_time": "2024-06-06T19:20:02.986Z"
   },
   {
    "duration": 9,
    "start_time": "2024-06-06T19:20:03.858Z"
   },
   {
    "duration": 13,
    "start_time": "2024-06-06T19:20:04.070Z"
   },
   {
    "duration": 5,
    "start_time": "2024-06-06T19:20:04.506Z"
   },
   {
    "duration": 5,
    "start_time": "2024-06-06T19:20:04.769Z"
   },
   {
    "duration": 13,
    "start_time": "2024-06-06T19:20:05.210Z"
   },
   {
    "duration": 4,
    "start_time": "2024-06-06T19:20:06.027Z"
   },
   {
    "duration": 34,
    "start_time": "2024-06-06T19:20:06.238Z"
   },
   {
    "duration": 4,
    "start_time": "2024-06-06T19:20:36.186Z"
   },
   {
    "duration": 10,
    "start_time": "2024-06-06T19:20:36.757Z"
   },
   {
    "duration": 5,
    "start_time": "2024-06-06T19:20:38.282Z"
   },
   {
    "duration": 30,
    "start_time": "2024-06-06T19:20:39.926Z"
   },
   {
    "duration": 2804,
    "start_time": "2024-06-06T19:20:45.841Z"
   },
   {
    "duration": 46,
    "start_time": "2024-06-06T19:20:49.126Z"
   },
   {
    "duration": 53,
    "start_time": "2024-06-06T19:21:32.571Z"
   },
   {
    "duration": 38,
    "start_time": "2024-06-06T19:21:35.238Z"
   },
   {
    "duration": 9,
    "start_time": "2024-06-06T19:21:36.072Z"
   },
   {
    "duration": 23,
    "start_time": "2024-06-06T19:21:36.285Z"
   },
   {
    "duration": 26,
    "start_time": "2024-06-06T19:21:36.801Z"
   },
   {
    "duration": 52,
    "start_time": "2024-06-06T19:21:37.109Z"
   },
   {
    "duration": 40,
    "start_time": "2024-06-06T19:21:37.420Z"
   },
   {
    "duration": 6433,
    "start_time": "2024-06-06T19:32:03.362Z"
   },
   {
    "duration": 9011,
    "start_time": "2024-06-06T19:32:09.799Z"
   },
   {
    "duration": 2117,
    "start_time": "2024-06-06T19:32:18.813Z"
   },
   {
    "duration": 0,
    "start_time": "2024-06-06T19:32:20.940Z"
   },
   {
    "duration": 0,
    "start_time": "2024-06-06T19:32:20.941Z"
   },
   {
    "duration": 0,
    "start_time": "2024-06-06T19:32:20.942Z"
   },
   {
    "duration": 0,
    "start_time": "2024-06-06T19:32:20.948Z"
   },
   {
    "duration": 0,
    "start_time": "2024-06-06T19:32:20.953Z"
   },
   {
    "duration": 0,
    "start_time": "2024-06-06T19:32:20.961Z"
   },
   {
    "duration": 0,
    "start_time": "2024-06-06T19:32:20.967Z"
   },
   {
    "duration": 0,
    "start_time": "2024-06-06T19:32:20.968Z"
   },
   {
    "duration": 0,
    "start_time": "2024-06-06T19:32:20.972Z"
   },
   {
    "duration": 0,
    "start_time": "2024-06-06T19:32:20.973Z"
   },
   {
    "duration": 0,
    "start_time": "2024-06-06T19:32:20.974Z"
   },
   {
    "duration": 0,
    "start_time": "2024-06-06T19:32:20.976Z"
   },
   {
    "duration": 0,
    "start_time": "2024-06-06T19:32:20.978Z"
   },
   {
    "duration": 0,
    "start_time": "2024-06-06T19:32:20.980Z"
   },
   {
    "duration": 0,
    "start_time": "2024-06-06T19:32:20.982Z"
   },
   {
    "duration": 0,
    "start_time": "2024-06-06T19:32:20.984Z"
   },
   {
    "duration": 0,
    "start_time": "2024-06-06T19:32:20.986Z"
   },
   {
    "duration": 0,
    "start_time": "2024-06-06T19:32:20.989Z"
   },
   {
    "duration": 0,
    "start_time": "2024-06-06T19:32:20.991Z"
   },
   {
    "duration": 0,
    "start_time": "2024-06-06T19:32:21.033Z"
   },
   {
    "duration": 0,
    "start_time": "2024-06-06T19:32:21.034Z"
   },
   {
    "duration": 0,
    "start_time": "2024-06-06T19:32:21.041Z"
   },
   {
    "duration": 0,
    "start_time": "2024-06-06T19:32:21.043Z"
   },
   {
    "duration": 0,
    "start_time": "2024-06-06T19:32:21.047Z"
   },
   {
    "duration": 0,
    "start_time": "2024-06-06T19:32:21.049Z"
   },
   {
    "duration": 0,
    "start_time": "2024-06-06T19:32:21.051Z"
   },
   {
    "duration": 0,
    "start_time": "2024-06-06T19:32:21.053Z"
   },
   {
    "duration": 0,
    "start_time": "2024-06-06T19:32:21.057Z"
   },
   {
    "duration": 0,
    "start_time": "2024-06-06T19:32:21.059Z"
   },
   {
    "duration": 0,
    "start_time": "2024-06-06T19:32:21.061Z"
   },
   {
    "duration": 0,
    "start_time": "2024-06-06T19:32:21.063Z"
   },
   {
    "duration": 0,
    "start_time": "2024-06-06T19:32:21.067Z"
   },
   {
    "duration": 0,
    "start_time": "2024-06-06T19:32:21.069Z"
   },
   {
    "duration": 0,
    "start_time": "2024-06-06T19:32:21.073Z"
   },
   {
    "duration": 0,
    "start_time": "2024-06-06T19:32:21.075Z"
   },
   {
    "duration": 0,
    "start_time": "2024-06-06T19:32:21.077Z"
   },
   {
    "duration": 0,
    "start_time": "2024-06-06T19:32:21.079Z"
   },
   {
    "duration": 0,
    "start_time": "2024-06-06T19:32:21.085Z"
   },
   {
    "duration": 0,
    "start_time": "2024-06-06T19:32:21.133Z"
   },
   {
    "duration": 0,
    "start_time": "2024-06-06T19:32:21.135Z"
   },
   {
    "duration": 0,
    "start_time": "2024-06-06T19:32:21.137Z"
   },
   {
    "duration": 0,
    "start_time": "2024-06-06T19:32:21.139Z"
   },
   {
    "duration": 0,
    "start_time": "2024-06-06T19:32:21.143Z"
   },
   {
    "duration": 0,
    "start_time": "2024-06-06T19:32:21.146Z"
   },
   {
    "duration": 748,
    "start_time": "2024-06-06T19:32:24.383Z"
   },
   {
    "duration": 1,
    "start_time": "2024-06-06T19:32:25.138Z"
   },
   {
    "duration": 0,
    "start_time": "2024-06-06T19:32:25.141Z"
   },
   {
    "duration": 48,
    "start_time": "2024-06-06T19:32:25.326Z"
   },
   {
    "duration": 28,
    "start_time": "2024-06-06T19:32:25.972Z"
   },
   {
    "duration": 6253,
    "start_time": "2024-06-06T19:32:46.429Z"
   },
   {
    "duration": 8995,
    "start_time": "2024-06-06T19:32:52.687Z"
   },
   {
    "duration": 2498,
    "start_time": "2024-06-06T19:33:15.674Z"
   },
   {
    "duration": 0,
    "start_time": "2024-06-06T19:33:18.185Z"
   },
   {
    "duration": 0,
    "start_time": "2024-06-06T19:33:18.192Z"
   },
   {
    "duration": 0,
    "start_time": "2024-06-06T19:33:18.193Z"
   },
   {
    "duration": 0,
    "start_time": "2024-06-06T19:33:18.194Z"
   },
   {
    "duration": 0,
    "start_time": "2024-06-06T19:33:18.195Z"
   },
   {
    "duration": 52,
    "start_time": "2024-06-06T19:33:18.325Z"
   },
   {
    "duration": 48,
    "start_time": "2024-06-06T19:33:18.516Z"
   },
   {
    "duration": 34,
    "start_time": "2024-06-06T19:33:22.740Z"
   },
   {
    "duration": 86,
    "start_time": "2024-06-06T19:34:19.289Z"
   },
   {
    "duration": 28,
    "start_time": "2024-06-06T19:34:20.069Z"
   },
   {
    "duration": 28,
    "start_time": "2024-06-06T19:34:22.468Z"
   },
   {
    "duration": 30,
    "start_time": "2024-06-06T19:34:22.689Z"
   },
   {
    "duration": 32,
    "start_time": "2024-06-06T19:34:22.869Z"
   },
   {
    "duration": 67,
    "start_time": "2024-06-06T19:34:23.045Z"
   },
   {
    "duration": 19,
    "start_time": "2024-06-06T19:34:25.184Z"
   },
   {
    "duration": 26,
    "start_time": "2024-06-06T19:34:26.481Z"
   },
   {
    "duration": 5,
    "start_time": "2024-06-06T19:34:26.691Z"
   },
   {
    "duration": 4,
    "start_time": "2024-06-06T19:34:26.900Z"
   },
   {
    "duration": 12,
    "start_time": "2024-06-06T19:34:27.110Z"
   },
   {
    "duration": 44,
    "start_time": "2024-06-06T19:34:27.376Z"
   },
   {
    "duration": 10,
    "start_time": "2024-06-06T19:34:27.559Z"
   },
   {
    "duration": 4,
    "start_time": "2024-06-06T19:34:27.773Z"
   },
   {
    "duration": 22,
    "start_time": "2024-06-06T19:34:28.253Z"
   },
   {
    "duration": 15,
    "start_time": "2024-06-06T19:34:28.449Z"
   },
   {
    "duration": 11,
    "start_time": "2024-06-06T19:34:28.652Z"
   },
   {
    "duration": 22,
    "start_time": "2024-06-06T19:34:28.850Z"
   },
   {
    "duration": 22,
    "start_time": "2024-06-06T19:34:29.064Z"
   },
   {
    "duration": 15,
    "start_time": "2024-06-06T19:34:29.445Z"
   },
   {
    "duration": 26,
    "start_time": "2024-06-06T19:34:29.857Z"
   },
   {
    "duration": 360,
    "start_time": "2024-06-06T19:34:30.262Z"
   },
   {
    "duration": 379,
    "start_time": "2024-06-06T19:34:30.672Z"
   },
   {
    "duration": 974,
    "start_time": "2024-06-06T19:34:31.079Z"
   },
   {
    "duration": 638,
    "start_time": "2024-06-06T19:34:32.057Z"
   },
   {
    "duration": 271,
    "start_time": "2024-06-06T19:34:32.700Z"
   },
   {
    "duration": 343,
    "start_time": "2024-06-06T19:34:32.975Z"
   },
   {
    "duration": 11,
    "start_time": "2024-06-06T19:34:33.333Z"
   },
   {
    "duration": 18,
    "start_time": "2024-06-06T19:34:33.354Z"
   },
   {
    "duration": 6,
    "start_time": "2024-06-06T19:34:33.568Z"
   },
   {
    "duration": 19,
    "start_time": "2024-06-06T19:34:33.765Z"
   },
   {
    "duration": 12,
    "start_time": "2024-06-06T19:34:33.961Z"
   },
   {
    "duration": 8,
    "start_time": "2024-06-06T19:34:34.169Z"
   },
   {
    "duration": 33,
    "start_time": "2024-06-06T19:34:34.381Z"
   },
   {
    "duration": 3106,
    "start_time": "2024-06-06T19:34:34.799Z"
   },
   {
    "duration": 38,
    "start_time": "2024-06-06T19:34:37.909Z"
   },
   {
    "duration": 0,
    "start_time": "2024-06-06T19:34:37.954Z"
   },
   {
    "duration": 0,
    "start_time": "2024-06-06T19:34:37.957Z"
   },
   {
    "duration": 0,
    "start_time": "2024-06-06T19:34:37.962Z"
   },
   {
    "duration": 0,
    "start_time": "2024-06-06T19:34:37.964Z"
   },
   {
    "duration": 0,
    "start_time": "2024-06-06T19:34:37.966Z"
   },
   {
    "duration": 0,
    "start_time": "2024-06-06T19:34:37.972Z"
   },
   {
    "duration": 0,
    "start_time": "2024-06-06T19:34:37.974Z"
   },
   {
    "duration": 127,
    "start_time": "2024-06-06T19:34:55.297Z"
   },
   {
    "duration": 35,
    "start_time": "2024-06-06T19:34:57.401Z"
   },
   {
    "duration": 10,
    "start_time": "2024-06-06T19:34:58.199Z"
   },
   {
    "duration": 32,
    "start_time": "2024-06-06T19:34:58.650Z"
   },
   {
    "duration": 32,
    "start_time": "2024-06-06T19:34:59.020Z"
   },
   {
    "duration": 31,
    "start_time": "2024-06-06T19:34:59.292Z"
   },
   {
    "duration": 35,
    "start_time": "2024-06-06T19:34:59.539Z"
   },
   {
    "duration": 18623,
    "start_time": "2024-06-07T12:01:14.146Z"
   },
   {
    "duration": 38270,
    "start_time": "2024-06-07T12:01:32.774Z"
   },
   {
    "duration": 5645,
    "start_time": "2024-06-07T12:03:02.361Z"
   },
   {
    "duration": 2673,
    "start_time": "2024-06-07T12:03:26.176Z"
   },
   {
    "duration": 111,
    "start_time": "2024-06-07T12:38:52.180Z"
   },
   {
    "duration": 1999,
    "start_time": "2024-06-07T12:39:00.968Z"
   },
   {
    "duration": 2756,
    "start_time": "2024-06-07T12:39:11.379Z"
   },
   {
    "duration": 2036,
    "start_time": "2024-06-07T12:39:21.229Z"
   },
   {
    "duration": 2795,
    "start_time": "2024-06-07T12:39:38.302Z"
   },
   {
    "duration": 32,
    "start_time": "2024-06-07T12:39:44.551Z"
   },
   {
    "duration": 2068,
    "start_time": "2024-06-07T12:39:51.727Z"
   },
   {
    "duration": 352,
    "start_time": "2024-06-07T12:40:27.268Z"
   },
   {
    "duration": 2647,
    "start_time": "2024-06-07T12:40:56.254Z"
   },
   {
    "duration": 1099,
    "start_time": "2024-06-07T12:41:21.441Z"
   },
   {
    "duration": 1092,
    "start_time": "2024-06-07T12:43:03.813Z"
   },
   {
    "duration": 923,
    "start_time": "2024-06-07T12:43:08.082Z"
   },
   {
    "duration": 1111,
    "start_time": "2024-06-07T12:43:10.987Z"
   }
  ],
  "kernelspec": {
   "display_name": "Python 3 (ipykernel)",
   "language": "python",
   "name": "python3"
  },
  "language_info": {
   "codemirror_mode": {
    "name": "ipython",
    "version": 3
   },
   "file_extension": ".py",
   "mimetype": "text/x-python",
   "name": "python",
   "nbconvert_exporter": "python",
   "pygments_lexer": "ipython3",
   "version": "3.9.19"
  },
  "toc": {
   "base_numbering": 1,
   "nav_menu": {},
   "number_sections": true,
   "sideBar": true,
   "skip_h1_title": true,
   "title_cell": "Table of Contents",
   "title_sidebar": "Contents",
   "toc_cell": false,
   "toc_position": {},
   "toc_section_display": true,
   "toc_window_display": false
  }
 },
 "nbformat": 4,
 "nbformat_minor": 5
}
