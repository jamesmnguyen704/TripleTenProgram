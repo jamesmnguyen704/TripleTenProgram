{
 "cells": [
  {
   "cell_type": "markdown",
   "id": "8e1f87b5",
   "metadata": {},
   "source": [
    "Hello!\n",
    "My name is Ekaterina. I'm happy to review your project today.\n",
    "When I will see mistake at the first time, I will just point it out. I let you find it and fix it by \n",
    "yourself. I'm trying to prepare you to work as an Data Analyst. SO, at a real job, your team lead \n",
    "will do the same. But if you can't handle this task yet, I will give you a more accurate hint at the \n",
    "next iteration.\n",
    "You will find my comments below - please do not move, modify or delete them.\n",
    "You can find my comments in green, yellow or red boxes like this:\n",
    "<div class=\"alert alert-block alert-success\"> <b>Reviewer's comment</b> <a \n",
    "class=\"tocSkip\"></a>\n",
    "Success. Everything is done succesfully. </div>\n",
    "<div class=\"alert alert-block alert-warning\"> <b>Reviewer's comment</b> <a \n",
    "class=\"tocSkip\"></a>\n",
    "Remarks. Some recommendations. </div>\n",
    "<div class=\"alert alert-block alert-danger\">\n",
    "<b>Reviewer's comment</b> <a class=\"tocSkip\"></a>\n",
    "Needs fixing. The block requires some corrections. Work can't be accepted with the red \n",
    "comments. </div>\n",
    "You can answer me by using this: not sue what i can do about putting all the imports in the first cell \n",
    "<div class=\"alert alert-block alert-info\"> <b>Student answer.</b> <a class=\"tocSkip\"></a> \n",
    "</div>\n",
    "\n",
    "\n",
    "**Keep in mind that the project will be accepted only when all the “red” issues are resolved.**"
   ]
  },
  {
   "cell_type": "markdown",
   "id": "676d4673",
   "metadata": {},
   "source": [
    "<div class=\"alert alert-block alert-success\">\n",
    "    \n",
    "<b>**General feedback**</b> <a class=\"tocSkip\"></a>\n",
    "    \n",
    "Hi, James\n",
    "    \n",
    "Thank you for submiting your project \n",
    "\n",
    "\n",
    "<span class=\"text-danger\"> \n",
    "Please note that you should only submit a fully completed project. If you have any doubts or difficulties, or just want to make sure everything is correct, you can contact your tutor. I left you a few comments, but next time please send  the finished project.</span>\n",
    "    \n",
    "Waiting for a new version\n",
    "</div>"
   ]
  },
  {
   "cell_type": "markdown",
   "id": "6bcf26df",
   "metadata": {},
   "source": [
    "<div class=\"alert alert-block alert-success\">\n",
    "    \n",
    "<b>**General feedback v2**</b> <a class=\"tocSkip\"></a>\n",
    "    \n",
    "Hi, James\n",
    "    \n",
    "Thank you for your corrections\n",
    "    \n",
    "    \n",
    "There are many things that I like:\n",
    "    \n",
    "- nice structure of the project\n",
    "- all calculations are correct!!!!\n",
    "- amazing visualizations\n",
    "\n",
    "\n",
    "<span class=\"text-danger\"> \n",
    "There are just 2 issues that should be corrected: please add project title and project description Dont import pandas and download datasets more than 1 time in all project</span>\n",
    "    \n",
    "One more time and you will have it\n",
    "    \n",
    "    task\n",
    "    James all imported pandas has been updated, removed, and note that it should only be imported once\n",
    "</div>"
   ]
  },
  {
   "cell_type": "markdown",
   "id": "c1d7c097",
   "metadata": {},
   "source": [
    "<div class=\"alert alert-block alert-success\">\n",
    "    \n",
    "<b>**General feedback v3**</b> <a class=\"tocSkip\"></a>\n",
    "    \n",
    "Hi, James\n",
    "    \n",
    "Thank you for your corrections\n",
    "    \n",
    "Now your project is perfect\n",
    " \n",
    "I am happy to say that it has been accepted\n",
    "    \n",
    "Keep up good job and good luck in the next sprint\n",
    "</div>"
   ]
  },
  {
   "cell_type": "markdown",
   "id": "4dd45754",
   "metadata": {},
   "source": [
    "<div class=\"alert alert-block alert-danger\">\n",
    "<b>Reviewer's comment</b> <a class=\"tocSkip\"></a>\n",
    "    \n",
    "~~Please, add project title and project description~~</div>"
   ]
  },
  {
   "cell_type": "code",
   "execution_count": 1,
   "id": "fbf1adab",
   "metadata": {},
   "outputs": [],
   "source": [
    "# Project Title: Exploratory Data Analysis of Instacart\n",
    "# Project Description: In this project, we will perform an exploratory data analysis on the Instacart dataset, which includes information about aisles, departments, orders, order products, and products.\n",
    "# import pandas as pd removed should only be imported once\n",
    "import pandas as pd"
   ]
  },
  {
   "cell_type": "markdown",
   "id": "20b56998",
   "metadata": {},
   "source": [
    "<div class=\"alert alert-block alert-warning\"> <b>Reviewer's comment v3</b> <a \n",
    "class=\"tocSkip\"></a>\n",
    "Project title and project description must be written in markdown cell \n",
    "Please check this link https://medium.com/@shouke.wei/easily-formatting-text-with-markdown-in-jupyter-notebook-36a1e2d8fdda </div>"
   ]
  },
  {
   "cell_type": "markdown",
   "id": "9bf2b2eb",
   "metadata": {},
   "source": [
    "**Project Title**: Exploratory Data Analysis of Instacart\n",
    "\n",
    "**Project Description**: In this project, we will perform an exploratory data analysis on the Instacart dataset, which includes information about:\n",
    "- aisles, \n",
    "- departments, \n",
    "- orders, \n",
    "- order products, \n",
    "- products."
   ]
  },
  {
   "cell_type": "code",
   "execution_count": 2,
   "id": "ad36396d",
   "metadata": {},
   "outputs": [],
   "source": [
    "aisles = pd.read_csv('/datasets/aisles.csv', delimiter=';')\n",
    "#importing dataset and using delimiter to remove the semicolon"
   ]
  },
  {
   "cell_type": "code",
   "execution_count": 3,
   "id": "ad6a1efa",
   "metadata": {},
   "outputs": [],
   "source": [
    "departments = pd.read_csv('/datasets/departments.csv', delimiter=';') #importing dataset and using delimiter to remove the semicolon"
   ]
  },
  {
   "cell_type": "code",
   "execution_count": 4,
   "id": "5130e05e",
   "metadata": {},
   "outputs": [],
   "source": [
    "orders = pd.read_csv('/datasets/instacart_orders.csv', delimiter=';') #importing dataset and using delimiter to remove the semicolon"
   ]
  },
  {
   "cell_type": "code",
   "execution_count": 5,
   "id": "d8370c05",
   "metadata": {},
   "outputs": [],
   "source": [
    "order_products = pd.read_csv('/datasets/order_products.csv', delimiter=';') #importing dataset and using delimiter to remove the semicolon"
   ]
  },
  {
   "cell_type": "code",
   "execution_count": 6,
   "id": "59e2090f",
   "metadata": {},
   "outputs": [],
   "source": [
    "products = pd.read_csv('/datasets/products.csv', delimiter=';') #importing dataset and using delimiter to remove the semicolon"
   ]
  },
  {
   "cell_type": "markdown",
   "id": "13ae50a9",
   "metadata": {},
   "source": [
    "<div class=\"alert alert-block alert-success\"> <b>Reviewer's comment</b> <a \n",
    "class=\"tocSkip\"></a>\n",
    "Great! We have all necessary data </div>"
   ]
  },
  {
   "cell_type": "code",
   "execution_count": 7,
   "id": "6fc81694",
   "metadata": {},
   "outputs": [
    {
     "name": "stdout",
     "output_type": "stream",
     "text": [
      "     aisle_id                       aisle\n",
      "0           1       prepared soups salads\n",
      "1           2           specialty cheeses\n",
      "2           3         energy granola bars\n",
      "3           4               instant foods\n",
      "4           5  marinades meat preparation\n",
      "..        ...                         ...\n",
      "129       130    hot cereal pancake mixes\n",
      "130       131                   dry pasta\n",
      "131       132                      beauty\n",
      "132       133  muscles joints pain relief\n",
      "133       134  specialty wines champagnes\n",
      "\n",
      "[134 rows x 2 columns]\n",
      "    department_id       department\n",
      "0               1           frozen\n",
      "1               2            other\n",
      "2               3           bakery\n",
      "3               4          produce\n",
      "4               5          alcohol\n",
      "5               6    international\n",
      "6               7        beverages\n",
      "7               8             pets\n",
      "8               9  dry goods pasta\n",
      "9              10             bulk\n",
      "10             11    personal care\n",
      "11             12     meat seafood\n",
      "12             13           pantry\n",
      "13             14        breakfast\n",
      "14             15     canned goods\n",
      "15             16       dairy eggs\n",
      "16             17        household\n",
      "17             18           babies\n",
      "18             19           snacks\n",
      "19             20             deli\n",
      "20             21          missing\n",
      "        order_id  user_id  order_number  order_dow  order_hour_of_day  \\\n",
      "0        1515936   183418            11          6                 13   \n",
      "1        1690866   163593             5          5                 12   \n",
      "2        1454967    39980             4          5                 19   \n",
      "3        1768857    82516            56          0                 20   \n",
      "4        3007858   196724             2          4                 12   \n",
      "...          ...      ...           ...        ...                ...   \n",
      "478962   3210681     5617             5          1                 14   \n",
      "478963   3270802   112087             2          3                 13   \n",
      "478964    885349    82944            16          2                 11   \n",
      "478965    216274     4391             3          3                  8   \n",
      "478966   2071924     1730            18          1                 14   \n",
      "\n",
      "        days_since_prior_order  \n",
      "0                         30.0  \n",
      "1                          9.0  \n",
      "2                          2.0  \n",
      "3                         10.0  \n",
      "4                         17.0  \n",
      "...                        ...  \n",
      "478962                     7.0  \n",
      "478963                     6.0  \n",
      "478964                     6.0  \n",
      "478965                     8.0  \n",
      "478966                    15.0  \n",
      "\n",
      "[478967 rows x 6 columns]\n",
      "         order_id  product_id  add_to_cart_order  reordered\n",
      "0         2141543       11440               17.0          0\n",
      "1          567889        1560                1.0          1\n",
      "2         2261212       26683                1.0          1\n",
      "3          491251        8670               35.0          1\n",
      "4         2571142        1940                5.0          1\n",
      "...           ...         ...                ...        ...\n",
      "4545002    577211       15290               12.0          1\n",
      "4545003   1219554       21914                9.0          0\n",
      "4545004    692640       47766                4.0          1\n",
      "4545005    319435         691                8.0          1\n",
      "4545006   1398151       28733                9.0          0\n",
      "\n",
      "[4545007 rows x 4 columns]\n",
      "       product_id                                       product_name  \\\n",
      "0               1                         Chocolate Sandwich Cookies   \n",
      "1               2                                   All-Seasons Salt   \n",
      "2               3               Robust Golden Unsweetened Oolong Tea   \n",
      "3               4  Smart Ones Classic Favorites Mini Rigatoni Wit...   \n",
      "4               5                          Green Chile Anytime Sauce   \n",
      "...           ...                                                ...   \n",
      "49689       49690                      HIGH PERFORMANCE ENERGY DRINK   \n",
      "49690       49691                      ORIGINAL PANCAKE & WAFFLE MIX   \n",
      "49691       49692    ORGANIC INSTANT OATMEAL LIGHT MAPLE BROWN SUGAR   \n",
      "49692       49693                             SPRING WATER BODY WASH   \n",
      "49693       49694                            BURRITO- STEAK & CHEESE   \n",
      "\n",
      "       aisle_id  department_id  \n",
      "0            61             19  \n",
      "1           104             13  \n",
      "2            94              7  \n",
      "3            38              1  \n",
      "4             5             13  \n",
      "...         ...            ...  \n",
      "49689        64              7  \n",
      "49690       130             14  \n",
      "49691       130             14  \n",
      "49692       127             11  \n",
      "49693        38              1  \n",
      "\n",
      "[49694 rows x 4 columns]\n"
     ]
    }
   ],
   "source": [
    "print(aisles)\n",
    "print(departments)\n",
    "print(orders)\n",
    "print(order_products)\n",
    "print(products)"
   ]
  },
  {
   "cell_type": "markdown",
   "id": "898a657d",
   "metadata": {},
   "source": [
    "<div class=\"alert alert-block alert-warning\"> <b>Reviewer's comment</b> <a \n",
    "class=\"tocSkip\"></a>\n",
    "HERE AND FURTHER\n",
    "Please, use display instead of print for dataframes</div>"
   ]
  },
  {
   "cell_type": "code",
   "execution_count": 8,
   "id": "0d64c6cf",
   "metadata": {},
   "outputs": [
    {
     "data": {
      "text/html": [
       "<div>\n",
       "<style scoped>\n",
       "    .dataframe tbody tr th:only-of-type {\n",
       "        vertical-align: middle;\n",
       "    }\n",
       "\n",
       "    .dataframe tbody tr th {\n",
       "        vertical-align: top;\n",
       "    }\n",
       "\n",
       "    .dataframe thead th {\n",
       "        text-align: right;\n",
       "    }\n",
       "</style>\n",
       "<table border=\"1\" class=\"dataframe\">\n",
       "  <thead>\n",
       "    <tr style=\"text-align: right;\">\n",
       "      <th></th>\n",
       "      <th>aisle_id</th>\n",
       "      <th>aisle</th>\n",
       "    </tr>\n",
       "  </thead>\n",
       "  <tbody>\n",
       "    <tr>\n",
       "      <th>0</th>\n",
       "      <td>1</td>\n",
       "      <td>prepared soups salads</td>\n",
       "    </tr>\n",
       "    <tr>\n",
       "      <th>1</th>\n",
       "      <td>2</td>\n",
       "      <td>specialty cheeses</td>\n",
       "    </tr>\n",
       "    <tr>\n",
       "      <th>2</th>\n",
       "      <td>3</td>\n",
       "      <td>energy granola bars</td>\n",
       "    </tr>\n",
       "    <tr>\n",
       "      <th>3</th>\n",
       "      <td>4</td>\n",
       "      <td>instant foods</td>\n",
       "    </tr>\n",
       "    <tr>\n",
       "      <th>4</th>\n",
       "      <td>5</td>\n",
       "      <td>marinades meat preparation</td>\n",
       "    </tr>\n",
       "  </tbody>\n",
       "</table>\n",
       "</div>"
      ],
      "text/plain": [
       "   aisle_id                       aisle\n",
       "0         1       prepared soups salads\n",
       "1         2           specialty cheeses\n",
       "2         3         energy granola bars\n",
       "3         4               instant foods\n",
       "4         5  marinades meat preparation"
      ]
     },
     "metadata": {},
     "output_type": "display_data"
    },
    {
     "data": {
      "text/html": [
       "<div>\n",
       "<style scoped>\n",
       "    .dataframe tbody tr th:only-of-type {\n",
       "        vertical-align: middle;\n",
       "    }\n",
       "\n",
       "    .dataframe tbody tr th {\n",
       "        vertical-align: top;\n",
       "    }\n",
       "\n",
       "    .dataframe thead th {\n",
       "        text-align: right;\n",
       "    }\n",
       "</style>\n",
       "<table border=\"1\" class=\"dataframe\">\n",
       "  <thead>\n",
       "    <tr style=\"text-align: right;\">\n",
       "      <th></th>\n",
       "      <th>department_id</th>\n",
       "      <th>department</th>\n",
       "    </tr>\n",
       "  </thead>\n",
       "  <tbody>\n",
       "    <tr>\n",
       "      <th>0</th>\n",
       "      <td>1</td>\n",
       "      <td>frozen</td>\n",
       "    </tr>\n",
       "    <tr>\n",
       "      <th>1</th>\n",
       "      <td>2</td>\n",
       "      <td>other</td>\n",
       "    </tr>\n",
       "    <tr>\n",
       "      <th>2</th>\n",
       "      <td>3</td>\n",
       "      <td>bakery</td>\n",
       "    </tr>\n",
       "    <tr>\n",
       "      <th>3</th>\n",
       "      <td>4</td>\n",
       "      <td>produce</td>\n",
       "    </tr>\n",
       "    <tr>\n",
       "      <th>4</th>\n",
       "      <td>5</td>\n",
       "      <td>alcohol</td>\n",
       "    </tr>\n",
       "  </tbody>\n",
       "</table>\n",
       "</div>"
      ],
      "text/plain": [
       "   department_id department\n",
       "0              1     frozen\n",
       "1              2      other\n",
       "2              3     bakery\n",
       "3              4    produce\n",
       "4              5    alcohol"
      ]
     },
     "metadata": {},
     "output_type": "display_data"
    },
    {
     "data": {
      "text/html": [
       "<div>\n",
       "<style scoped>\n",
       "    .dataframe tbody tr th:only-of-type {\n",
       "        vertical-align: middle;\n",
       "    }\n",
       "\n",
       "    .dataframe tbody tr th {\n",
       "        vertical-align: top;\n",
       "    }\n",
       "\n",
       "    .dataframe thead th {\n",
       "        text-align: right;\n",
       "    }\n",
       "</style>\n",
       "<table border=\"1\" class=\"dataframe\">\n",
       "  <thead>\n",
       "    <tr style=\"text-align: right;\">\n",
       "      <th></th>\n",
       "      <th>order_id</th>\n",
       "      <th>user_id</th>\n",
       "      <th>order_number</th>\n",
       "      <th>order_dow</th>\n",
       "      <th>order_hour_of_day</th>\n",
       "      <th>days_since_prior_order</th>\n",
       "    </tr>\n",
       "  </thead>\n",
       "  <tbody>\n",
       "    <tr>\n",
       "      <th>0</th>\n",
       "      <td>1515936</td>\n",
       "      <td>183418</td>\n",
       "      <td>11</td>\n",
       "      <td>6</td>\n",
       "      <td>13</td>\n",
       "      <td>30.0</td>\n",
       "    </tr>\n",
       "    <tr>\n",
       "      <th>1</th>\n",
       "      <td>1690866</td>\n",
       "      <td>163593</td>\n",
       "      <td>5</td>\n",
       "      <td>5</td>\n",
       "      <td>12</td>\n",
       "      <td>9.0</td>\n",
       "    </tr>\n",
       "    <tr>\n",
       "      <th>2</th>\n",
       "      <td>1454967</td>\n",
       "      <td>39980</td>\n",
       "      <td>4</td>\n",
       "      <td>5</td>\n",
       "      <td>19</td>\n",
       "      <td>2.0</td>\n",
       "    </tr>\n",
       "    <tr>\n",
       "      <th>3</th>\n",
       "      <td>1768857</td>\n",
       "      <td>82516</td>\n",
       "      <td>56</td>\n",
       "      <td>0</td>\n",
       "      <td>20</td>\n",
       "      <td>10.0</td>\n",
       "    </tr>\n",
       "    <tr>\n",
       "      <th>4</th>\n",
       "      <td>3007858</td>\n",
       "      <td>196724</td>\n",
       "      <td>2</td>\n",
       "      <td>4</td>\n",
       "      <td>12</td>\n",
       "      <td>17.0</td>\n",
       "    </tr>\n",
       "  </tbody>\n",
       "</table>\n",
       "</div>"
      ],
      "text/plain": [
       "   order_id  user_id  order_number  order_dow  order_hour_of_day  \\\n",
       "0   1515936   183418            11          6                 13   \n",
       "1   1690866   163593             5          5                 12   \n",
       "2   1454967    39980             4          5                 19   \n",
       "3   1768857    82516            56          0                 20   \n",
       "4   3007858   196724             2          4                 12   \n",
       "\n",
       "   days_since_prior_order  \n",
       "0                    30.0  \n",
       "1                     9.0  \n",
       "2                     2.0  \n",
       "3                    10.0  \n",
       "4                    17.0  "
      ]
     },
     "metadata": {},
     "output_type": "display_data"
    },
    {
     "data": {
      "text/html": [
       "<div>\n",
       "<style scoped>\n",
       "    .dataframe tbody tr th:only-of-type {\n",
       "        vertical-align: middle;\n",
       "    }\n",
       "\n",
       "    .dataframe tbody tr th {\n",
       "        vertical-align: top;\n",
       "    }\n",
       "\n",
       "    .dataframe thead th {\n",
       "        text-align: right;\n",
       "    }\n",
       "</style>\n",
       "<table border=\"1\" class=\"dataframe\">\n",
       "  <thead>\n",
       "    <tr style=\"text-align: right;\">\n",
       "      <th></th>\n",
       "      <th>order_id</th>\n",
       "      <th>product_id</th>\n",
       "      <th>add_to_cart_order</th>\n",
       "      <th>reordered</th>\n",
       "    </tr>\n",
       "  </thead>\n",
       "  <tbody>\n",
       "    <tr>\n",
       "      <th>0</th>\n",
       "      <td>2141543</td>\n",
       "      <td>11440</td>\n",
       "      <td>17.0</td>\n",
       "      <td>0</td>\n",
       "    </tr>\n",
       "    <tr>\n",
       "      <th>1</th>\n",
       "      <td>567889</td>\n",
       "      <td>1560</td>\n",
       "      <td>1.0</td>\n",
       "      <td>1</td>\n",
       "    </tr>\n",
       "    <tr>\n",
       "      <th>2</th>\n",
       "      <td>2261212</td>\n",
       "      <td>26683</td>\n",
       "      <td>1.0</td>\n",
       "      <td>1</td>\n",
       "    </tr>\n",
       "    <tr>\n",
       "      <th>3</th>\n",
       "      <td>491251</td>\n",
       "      <td>8670</td>\n",
       "      <td>35.0</td>\n",
       "      <td>1</td>\n",
       "    </tr>\n",
       "    <tr>\n",
       "      <th>4</th>\n",
       "      <td>2571142</td>\n",
       "      <td>1940</td>\n",
       "      <td>5.0</td>\n",
       "      <td>1</td>\n",
       "    </tr>\n",
       "  </tbody>\n",
       "</table>\n",
       "</div>"
      ],
      "text/plain": [
       "   order_id  product_id  add_to_cart_order  reordered\n",
       "0   2141543       11440               17.0          0\n",
       "1    567889        1560                1.0          1\n",
       "2   2261212       26683                1.0          1\n",
       "3    491251        8670               35.0          1\n",
       "4   2571142        1940                5.0          1"
      ]
     },
     "metadata": {},
     "output_type": "display_data"
    },
    {
     "data": {
      "text/html": [
       "<div>\n",
       "<style scoped>\n",
       "    .dataframe tbody tr th:only-of-type {\n",
       "        vertical-align: middle;\n",
       "    }\n",
       "\n",
       "    .dataframe tbody tr th {\n",
       "        vertical-align: top;\n",
       "    }\n",
       "\n",
       "    .dataframe thead th {\n",
       "        text-align: right;\n",
       "    }\n",
       "</style>\n",
       "<table border=\"1\" class=\"dataframe\">\n",
       "  <thead>\n",
       "    <tr style=\"text-align: right;\">\n",
       "      <th></th>\n",
       "      <th>product_id</th>\n",
       "      <th>product_name</th>\n",
       "      <th>aisle_id</th>\n",
       "      <th>department_id</th>\n",
       "    </tr>\n",
       "  </thead>\n",
       "  <tbody>\n",
       "    <tr>\n",
       "      <th>0</th>\n",
       "      <td>1</td>\n",
       "      <td>Chocolate Sandwich Cookies</td>\n",
       "      <td>61</td>\n",
       "      <td>19</td>\n",
       "    </tr>\n",
       "    <tr>\n",
       "      <th>1</th>\n",
       "      <td>2</td>\n",
       "      <td>All-Seasons Salt</td>\n",
       "      <td>104</td>\n",
       "      <td>13</td>\n",
       "    </tr>\n",
       "    <tr>\n",
       "      <th>2</th>\n",
       "      <td>3</td>\n",
       "      <td>Robust Golden Unsweetened Oolong Tea</td>\n",
       "      <td>94</td>\n",
       "      <td>7</td>\n",
       "    </tr>\n",
       "    <tr>\n",
       "      <th>3</th>\n",
       "      <td>4</td>\n",
       "      <td>Smart Ones Classic Favorites Mini Rigatoni Wit...</td>\n",
       "      <td>38</td>\n",
       "      <td>1</td>\n",
       "    </tr>\n",
       "    <tr>\n",
       "      <th>4</th>\n",
       "      <td>5</td>\n",
       "      <td>Green Chile Anytime Sauce</td>\n",
       "      <td>5</td>\n",
       "      <td>13</td>\n",
       "    </tr>\n",
       "  </tbody>\n",
       "</table>\n",
       "</div>"
      ],
      "text/plain": [
       "   product_id                                       product_name  aisle_id  \\\n",
       "0           1                         Chocolate Sandwich Cookies        61   \n",
       "1           2                                   All-Seasons Salt       104   \n",
       "2           3               Robust Golden Unsweetened Oolong Tea        94   \n",
       "3           4  Smart Ones Classic Favorites Mini Rigatoni Wit...        38   \n",
       "4           5                          Green Chile Anytime Sauce         5   \n",
       "\n",
       "   department_id  \n",
       "0             19  \n",
       "1             13  \n",
       "2              7  \n",
       "3              1  \n",
       "4             13  "
      ]
     },
     "metadata": {},
     "output_type": "display_data"
    }
   ],
   "source": [
    "#REVIEWER CODE\n",
    "#reviewer note to only display and not print dataframe\n",
    "display(aisles.head())\n",
    "display(departments.head())\n",
    "display(orders.head())\n",
    "display(order_products.head())\n",
    "display(products.head())"
   ]
  },
  {
   "cell_type": "markdown",
   "id": "07357848-dc64-4156-9cc3-01ff4365226d",
   "metadata": {},
   "source": [
    "## Find and remove duplicate values (and describe why you make your choices)"
   ]
  },
  {
   "cell_type": "markdown",
   "id": "f179f0a9",
   "metadata": {},
   "source": [
    "### `orders` data frame"
   ]
  },
  {
   "cell_type": "code",
   "execution_count": 9,
   "id": "b99297a5-405a-463d-8535-9adc3da4ad74",
   "metadata": {},
   "outputs": [
    {
     "name": "stdout",
     "output_type": "stream",
     "text": [
      "15\n"
     ]
    }
   ],
   "source": [
    "# Check for duplicated orders\n",
    "duplicate_orders = orders.duplicated().sum()\n",
    "\n",
    "# print results\n",
    "print(duplicate_orders)"
   ]
  },
  {
   "cell_type": "markdown",
   "id": "38150412",
   "metadata": {},
   "source": [
    "<div class=\"alert alert-block alert-danger\">\n",
    "<b>Reviewer's comment</b> <a class=\"tocSkip\"></a>\n",
    "\n",
    "~~HERE AND FURTHER~~\n",
    "\n",
    "~~We only need to import the libraries once~~\n",
    "\n",
    "~~Also, if you have already downloaded the data, there is no need to do it again.~~\n",
    "\n",
    "~~Please remove rows~~ \n",
    "\n",
    "\n",
    "    import pandas as pd\n",
    "\n",
    "    orders = pd.read_csv('/datasets/instacart_orders.csv', delimiter=';')\n",
    "</div>"
   ]
  },
  {
   "cell_type": "markdown",
   "id": "40d864a9",
   "metadata": {},
   "source": [
    "<div class=\"alert alert-block alert-warning\"> <b>Reviewer's comment</b> <a \n",
    "class=\"tocSkip\"></a>\n",
    "    \n",
    "~~Very good that you found the duplicates But it is better to find their numbers~~\n",
    "\n",
    "    orders.duplicated().sum()"
   ]
  },
  {
   "cell_type": "markdown",
   "id": "bebe61f8",
   "metadata": {},
   "source": [
    "<div class=\"alert alert-block alert-success\"> <b>Reviewer's comment v2</b> <a \n",
    "class=\"tocSkip\"></a>\n",
    "Perfect!</div>"
   ]
  },
  {
   "cell_type": "code",
   "execution_count": 10,
   "id": "0d44de5d",
   "metadata": {},
   "outputs": [
    {
     "name": "stdout",
     "output_type": "stream",
     "text": [
      "        order_id  user_id  order_number  order_dow  order_hour_of_day  \\\n",
      "4838     2766110   162084            41          3                  2   \n",
      "5156     2190225   138285            18          3                  2   \n",
      "15506     553049    58599            13          3                  2   \n",
      "18420     382357   120200            19          3                  2   \n",
      "24691     690242    77357             2          3                  2   \n",
      "...          ...      ...           ...        ...                ...   \n",
      "457013   3384021    14881             6          3                  2   \n",
      "458816    910166   164782            18          3                  2   \n",
      "459635   1680532   106435             6          3                  2   \n",
      "468324    222962    54979            59          3                  2   \n",
      "477526   2592344    46860            38          3                  2   \n",
      "\n",
      "        days_since_prior_order  \n",
      "4838                      16.0  \n",
      "5156                      11.0  \n",
      "15506                      7.0  \n",
      "18420                     11.0  \n",
      "24691                      9.0  \n",
      "...                        ...  \n",
      "457013                    30.0  \n",
      "458816                     4.0  \n",
      "459635                    21.0  \n",
      "468324                     3.0  \n",
      "477526                     3.0  \n",
      "\n",
      "[121 rows x 6 columns]\n"
     ]
    }
   ],
   "source": [
    "# Check for all orders placed Wednesday at 2:00 AM\n",
    "# Filtering orders placed on Wednesdays at 2:00 AM with two conditions\n",
    "wednesday_2_am_orders = orders[(orders['order_dow'] == 3) & (orders['order_hour_of_day'] == 2)]\n",
    "\n",
    "# Print the filtered orders\n",
    "print(wednesday_2_am_orders)"
   ]
  },
  {
   "cell_type": "markdown",
   "id": "84429b5a",
   "metadata": {},
   "source": [
    "<div class=\"alert alert-block alert-success\"> <b>Reviewer's comment</b> <a \n",
    "class=\"tocSkip\"></a>\n",
    "Perfect </div>"
   ]
  },
  {
   "cell_type": "code",
   "execution_count": 11,
   "id": "00787273",
   "metadata": {},
   "outputs": [],
   "source": [
    "# Remove duplicate orders\n",
    "orders = orders.drop_duplicates().reset_index(drop=True)"
   ]
  },
  {
   "cell_type": "code",
   "execution_count": 12,
   "id": "480563c7",
   "metadata": {},
   "outputs": [
    {
     "name": "stdout",
     "output_type": "stream",
     "text": [
      "        order_id  user_id  order_number  order_dow  order_hour_of_day  \\\n",
      "0        1515936   183418            11          6                 13   \n",
      "1        1690866   163593             5          5                 12   \n",
      "2        1454967    39980             4          5                 19   \n",
      "3        1768857    82516            56          0                 20   \n",
      "4        3007858   196724             2          4                 12   \n",
      "...          ...      ...           ...        ...                ...   \n",
      "478947   3210681     5617             5          1                 14   \n",
      "478948   3270802   112087             2          3                 13   \n",
      "478949    885349    82944            16          2                 11   \n",
      "478950    216274     4391             3          3                  8   \n",
      "478951   2071924     1730            18          1                 14   \n",
      "\n",
      "        days_since_prior_order  \n",
      "0                         30.0  \n",
      "1                          9.0  \n",
      "2                          2.0  \n",
      "3                         10.0  \n",
      "4                         17.0  \n",
      "...                        ...  \n",
      "478947                     7.0  \n",
      "478948                     6.0  \n",
      "478949                     6.0  \n",
      "478950                     8.0  \n",
      "478951                    15.0  \n",
      "\n",
      "[478952 rows x 6 columns]\n"
     ]
    }
   ],
   "source": [
    "# print(duplicate_orders)# '.drop_duplicate()' method to remove duplicates\n",
    "orders = orders.drop_duplicates().reset_index(drop=True)\n",
    "# Print the updated 'orders' DataFrame\n",
    "print(orders)"
   ]
  },
  {
   "cell_type": "code",
   "execution_count": 13,
   "id": "0b2396a2",
   "metadata": {},
   "outputs": [
    {
     "name": "stdout",
     "output_type": "stream",
     "text": [
      "No more duplicate rows in 'remove_dups'.\n"
     ]
    }
   ],
   "source": [
    "# Check for duplicated rows in the 'orders' DataFrame\n",
    "duplicated_rows = orders[orders.duplicated()]\n",
    "orders = orders.drop_duplicates() # reviewer comments \"You need to remove duplicates from the original dataframe\"\n",
    "# If the 'duplicated_rows' DataFrame is empty, there are no more duplicates\n",
    "if duplicated_rows.empty:\n",
    "    print(\"No more duplicate rows in 'remove_dups'.\")\n",
    "else:\n",
    "    print(\"Duplicate rows found in 'remove_dups'.\")"
   ]
  },
  {
   "cell_type": "markdown",
   "id": "1a074d2f",
   "metadata": {},
   "source": [
    "<div class=\"alert alert-block alert-danger\">\n",
    "<b>Reviewer's comment</b> <a class=\"tocSkip\"></a>\n",
    "    \n",
    "~~You need to remove duplicates from the original dataframe~~\n",
    "    \n",
    "    orders = orders.drop_duplicates()\n",
    "</div>"
   ]
  },
  {
   "cell_type": "markdown",
   "id": "10474369",
   "metadata": {},
   "source": [
    "<div class=\"alert alert-block alert-success\"> <b>Reviewer's comment v2</b> <a \n",
    "class=\"tocSkip\"></a>\n",
    "Fixed </div>"
   ]
  },
  {
   "cell_type": "code",
   "execution_count": 14,
   "id": "f6113ef1",
   "metadata": {},
   "outputs": [
    {
     "name": "stdout",
     "output_type": "stream",
     "text": [
      "Empty DataFrame\n",
      "Columns: [order_id, user_id, order_number, order_dow, order_hour_of_day, days_since_prior_order]\n",
      "Index: []\n"
     ]
    }
   ],
   "source": [
    "# Double check for duplicate order IDs only\n",
    "\n",
    "duplicate_order_ids = orders[orders['order_id'].duplicated(keep=False)]\n",
    "print(duplicate_order_ids)"
   ]
  },
  {
   "cell_type": "markdown",
   "id": "5e8905ae",
   "metadata": {},
   "source": []
  },
  {
   "cell_type": "markdown",
   "id": "45e6bc46",
   "metadata": {},
   "source": [
    "### `products` data frame"
   ]
  },
  {
   "cell_type": "code",
   "execution_count": 15,
   "id": "5f526b5b-8175-46fa-a0fd-441767d50e64",
   "metadata": {},
   "outputs": [
    {
     "name": "stdout",
     "output_type": "stream",
     "text": [
      "Empty DataFrame\n",
      "Columns: [product_id, product_name, aisle_id, department_id]\n",
      "Index: []\n"
     ]
    }
   ],
   "source": [
    "# Check for fully duplicate rows\n",
    "# import pandas as pd removed should only be imported once noted by reviewers comment, only first time\n",
    "# Loading orders from the csv dataframe file instacart orders\n",
    "# products = pd.read_csv('/datasets/products.csv', delimiter=';') remove since I've already \n",
    "#importing dataset and using delimiter to remove the semicolon\n",
    "duplicate_products = products[products.duplicated(keep=False)]\n",
    "# Display fully duplicated occurrences\n",
    "print(duplicate_products)"
   ]
  },
  {
   "cell_type": "markdown",
   "id": "03492498",
   "metadata": {},
   "source": [
    "<div class=\"alert alert-block alert-danger\">\n",
    "<b>Reviewer's comment v2</b> <a class=\"tocSkip\"></a>\n",
    "\n",
    "~~HERE AND FURTHER~~\n",
    "\n",
    "~~We only need to import the libraries once~~\n",
    "\n",
    "~~Also, if you have already downloaded the data, there is no need to do it again.~~\n",
    "\n",
    "~~Please remove rows ~~\n",
    "\n",
    "\n",
    "    import pandas as pd\n",
    "\n",
    "    products = pd.read_csv('/datasets/products.csv', delimiter=';')\n",
    "</div>"
   ]
  },
  {
   "cell_type": "code",
   "execution_count": 16,
   "id": "88daa4f4",
   "metadata": {},
   "outputs": [
    {
     "name": "stdout",
     "output_type": "stream",
     "text": [
      "Empty DataFrame\n",
      "Columns: [product_id, product_name, aisle_id, department_id]\n",
      "Index: []\n"
     ]
    }
   ],
   "source": [
    "# Check for just duplicate product IDs\n",
    "duplicate_product_ids = products[products.duplicated(subset='product_id', keep=False)]\n",
    "print(duplicate_product_ids)"
   ]
  },
  {
   "cell_type": "code",
   "execution_count": 17,
   "id": "c773f0bf",
   "metadata": {},
   "outputs": [
    {
     "data": {
      "text/html": [
       "<div>\n",
       "<style scoped>\n",
       "    .dataframe tbody tr th:only-of-type {\n",
       "        vertical-align: middle;\n",
       "    }\n",
       "\n",
       "    .dataframe tbody tr th {\n",
       "        vertical-align: top;\n",
       "    }\n",
       "\n",
       "    .dataframe thead th {\n",
       "        text-align: right;\n",
       "    }\n",
       "</style>\n",
       "<table border=\"1\" class=\"dataframe\">\n",
       "  <thead>\n",
       "    <tr style=\"text-align: right;\">\n",
       "      <th></th>\n",
       "      <th>product_id</th>\n",
       "      <th>product_name</th>\n",
       "      <th>aisle_id</th>\n",
       "      <th>department_id</th>\n",
       "    </tr>\n",
       "  </thead>\n",
       "  <tbody>\n",
       "    <tr>\n",
       "      <th>0</th>\n",
       "      <td>1</td>\n",
       "      <td>chocolate sandwich cookies</td>\n",
       "      <td>61</td>\n",
       "      <td>19</td>\n",
       "    </tr>\n",
       "    <tr>\n",
       "      <th>1</th>\n",
       "      <td>2</td>\n",
       "      <td>all-seasons salt</td>\n",
       "      <td>104</td>\n",
       "      <td>13</td>\n",
       "    </tr>\n",
       "    <tr>\n",
       "      <th>2</th>\n",
       "      <td>3</td>\n",
       "      <td>robust golden unsweetened oolong tea</td>\n",
       "      <td>94</td>\n",
       "      <td>7</td>\n",
       "    </tr>\n",
       "    <tr>\n",
       "      <th>3</th>\n",
       "      <td>4</td>\n",
       "      <td>smart ones classic favorites mini rigatoni wit...</td>\n",
       "      <td>38</td>\n",
       "      <td>1</td>\n",
       "    </tr>\n",
       "    <tr>\n",
       "      <th>4</th>\n",
       "      <td>5</td>\n",
       "      <td>green chile anytime sauce</td>\n",
       "      <td>5</td>\n",
       "      <td>13</td>\n",
       "    </tr>\n",
       "  </tbody>\n",
       "</table>\n",
       "</div>"
      ],
      "text/plain": [
       "   product_id                                       product_name  aisle_id  \\\n",
       "0           1                         chocolate sandwich cookies        61   \n",
       "1           2                                   all-seasons salt       104   \n",
       "2           3               robust golden unsweetened oolong tea        94   \n",
       "3           4  smart ones classic favorites mini rigatoni wit...        38   \n",
       "4           5                          green chile anytime sauce         5   \n",
       "\n",
       "   department_id  \n",
       "0             19  \n",
       "1             13  \n",
       "2              7  \n",
       "3              1  \n",
       "4             13  "
      ]
     },
     "metadata": {},
     "output_type": "display_data"
    }
   ],
   "source": [
    "# Check for just duplicate product names (convert names to lowercase to compare better)\n",
    "# Convert product names to lowercase and check for duplicates\n",
    "products['product_name'] = products['product_name'].str.lower() \n",
    "# reviewer comment Lets change product names streight in product dataframe We dont need to create additional variables\n",
    "# Display duplicate product names\n",
    "display(products.head()) # dont print just display"
   ]
  },
  {
   "cell_type": "markdown",
   "id": "e5cc57ee",
   "metadata": {},
   "source": [
    "<div class=\"alert alert-block alert-danger\">\n",
    "<b>Reviewer's comment</b> <a class=\"tocSkip\"></a>\n",
    "\n",
    "~~Lets change product names streight in product dataframe We dont need to create additional variables~~\n",
    "    \n",
    "    products['product_name'] = products['product_name'].str.lower()\n",
    "    \n",
    "</div>"
   ]
  },
  {
   "cell_type": "markdown",
   "id": "0710d49b",
   "metadata": {},
   "source": [
    "<div class=\"alert alert-block alert-success\"> <b>Reviewer's comment v2</b> <a \n",
    "class=\"tocSkip\"></a>\n",
    "Well done </div>"
   ]
  },
  {
   "cell_type": "code",
   "execution_count": 18,
   "id": "01efd02e",
   "metadata": {},
   "outputs": [
    {
     "name": "stdout",
     "output_type": "stream",
     "text": [
      "       product_id                                     product_name  aisle_id  \\\n",
      "41             42                                  biotin 1000 mcg        47   \n",
      "185           186       fresh scent dishwasher detergent with dawn        74   \n",
      "515           516                           american cheese slices        21   \n",
      "1538         1539                                 cauliflower head        83   \n",
      "1783         1784              nutrition protein mix blueberry nut       117   \n",
      "...           ...                                              ...       ...   \n",
      "49689       49690                    high performance energy drink        64   \n",
      "49690       49691                    original pancake & waffle mix       130   \n",
      "49691       49692  organic instant oatmeal light maple brown sugar       130   \n",
      "49692       49693                           spring water body wash       127   \n",
      "49693       49694                          burrito- steak & cheese        38   \n",
      "\n",
      "       department_id  \n",
      "41                11  \n",
      "185               17  \n",
      "515               16  \n",
      "1538               4  \n",
      "1783              19  \n",
      "...              ...  \n",
      "49689              7  \n",
      "49690             14  \n",
      "49691             14  \n",
      "49692             11  \n",
      "49693              1  \n",
      "\n",
      "[207 rows x 4 columns]\n"
     ]
    }
   ],
   "source": [
    "# Check for duplicate product names that aren't missing\n",
    "duplicate_product_names = products[products['product_name'].str.lower().duplicated(keep=False) & ~products['product_name'].isnull()]\n",
    "# Display duplicate product names that aren't missing\n",
    "print(duplicate_product_names)"
   ]
  },
  {
   "cell_type": "markdown",
   "id": "9da8d293",
   "metadata": {},
   "source": [
    "<div class=\"alert alert-block alert-success\"> <b>Reviewer's comment</b> <a \n",
    "class=\"tocSkip\"></a>\n",
    "Result is correct </div>"
   ]
  },
  {
   "cell_type": "markdown",
   "id": "60f30db1",
   "metadata": {},
   "source": [
    "### `departments` data frame"
   ]
  },
  {
   "cell_type": "code",
   "execution_count": 19,
   "id": "fb410ad4-0fbf-4b80-bb09-23fdea79afe3",
   "metadata": {
    "scrolled": true
   },
   "outputs": [
    {
     "name": "stdout",
     "output_type": "stream",
     "text": [
      "Empty DataFrame\n",
      "Columns: [department_id, department]\n",
      "Index: []\n",
      "    department_id       department\n",
      "0               1           frozen\n",
      "1               2            other\n",
      "2               3           bakery\n",
      "3               4          produce\n",
      "4               5          alcohol\n",
      "5               6    international\n",
      "6               7        beverages\n",
      "7               8             pets\n",
      "8               9  dry goods pasta\n",
      "9              10             bulk\n",
      "10             11    personal care\n",
      "11             12     meat seafood\n",
      "12             13           pantry\n",
      "13             14        breakfast\n",
      "14             15     canned goods\n",
      "15             16       dairy eggs\n",
      "16             17        household\n",
      "17             18           babies\n",
      "18             19           snacks\n",
      "19             20             deli\n",
      "20             21          missing\n"
     ]
    }
   ],
   "source": [
    "# Check for fully duplicated rows in the departments data frame\n",
    "# import pandas as pd removed should only be imported once\n",
    "# Loading orders from the csv dataframe file instacart orders\n",
    "departments = pd.read_csv('/datasets/departments.csv', delimiter=';')\n",
    "duplicate_departments = departments[departments.duplicated(keep=False)]\n",
    "# Display fully duplicated departments\n",
    "print(duplicate_departments)\n",
    "print(departments)"
   ]
  },
  {
   "cell_type": "markdown",
   "id": "c701237a",
   "metadata": {},
   "source": [
    "<div class=\"alert alert-block alert-danger\">\n",
    "<b>Reviewer's comment v2</b> <a class=\"tocSkip\"></a>\n",
    "\n",
    "~~HERE AND FURTHER~~\n",
    "\n",
    "~~We only need to import the libraries once~~\n",
    "\n",
    "~~Also, if you have already downloaded the data, there is no need to do it again.~~\n",
    "\n",
    "~~Please remove rows~~ \n",
    "\n",
    "\n",
    "    import pandas as pd\n",
    "\n",
    "    departments = pd.read_csv('/datasets/departments.csv', delimiter=';')\n",
    "</div>"
   ]
  },
  {
   "cell_type": "code",
   "execution_count": 20,
   "id": "332b12bb",
   "metadata": {},
   "outputs": [
    {
     "name": "stdout",
     "output_type": "stream",
     "text": [
      "Empty DataFrame\n",
      "Columns: [department_id, department]\n",
      "Index: []\n"
     ]
    }
   ],
   "source": [
    "# Remove duplicate orders\n",
    "remove_dups = duplicate_departments.drop_duplicates().reset_index(drop=True)\n",
    "print(remove_dups)"
   ]
  },
  {
   "cell_type": "markdown",
   "id": "bd30d78e",
   "metadata": {},
   "source": []
  },
  {
   "cell_type": "markdown",
   "id": "889349c1",
   "metadata": {},
   "source": [
    "### `aisles` data frame"
   ]
  },
  {
   "cell_type": "code",
   "execution_count": 21,
   "id": "9da89fb9-4679-40f5-ad0d-c34df753a3f8",
   "metadata": {},
   "outputs": [
    {
     "name": "stdout",
     "output_type": "stream",
     "text": [
      "Empty DataFrame\n",
      "Columns: [aisle_id, aisle]\n",
      "Index: []\n",
      "     aisle_id                       aisle\n",
      "0           1       prepared soups salads\n",
      "1           2           specialty cheeses\n",
      "2           3         energy granola bars\n",
      "3           4               instant foods\n",
      "4           5  marinades meat preparation\n",
      "..        ...                         ...\n",
      "129       130    hot cereal pancake mixes\n",
      "130       131                   dry pasta\n",
      "131       132                      beauty\n",
      "132       133  muscles joints pain relief\n",
      "133       134  specialty wines champagnes\n",
      "\n",
      "[134 rows x 2 columns]\n"
     ]
    }
   ],
   "source": [
    "# import pandas as pd removed should only be imported once\n",
    "# Loading orders from the csv dataframe file instacart orders\n",
    "aisles = pd.read_csv('/datasets/aisles.csv', delimiter=';')\n",
    "duplicate_aisles = aisles[aisles.duplicated(keep=False)]\n",
    "# Display fully duplicated departments\n",
    "print(duplicate_aisles)\n",
    "print(aisles)"
   ]
  },
  {
   "cell_type": "markdown",
   "id": "1a856450",
   "metadata": {},
   "source": [
    "<div class=\"alert alert-block alert-danger\">\n",
    "<b>Reviewer's comment v2</b> <a class=\"tocSkip\"></a>\n",
    "\n",
    "~~HERE AND FURTHER~~\n",
    "\n",
    "~~We only need to import the libraries once~~\n",
    "\n",
    "~~Also, if you have already downloaded the data, there is no need to do it again.~~\n",
    "\n",
    "~~Please remove rows~~\n",
    "\n",
    "\n",
    "    import pandas as pd\n",
    "\n",
    "    aisles = pd.read_csv('/datasets/aisles.csv', delimiter=';'))\n",
    "</div>"
   ]
  },
  {
   "cell_type": "code",
   "execution_count": 22,
   "id": "da7c2822",
   "metadata": {},
   "outputs": [
    {
     "name": "stdout",
     "output_type": "stream",
     "text": [
      "Empty DataFrame\n",
      "Columns: [aisle_id, aisle]\n",
      "Index: []\n"
     ]
    }
   ],
   "source": [
    "# Remove duplicate orders\n",
    "remove_dups = duplicate_aisles.drop_duplicates().reset_index(drop=True)\n",
    "print(remove_dups)"
   ]
  },
  {
   "cell_type": "markdown",
   "id": "ac63826f",
   "metadata": {},
   "source": []
  },
  {
   "cell_type": "markdown",
   "id": "274cd06a",
   "metadata": {},
   "source": [
    "### `order_products` data frame"
   ]
  },
  {
   "cell_type": "code",
   "execution_count": 23,
   "id": "52326689-84a8-4b8f-a881-7c68780f62c9",
   "metadata": {},
   "outputs": [
    {
     "name": "stdout",
     "output_type": "stream",
     "text": [
      "Empty DataFrame\n",
      "Columns: [order_id, product_id, add_to_cart_order, reordered]\n",
      "Index: []\n"
     ]
    },
    {
     "data": {
      "text/html": [
       "<div>\n",
       "<style scoped>\n",
       "    .dataframe tbody tr th:only-of-type {\n",
       "        vertical-align: middle;\n",
       "    }\n",
       "\n",
       "    .dataframe tbody tr th {\n",
       "        vertical-align: top;\n",
       "    }\n",
       "\n",
       "    .dataframe thead th {\n",
       "        text-align: right;\n",
       "    }\n",
       "</style>\n",
       "<table border=\"1\" class=\"dataframe\">\n",
       "  <thead>\n",
       "    <tr style=\"text-align: right;\">\n",
       "      <th></th>\n",
       "      <th>order_id</th>\n",
       "      <th>product_id</th>\n",
       "      <th>add_to_cart_order</th>\n",
       "      <th>reordered</th>\n",
       "    </tr>\n",
       "  </thead>\n",
       "  <tbody>\n",
       "    <tr>\n",
       "      <th>0</th>\n",
       "      <td>2141543</td>\n",
       "      <td>11440</td>\n",
       "      <td>17.0</td>\n",
       "      <td>0</td>\n",
       "    </tr>\n",
       "    <tr>\n",
       "      <th>1</th>\n",
       "      <td>567889</td>\n",
       "      <td>1560</td>\n",
       "      <td>1.0</td>\n",
       "      <td>1</td>\n",
       "    </tr>\n",
       "    <tr>\n",
       "      <th>2</th>\n",
       "      <td>2261212</td>\n",
       "      <td>26683</td>\n",
       "      <td>1.0</td>\n",
       "      <td>1</td>\n",
       "    </tr>\n",
       "    <tr>\n",
       "      <th>3</th>\n",
       "      <td>491251</td>\n",
       "      <td>8670</td>\n",
       "      <td>35.0</td>\n",
       "      <td>1</td>\n",
       "    </tr>\n",
       "    <tr>\n",
       "      <th>4</th>\n",
       "      <td>2571142</td>\n",
       "      <td>1940</td>\n",
       "      <td>5.0</td>\n",
       "      <td>1</td>\n",
       "    </tr>\n",
       "  </tbody>\n",
       "</table>\n",
       "</div>"
      ],
      "text/plain": [
       "   order_id  product_id  add_to_cart_order  reordered\n",
       "0   2141543       11440               17.0          0\n",
       "1    567889        1560                1.0          1\n",
       "2   2261212       26683                1.0          1\n",
       "3    491251        8670               35.0          1\n",
       "4   2571142        1940                5.0          1"
      ]
     },
     "metadata": {},
     "output_type": "display_data"
    }
   ],
   "source": [
    "# Check for fullly duplicate rows\n",
    "# order_products = pd.read_csv('/datasets/order_products.csv', delimiter=';') remove it show only be done once\n",
    "duplicate_order_products = order_products[order_products.duplicated(keep=False)]\n",
    "# Display fully duplicated order_products\n",
    "print(duplicate_order_products)\n",
    "display(order_products.head())  #reviewer comment library already imported. dont do it again james"
   ]
  },
  {
   "cell_type": "markdown",
   "id": "40f1ffa6",
   "metadata": {},
   "source": [
    "<div class=\"alert alert-block alert-danger\">\n",
    "<b>Reviewer's comment v2</b> <a class=\"tocSkip\"></a>\n",
    "\n",
    "~~HERE AND FURTHER~~\n",
    "\n",
    "~~We only need to import the libraries once~~\n",
    "\n",
    "~~Also, if you have already downloaded the data, there is no need to do it again.~~\n",
    "\n",
    "~~Please remove rows~~\n",
    "\n",
    "\n",
    "    import pandas as pd\n",
    "    \n",
    "    order_products = pd.read_csv('/datasets/order_products.csv', delimiter=';')\n",
    "\n",
    "    \n",
    "</div>"
   ]
  },
  {
   "cell_type": "code",
   "execution_count": 24,
   "id": "7b861391",
   "metadata": {},
   "outputs": [
    {
     "name": "stdout",
     "output_type": "stream",
     "text": [
      "Empty DataFrame\n",
      "Columns: [order_id, product_id, add_to_cart_order, reordered]\n",
      "Index: []\n",
      "         order_id  product_id  add_to_cart_order  reordered\n",
      "0         2141543       11440               17.0          0\n",
      "1          567889        1560                1.0          1\n",
      "2         2261212       26683                1.0          1\n",
      "3          491251        8670               35.0          1\n",
      "4         2571142        1940                5.0          1\n",
      "...           ...         ...                ...        ...\n",
      "4545002    577211       15290               12.0          1\n",
      "4545003   1219554       21914                9.0          0\n",
      "4545004    692640       47766                4.0          1\n",
      "4545005    319435         691                8.0          1\n",
      "4545006   1398151       28733                9.0          0\n",
      "\n",
      "[4545007 rows x 4 columns]\n"
     ]
    }
   ],
   "source": [
    "# Double check for any other tricky duplicates\n",
    "# Check for duplicates based on 'order_id' and 'product_id'\n",
    "tricky_duplicates = order_products[order_products.duplicated(subset=['order_id', 'product_id'], keep=False)]\n",
    "# Display tricky duplicates\n",
    "print(tricky_duplicates)\n",
    "print(order_products)\n",
    "# I wanted to get a review of the information that I have before moving forward. Last time I had to redo a lot because I missed early on. Thank you, \n"
   ]
  },
  {
   "cell_type": "markdown",
   "id": "9f430ad2",
   "metadata": {},
   "source": [
    "<div class=\"alert alert-block alert-success\"> <b>Reviewer's comment v2</b> <a \n",
    "class=\"tocSkip\"></a>\n",
    "Everything is correct I remind you that it is better to use disply instead of print for dataframes </div>"
   ]
  },
  {
   "cell_type": "markdown",
   "id": "1e46de76",
   "metadata": {},
   "source": [
    "## Find and remove missing values\n"
   ]
  },
  {
   "cell_type": "markdown",
   "id": "c0aebd78",
   "metadata": {},
   "source": [
    "### `products` data frame"
   ]
  },
  {
   "cell_type": "code",
   "execution_count": 25,
   "id": "fe4a8b0f",
   "metadata": {},
   "outputs": [],
   "source": [
    "#Step 2: Preprocess the data by doing the following:\n",
    "#Verify and fix data types (e.g. make sure ID columns are integers)\n",
    "#Identify and fill in missing values\n",
    "#Identify and remove duplicate values\n",
    "#Be sure to explain what types of missing and duplicate values you found, how you filled or removed them, why you used those methods, and why you think these missing and duplicate values may have been present in the dataset."
   ]
  },
  {
   "cell_type": "code",
   "execution_count": 26,
   "id": "e96167bc",
   "metadata": {},
   "outputs": [
    {
     "name": "stdout",
     "output_type": "stream",
     "text": [
      "All missing product names are associated with aisle ID 100.\n"
     ]
    }
   ],
   "source": [
    "# Are all of the missing product names associated with aisle ID 100?\n",
    "missing_product_names = products[products['product_name'].isnull()]\n",
    "missing_product_names_with_aisle_100 = missing_product_names[missing_product_names['aisle_id'] == 100]\n",
    "if missing_product_names_with_aisle_100.shape[0] == missing_product_names.shape[0]:\n",
    "    print(\"All missing product names are associated with aisle ID 100.\")\n",
    "else:\n",
    "    print(\"Not all missing product names are associated with aisle ID 100.\")"
   ]
  },
  {
   "cell_type": "code",
   "execution_count": 27,
   "id": "8fd0a541",
   "metadata": {},
   "outputs": [
    {
     "name": "stdout",
     "output_type": "stream",
     "text": [
      "All missing product names are associated with department ID 21.\n"
     ]
    }
   ],
   "source": [
    "# Are all of the missing product names associated with department ID 21?\n",
    "missing_product_names = products[products['product_name'].isnull()] #filtering products with row for missing product\n",
    "missing_product_names_with_department_21 = missing_product_names[missing_product_names['department_id'] == 21]\n",
    "if missing_product_names_with_department_21.shape[0] == missing_product_names.shape[0]:\n",
    "    print(\"All missing product names are associated with department ID 21.\")\n",
    "else:\n",
    "    print(\"Not all missing product names are associated with department ID 21.\")"
   ]
  },
  {
   "cell_type": "code",
   "execution_count": 28,
   "id": "325c3464",
   "metadata": {},
   "outputs": [
    {
     "name": "stdout",
     "output_type": "stream",
     "text": [
      "Aisle ID 100 corresponds to: missing\n",
      "Department ID 21 corresponds to: missing\n"
     ]
    }
   ],
   "source": [
    "# What is this ailse and department?\n",
    "# For the aisles I will run isles for 100\n",
    "aisle_id = 100  # checking aisle 100\n",
    "# find the column for aisle_id\n",
    "aisle_info = aisles[aisles['aisle_id'] == aisle_id]\n",
    "if not aisle_info.empty:\n",
    "    print(f\"Aisle ID {aisle_id} corresponds to: {aisle_info['aisle'].values[0]}\")\n",
    "else:\n",
    "    print(f\"Aisle ID {aisle_id} not found.\")\n",
    "# For the department I will run department_id for 21\n",
    "department_id = 21  # replace department with 21\n",
    "# Find the department based on department_id\n",
    "department_info = departments[departments['department_id'] == department_id]\n",
    "if not department_info.empty:\n",
    "    print(f\"Department ID {department_id} corresponds to: {department_info['department'].values[0]}\")\n",
    "else:\n",
    "    print(f\"Department ID {department_id} not found.\")"
   ]
  },
  {
   "cell_type": "code",
   "execution_count": 29,
   "id": "6b295120",
   "metadata": {},
   "outputs": [],
   "source": [
    "# Fill missing product names with 'Unknown'\n",
    "# using the 'fillna()' method in pandas\n",
    "products['product_name'].fillna('Unknown', inplace=True)"
   ]
  },
  {
   "cell_type": "markdown",
   "id": "fc70e5ad",
   "metadata": {},
   "source": [
    "<div class=\"alert alert-block alert-success\"> <b>Reviewer's comment v2</b> <a \n",
    "class=\"tocSkip\"></a>\n",
    "Absolutely right </div>"
   ]
  },
  {
   "cell_type": "markdown",
   "id": "7eb45c86",
   "metadata": {},
   "source": [
    "### `orders` data frame"
   ]
  },
  {
   "cell_type": "code",
   "execution_count": 30,
   "id": "166e5a86",
   "metadata": {},
   "outputs": [
    {
     "name": "stdout",
     "output_type": "stream",
     "text": [
      "Missing values in 'days_since_prior_order' for non-first orders: 0\n"
     ]
    }
   ],
   "source": [
    "# Are there any missing values where it's not a customer's first order?\n",
    "# Filter orders where order_number is greater than 1\n",
    "non_first_orders = orders[orders['order_number'] > 1]\n",
    "# Check for missing values in the 'days_since_prior_order' column\n",
    "missing_values_non_first_orders = non_first_orders['days_since_prior_order'].isnull().sum()\n",
    "print(\"Missing values in 'days_since_prior_order' for non-first orders:\", missing_values_non_first_orders)"
   ]
  },
  {
   "cell_type": "markdown",
   "id": "4e23d089",
   "metadata": {},
   "source": [
    "<div class=\"alert alert-block alert-success\"> <b>Reviewer's comment v2</b> <a \n",
    "class=\"tocSkip\"></a>\n",
    "Well done</div>"
   ]
  },
  {
   "cell_type": "markdown",
   "id": "69dc9ca4",
   "metadata": {},
   "source": [
    "### `order_products` data frame"
   ]
  },
  {
   "cell_type": "code",
   "execution_count": 31,
   "id": "9a78e5ee",
   "metadata": {},
   "outputs": [
    {
     "name": "stdout",
     "output_type": "stream",
     "text": [
      "Minimum 'order_number' in orders: 1\n",
      "Maximum 'order_number' in orders: 100\n"
     ]
    }
   ],
   "source": [
    "# What are the min and max values in this column?\n",
    "# max and min values in the 'order_number' column\n",
    "min_order_number = orders['order_number'].min()\n",
    "max_order_number = orders['order_number'].max()\n",
    "print(\"Minimum 'order_number' in orders:\", min_order_number)\n",
    "print(\"Maximum 'order_number' in orders:\", max_order_number)"
   ]
  },
  {
   "cell_type": "markdown",
   "id": "a33c6adb",
   "metadata": {},
   "source": [
    "<div class=\"alert alert-block alert-success\"> <b>Reviewer's comment v2</b> <a \n",
    "class=\"tocSkip\"></a>\n",
    "Right</div>"
   ]
  },
  {
   "cell_type": "code",
   "execution_count": 32,
   "id": "ab9d0c2b",
   "metadata": {},
   "outputs": [
    {
     "name": "stdout",
     "output_type": "stream",
     "text": [
      "[2449164 1968313 2926893 1717990 1959075  844733   61355  936852  264710\n",
      " 1564093  129627  293169 2849370 1386261 3308010  903110 2136777 3347453\n",
      " 1888628  165801 2094761 1038146 2997021  813364 2256933  171934 2409109\n",
      " 1730767 1169835  733526  404157 3125735  747668 1800005 1961723  871281\n",
      "  388234 1648217 1477139  102236 1021563 1832957 2721963  678116 1220886\n",
      " 1673227 2999801 1633337 2470674 2625444 1677118 2479011 3383594 1183255\n",
      " 1713430 2652650 1598369 1916118  854647 1302315  888470  180546 2621907\n",
      " 1308785 2729254    9310 2170451 2979697 1625713 1529171]\n"
     ]
    }
   ],
   "source": [
    "# Save all order IDs with at least one missing value in 'add_to_cart_order'\n",
    "# Filter orders with missing 'add_to_cart_order'\n",
    "orders_with_missing_add_to_cart = order_products[order_products['add_to_cart_order'].isnull()]['order_id']\n",
    "# Saving the unique order IDs to a list that have at least one missing value\n",
    "order_ids_with_missing_add_to_cart = orders_with_missing_add_to_cart.unique()\n",
    "print(order_ids_with_missing_add_to_cart)"
   ]
  },
  {
   "cell_type": "code",
   "execution_count": 33,
   "id": "54c31695",
   "metadata": {},
   "outputs": [
    {
     "name": "stdout",
     "output_type": "stream",
     "text": [
      "Do all orders with missing values have more than 64 products? True\n"
     ]
    }
   ],
   "source": [
    "# Do all orders with missing values have more than 64 products?\n",
    "# Filter orders with missing 'add_to_cart_order'\n",
    "orders_with_missing_add_to_cart = order_products[order_products['add_to_cart_order'].isnull()]['order_id']\n",
    "# total products for each order\n",
    "product_counts = order_products.groupby('order_id')['product_id'].count()\n",
    "# Filter for orders with more than 64 products\n",
    "orders_with_more_than_64_products = product_counts[product_counts > 64].index\n",
    "# Check to see if missing values are also in the 'orders_with_more_than_64_products' list\n",
    "all_orders_have_more_than_64_products = orders_with_missing_add_to_cart.isin(orders_with_more_than_64_products).all()\n",
    "# Print the result\n",
    "print(\"Do all orders with missing values have more than 64 products?\", all_orders_have_more_than_64_products)"
   ]
  },
  {
   "cell_type": "code",
   "execution_count": 34,
   "id": "7a987d08",
   "metadata": {},
   "outputs": [],
   "source": [
    "# Replace missing values with 999 and convert column to integer type\n",
    "# Replace missing values with 999\n",
    "order_products['add_to_cart_order'].fillna(999, inplace=True)\n",
    "# Convert the column to integer type by using the 'astype()' method to covert\n",
    "order_products['add_to_cart_order'] = order_products['add_to_cart_order'].astype(int)"
   ]
  },
  {
   "cell_type": "markdown",
   "id": "fea4bcc7",
   "metadata": {},
   "source": [
    "<div class=\"alert alert-block alert-success\"> <b>Reviewer's comment v2</b> <a \n",
    "class=\"tocSkip\"></a>\n",
    "Great job!!!!</div>"
   ]
  },
  {
   "cell_type": "markdown",
   "id": "turkish-kidney",
   "metadata": {},
   "source": [
    "# [A] Easy (must complete all to pass)"
   ]
  },
  {
   "cell_type": "markdown",
   "id": "short-capability",
   "metadata": {},
   "source": [
    "### [A1] Verify that the `'order_hour_of_day'` and `'order_dow'` values in the `orders` tables are sensible (i.e. `'order_hour_of_day'` ranges from 0 to 23 and `'order_dow'` ranges from 0 to 6)"
   ]
  },
  {
   "cell_type": "code",
   "execution_count": 35,
   "id": "growing-fruit",
   "metadata": {},
   "outputs": [
    {
     "name": "stdout",
     "output_type": "stream",
     "text": [
      "0\n",
      "23\n",
      "0\n",
      "6\n"
     ]
    }
   ],
   "source": [
    "# checking \"order_hour_of_day\" values\n",
    "hour_min = orders['order_hour_of_day'].min()\n",
    "hour_max = orders['order_hour_of_day'].max()\n",
    "#check 'order_dow' values\n",
    "dow_min = orders['order_dow'].min()\n",
    "dow_max = orders['order_dow'].max()\n",
    "print(hour_min)\n",
    "print(hour_max)\n",
    "print(dow_min)\n",
    "print(dow_max)"
   ]
  },
  {
   "cell_type": "code",
   "execution_count": 36,
   "id": "accessory-malaysia",
   "metadata": {},
   "outputs": [
    {
     "name": "stdout",
     "output_type": "stream",
     "text": [
      "The 'order_hour_of_day' and 'order_dow' values are sensible.\n"
     ]
    }
   ],
   "source": [
    "# vertify the range of the values\n",
    "if hour_min >= 0 and hour_max <= 23 and dow_min >= 0 and dow_max <= 6:\n",
    "    print(\"The 'order_hour_of_day' and 'order_dow' values are sensible.\")\n",
    "else:\n",
    "    print(\"The 'order_hour_of_day' and 'order_dow' values are not within the expected range.\")"
   ]
  },
  {
   "cell_type": "markdown",
   "id": "211d0705",
   "metadata": {},
   "source": [
    "<div class=\"alert alert-block alert-success\"> <b>Reviewer's comment v2</b> <a \n",
    "class=\"tocSkip\"></a>\n",
    "PErfect</div>"
   ]
  },
  {
   "cell_type": "markdown",
   "id": "a6743a70",
   "metadata": {},
   "source": [
    "### [A2] What time of day do people shop for groceries?"
   ]
  },
  {
   "cell_type": "code",
   "execution_count": 37,
   "id": "a36cca27",
   "metadata": {},
   "outputs": [
    {
     "data": {
      "image/png": "[encoded data removed]",
      "text/plain": [
       "<Figure size 720x576 with 1 Axes>"
      ]
     },
     "metadata": {
      "needs_background": "light"
     },
     "output_type": "display_data"
    }
   ],
   "source": [
    "import matplotlib.pyplot as plt #create a histogram to valusualizse the distribution of order by hour\n",
    "# group orders by 'order hour of day' and count number of orders per hour\n",
    "hourly_order_counts = orders['order_hour_of_day'].value_counts().sort_index()\n",
    "# plot a bar char to visulalize the distributition\n",
    "plt.figure(figsize=(10,8))\n",
    "plt.bar(hourly_order_counts.index, hourly_order_counts.values)\n",
    "plt.xlabel('Hour of the Day')\n",
    "plt.ylabel('Number of Orders')\n",
    "plt.title('Distribution of Grocery Orders by Hour of the Day')\n",
    "plt.xticks(range(24))\n",
    "plt.grid(axis='y', linestyle='--', alpha=0.7)\n",
    "plt.show()"
   ]
  },
  {
   "cell_type": "markdown",
   "id": "11270eed",
   "metadata": {},
   "source": [
    "<div class=\"alert alert-block alert-success\"> <b>Reviewer's comment v2</b> <a \n",
    "class=\"tocSkip\"></a>\n",
    "Amazing barplot</div>"
   ]
  },
  {
   "cell_type": "markdown",
   "id": "documented-command",
   "metadata": {},
   "source": [
    "### [A3] What day of the week do people shop for groceries?"
   ]
  },
  {
   "cell_type": "code",
   "execution_count": 38,
   "id": "chief-digit",
   "metadata": {},
   "outputs": [
    {
     "data": {
      "image/png": "[encoded data removed]",
      "text/plain": [
       "<Figure size 720x432 with 1 Axes>"
      ]
     },
     "metadata": {
      "needs_background": "light"
     },
     "output_type": "display_data"
    }
   ],
   "source": [
    "import matplotlib.pyplot as plt\n",
    "#group orders by order_dow and count the number of orders per day\n",
    "daily_order_counts = orders['order_dow'].value_counts().sort_index()\n",
    "#define the names of the days of the week\n",
    "days_of_week = ['Sunday', 'Monday', 'Tuesday', 'Wednesday', 'Thursday', 'Friday', 'Saturday']\n",
    "# Create a bar chart to visualize the distribution\n",
    "plt.figure(figsize=(10, 6))\n",
    "plt.bar(days_of_week, daily_order_counts)\n",
    "plt.xlabel('Day of the Week')\n",
    "plt.ylabel('Number of Orders')\n",
    "plt.title('Distribution of Grocery Orders by Day of the Week')\n",
    "plt.grid(axis='y', linestyle='--', alpha=0.7)\n",
    "plt.show()"
   ]
  },
  {
   "cell_type": "markdown",
   "id": "dominant-lightning",
   "metadata": {},
   "source": [
    "<div class=\"alert alert-block alert-success\"> <b>Reviewer's comment v2</b> <a \n",
    "class=\"tocSkip\"></a>\n",
    "Perfect</div>"
   ]
  },
  {
   "cell_type": "markdown",
   "id": "cutting-concert",
   "metadata": {},
   "source": [
    "### [A4] How long do people wait until placing another order?"
   ]
  },
  {
   "cell_type": "code",
   "execution_count": 39,
   "id": "c231f523",
   "metadata": {},
   "outputs": [
    {
     "data": {
      "image/png": "[encoded data removed]",
      "text/plain": [
       "<Figure size 720x432 with 1 Axes>"
      ]
     },
     "metadata": {
      "needs_background": "light"
     },
     "output_type": "display_data"
    },
    {
     "name": "stdout",
     "output_type": "stream",
     "text": [
      "Mean Waiting Time: 11.101813900274362\n",
      "Median Waiting Time: 7.0\n"
     ]
    }
   ],
   "source": [
    "import matplotlib.pyplot as plt\n",
    "\n",
    "# calculating mean and median of 'days_since_prior_order' to determine how long its typically takes before placing another order. so I will use (mean) and (median)\n",
    "mean_waiting_time = orders['days_since_prior_order'].mean()\n",
    "median_waiting_time = orders['days_since_prior_order'].median()\n",
    "# making a histogram to visualize the distribution of waiting times\n",
    "plt.figure(figsize=(10, 6))\n",
    "plt.hist(orders['days_since_prior_order'], bins=30, edgecolor='k')\n",
    "plt.xlabel('Days Since Prior Order')\n",
    "plt.ylabel('Number of Orders')\n",
    "plt.title('Distribution of Waiting Times Between Orders')\n",
    "plt.grid(axis='y', linestyle='--', alpha=0.7)\n",
    "# Add vertical lines for mean and median\n",
    "plt.axvline(mean_waiting_time, color='r', linestyle='dashed', linewidth=2, label='Mean')\n",
    "plt.axvline(median_waiting_time, color='g', linestyle='dashed', linewidth=2, label='Median')\n",
    "plt.legend()\n",
    "plt.show()\n",
    "print(\"Mean Waiting Time:\", mean_waiting_time)\n",
    "print(\"Median Waiting Time:\", median_waiting_time)"
   ]
  },
  {
   "cell_type": "markdown",
   "id": "discrete-vertex",
   "metadata": {},
   "source": []
  },
  {
   "cell_type": "markdown",
   "id": "ca3a5ea5",
   "metadata": {},
   "source": [
    "<div class=\"alert alert-block alert-success\"> <b>Reviewer's comment v2</b> <a \n",
    "class=\"tocSkip\"></a>\n",
    "Great</div>"
   ]
  },
  {
   "cell_type": "markdown",
   "id": "8d926614",
   "metadata": {},
   "source": []
  },
  {
   "cell_type": "markdown",
   "id": "tight-staff",
   "metadata": {},
   "source": [
    "# [B] Medium (must complete all to pass)"
   ]
  },
  {
   "cell_type": "markdown",
   "id": "packed-classic",
   "metadata": {},
   "source": [
    "### [B1] Is there a difference in `'order_hour_of_day'` distributions on Wednesdays and Saturdays? Plot the histograms for both days and describe the differences that you see."
   ]
  },
  {
   "cell_type": "code",
   "execution_count": 40,
   "id": "d89b8403",
   "metadata": {},
   "outputs": [
    {
     "data": {
      "text/plain": [
       "<Figure size 864x432 with 0 Axes>"
      ]
     },
     "execution_count": 40,
     "metadata": {},
     "output_type": "execute_result"
    },
    {
     "data": {
      "text/plain": [
       "<Figure size 864x432 with 0 Axes>"
      ]
     },
     "metadata": {},
     "output_type": "display_data"
    }
   ],
   "source": [
    "import matplotlib.pyplot as plt\n",
    "# Filter orders for Wednesdays (day of week = 3) and Saturdays (day of week = 5)\n",
    "wednesday_orders = orders[orders['order_dow'] == 3]\n",
    "saturday_orders = orders[orders['order_dow'] == 5]\n",
    "#create hisstogram for hour of the on both Wednesday and Friday\n",
    "plt.figure(figsize=(12, 6))"
   ]
  },
  {
   "cell_type": "markdown",
   "id": "3898cd35",
   "metadata": {},
   "source": [
    "<div class=\"alert alert-block alert-warning\"> <b>Reviewer's comment v2</b> <a \n",
    "class=\"tocSkip\"></a>\n",
    "Please remove this cell with code. </div>"
   ]
  },
  {
   "cell_type": "code",
   "execution_count": 41,
   "id": "94e54e8a",
   "metadata": {},
   "outputs": [
    {
     "data": {
      "image/png": "[encoded data removed]",
      "text/plain": [
       "<Figure size 432x288 with 1 Axes>"
      ]
     },
     "metadata": {
      "needs_background": "light"
     },
     "output_type": "display_data"
    }
   ],
   "source": [
    "# for wednesday to show distribution for order hours\n",
    "plt.subplot(1, 2, 1)\n",
    "plt.hist(wednesday_orders['order_hour_of_day'], bins=24, edgecolor='k', alpha=0.7)\n",
    "plt.xlabel('Hour of the Day')\n",
    "plt.ylabel('Number of Orders')\n",
    "plt.title('Order Hour Distribution on Wednesdays')\n",
    "plt.xticks(range(24))\n",
    "plt.grid(axis='y', linestyle='--', alpha=0.7)"
   ]
  },
  {
   "cell_type": "code",
   "execution_count": 42,
   "id": "797c90a8",
   "metadata": {},
   "outputs": [
    {
     "data": {
      "image/png": "[encoded data removed]",
      "text/plain": [
       "<Figure size 432x288 with 1 Axes>"
      ]
     },
     "metadata": {
      "needs_background": "light"
     },
     "output_type": "display_data"
    }
   ],
   "source": [
    "# for saturday to show distribution for order hours\n",
    "plt.subplot(1, 2, 2)\n",
    "plt.hist(saturday_orders['order_hour_of_day'], bins=24, edgecolor='k', alpha=0.7)\n",
    "plt.xlabel('Hour of the Day')\n",
    "plt.ylabel('Number of Orders')\n",
    "plt.title('Order Hour Distribution on Saturdays')\n",
    "plt.xticks(range(24))\n",
    "plt.grid(axis='y', linestyle='--', alpha=0.7)"
   ]
  },
  {
   "cell_type": "code",
   "execution_count": 43,
   "id": "35bcea30",
   "metadata": {},
   "outputs": [],
   "source": [
    "# plt.tight_layout()  Reviewer's comment v2 Please remove this cell with code\n",
    "# plt.show()  Reviewer's comment v2 Please remove this cell with code"
   ]
  },
  {
   "cell_type": "markdown",
   "id": "7b8c0d25",
   "metadata": {},
   "source": [
    "<div class=\"alert alert-block alert-warning\"> <b>Reviewer's comment v2</b> <a \n",
    "class=\"tocSkip\"></a>\n",
    "Please remove this cell with code </div>"
   ]
  },
  {
   "cell_type": "markdown",
   "id": "charitable-congo",
   "metadata": {},
   "source": []
  },
  {
   "cell_type": "markdown",
   "id": "e3891143",
   "metadata": {},
   "source": [
    "### [B2] What's the distribution for the number of orders per customer?"
   ]
  },
  {
   "cell_type": "code",
   "execution_count": 44,
   "id": "d8c26c23",
   "metadata": {},
   "outputs": [],
   "source": [
    "# group the orders dataframe by user_id_columns, count the number of unique orders by customer, and plot a histogram to visualizae the distributions"
   ]
  },
  {
   "cell_type": "code",
   "execution_count": 45,
   "id": "00e69a66",
   "metadata": {},
   "outputs": [
    {
     "data": {
      "image/png": "[encoded data removed]",
      "text/plain": [
       "<Figure size 720x432 with 1 Axes>"
      ]
     },
     "metadata": {
      "needs_background": "light"
     },
     "output_type": "display_data"
    }
   ],
   "source": [
    "import matplotlib.pyplot as plt\n",
    "\n",
    "# Group orders by 'user_id' and count the number of unique orders\n",
    "orders_per_customer = orders.groupby('user_id')['order_id'].nunique()\n",
    "\n",
    "# Create a histogram to visualize the distribution\n",
    "plt.figure(figsize=(10, 6))\n",
    "plt.hist(orders_per_customer, bins=50, edgecolor='k', alpha=0.7)\n",
    "plt.xlabel('Number of Orders per Customer')\n",
    "plt.ylabel('Number of Customers')\n",
    "plt.title('Distribution of Orders per Customer')\n",
    "plt.grid(axis='y', linestyle='--', alpha=0.7)\n",
    "plt.show()"
   ]
  },
  {
   "cell_type": "markdown",
   "id": "d2eff7d5",
   "metadata": {},
   "source": [
    "<div class=\"alert alert-block alert-success\"> <b>Reviewer's comment v2</b> <a \n",
    "class=\"tocSkip\"></a>\n",
    "Roght</div>"
   ]
  },
  {
   "cell_type": "markdown",
   "id": "54a0319c",
   "metadata": {},
   "source": [
    "### [B3] What are the top 20 popular products (display their id and name)?"
   ]
  },
  {
   "cell_type": "code",
   "execution_count": 46,
   "id": "exterior-arizona",
   "metadata": {
    "scrolled": true
   },
   "outputs": [],
   "source": [
    "# Merge order_products with products to get product names\n",
    "popular_products = order_products.merge(products, on='product_id')\n",
    "# Group by product_id and count the number of times each product appears\n",
    "product_popularity = popular_products['product_name'].value_counts().reset_index()\n",
    "product_popularity.columns = ['product_name', 'count']\n"
   ]
  },
  {
   "cell_type": "code",
   "execution_count": 47,
   "id": "universal-facial",
   "metadata": {},
   "outputs": [],
   "source": [
    "# Select the top 20 popular products\n",
    "top_20_popular_products = product_popularity.head(20)"
   ]
  },
  {
   "cell_type": "code",
   "execution_count": 48,
   "id": "bbcdd20b",
   "metadata": {},
   "outputs": [
    {
     "name": "stdout",
     "output_type": "stream",
     "text": [
      "                product_name  count\n",
      "0                     banana  66050\n",
      "1     bag of organic bananas  53297\n",
      "2       organic strawberries  37039\n",
      "3       organic baby spinach  33971\n",
      "4       organic hass avocado  29773\n",
      "5            organic avocado  24689\n",
      "6                large lemon  21495\n",
      "7               strawberries  20018\n",
      "8                      limes  19690\n",
      "9         organic whole milk  19600\n",
      "10       organic raspberries  19197\n",
      "11      organic yellow onion  15898\n",
      "12            organic garlic  15292\n",
      "13          organic zucchini  14584\n",
      "14       organic blueberries  13879\n",
      "15            cucumber kirby  13675\n",
      "16        organic fuji apple  12544\n",
      "17             organic lemon  12232\n",
      "18  apple honeycrisp organic  11993\n",
      "19    organic grape tomatoes  11781\n"
     ]
    }
   ],
   "source": [
    "# Display the top 20 popular products' product_id and product_name\n",
    "print(top_20_popular_products)"
   ]
  },
  {
   "cell_type": "markdown",
   "id": "7df00f47",
   "metadata": {},
   "source": [
    "<div class=\"alert alert-block alert-success\"> <b>Reviewer's comment v2</b> <a \n",
    "class=\"tocSkip\"></a>\n",
    "Correct</div>"
   ]
  },
  {
   "cell_type": "markdown",
   "id": "gross-theme",
   "metadata": {},
   "source": [
    "# [C] Hard (must complete at least two to pass)"
   ]
  },
  {
   "cell_type": "markdown",
   "id": "romantic-deposit",
   "metadata": {},
   "source": [
    "### [C1] How many items do people typically buy in one order? What does the distribution look like?"
   ]
  },
  {
   "cell_type": "code",
   "execution_count": 49,
   "id": "virtual-punch",
   "metadata": {},
   "outputs": [],
   "source": [
    "# grouping order_produicts by the order_id to count number of products\n",
    "import matplotlib.pyplot as plt\n",
    "# Group order_products by 'order_id' and count the number of products in each order\n",
    "order_item_counts = order_products.groupby('order_id')['product_id'].count().reset_index()\n",
    "order_item_counts.columns = ['order_id', 'item_count']"
   ]
  },
  {
   "cell_type": "code",
   "execution_count": 50,
   "id": "sensitive-breathing",
   "metadata": {},
   "outputs": [
    {
     "data": {
      "image/png": "[encoded data removed]",
      "text/plain": [
       "<Figure size 720x432 with 1 Axes>"
      ]
     },
     "metadata": {
      "needs_background": "light"
     },
     "output_type": "display_data"
    }
   ],
   "source": [
    "# placing a histogram to have a visualization\n",
    "plt.figure(figsize=(10, 6))\n",
    "plt.hist(order_item_counts['item_count'], bins=range(1, order_item_counts['item_count'].max() + 2), edgecolor='k', alpha=0.7)\n",
    "plt.xlabel('Number of Items in Order')\n",
    "plt.ylabel('Number of Orders')\n",
    "plt.title('Distribution of Number of Items in Orders')\n",
    "plt.grid(axis='y', linestyle='--', alpha=0.7)\n",
    "plt.show()"
   ]
  },
  {
   "cell_type": "code",
   "execution_count": 51,
   "id": "completed-frank",
   "metadata": {},
   "outputs": [
    {
     "name": "stdout",
     "output_type": "stream",
     "text": [
      "Typical number of items people buy in one order: 10.10\n"
     ]
    }
   ],
   "source": [
    "# Calculate typical number of items people buy in one order (mean). this will put the items people buy in one order\n",
    "typical_item_count = order_item_counts['item_count'].mean()\n",
    "print(f'Typical number of items people buy in one order: {typical_item_count:.2f}')"
   ]
  },
  {
   "cell_type": "markdown",
   "id": "designed-mortality",
   "metadata": {},
   "source": [
    "<div class=\"alert alert-block alert-success\"> <b>Reviewer's comment v2</b> <a \n",
    "class=\"tocSkip\"></a>\n",
    "Correct</div>"
   ]
  },
  {
   "cell_type": "markdown",
   "id": "5e6b5537",
   "metadata": {},
   "source": [
    "### [C2] What are the top 20 items that are reordered most frequently (display their names and product IDs)?"
   ]
  },
  {
   "cell_type": "code",
   "execution_count": 52,
   "id": "9374e55a",
   "metadata": {},
   "outputs": [],
   "source": [
    "# calculating the reorder rate for each product, base on percentage of times of reorder\n",
    "product_reorder_rates = order_products.groupby('product_id')['reordered'].mean().reset_index()\n",
    "product_reorder_rates.columns = ['product_id', 'reorder_rate']"
   ]
  },
  {
   "cell_type": "code",
   "execution_count": 53,
   "id": "possible-change",
   "metadata": {
    "scrolled": true
   },
   "outputs": [],
   "source": [
    "# sorint the products in the new reorder rate in descending order\n",
    "top_reorder_products = product_reorder_rates.sort_values(by='reorder_rate', ascending=False).head(20)"
   ]
  },
  {
   "cell_type": "code",
   "execution_count": 54,
   "id": "professional-surfing",
   "metadata": {
    "scrolled": true
   },
   "outputs": [],
   "source": [
    "# Merge with the products DataFrame to get product names\n",
    "top_reorder_products = top_reorder_products.merge(products[['product_id', 'product_name']], on='product_id', how='left')"
   ]
  },
  {
   "cell_type": "code",
   "execution_count": 55,
   "id": "48dd3658",
   "metadata": {},
   "outputs": [
    {
     "name": "stdout",
     "output_type": "stream",
     "text": [
      "    product_id                                       product_name\n",
      "0        14721                            bone strength take care\n",
      "1        20949                           vanilla sandwich cookies\n",
      "2         6723                                   palmiers- petite\n",
      "3         6732                  naturally sparkling mineral water\n",
      "4        45088  california dill pollen & garlic goat cheese & ...\n",
      "5        45078                                       pomegranatea\n",
      "6        21016       parchment lined 8 in x 3.75 in x 2.5 in pans\n",
      "7        21005                        peanut butter pie ice cream\n",
      "8        35192                         chocolate soy milk singles\n",
      "9        35197  mocha chocolate chip  organic non-dairy frozen...\n",
      "10        6810                        raspberry goji paleo prints\n",
      "11       45040                                 head lock mega gel\n",
      "12       45035                               coffee flavor yogurt\n",
      "13       27373                                     meat loaf meal\n",
      "14       30748                           cheese & garlic croutons\n",
      "15       45031                 sugar free hazelnut coffee creamer\n",
      "16       35137  superior preference fade-defying color + shine...\n",
      "17       30747                   dentotape® unflavored waxed tape\n",
      "18       35228                       marvelous muffins baking mix\n",
      "19       35229                             bean & cheese burritos\n"
     ]
    }
   ],
   "source": [
    "# Display the top 20 items with their names and product IDs\n",
    "print(top_reorder_products[['product_id', 'product_name']])"
   ]
  },
  {
   "cell_type": "markdown",
   "id": "80e70c74",
   "metadata": {},
   "source": [
    "<div class=\"alert alert-block alert-success\"> <b>Reviewer's comment v2</b> <a \n",
    "class=\"tocSkip\"></a>\n",
    "Perfect</div>"
   ]
  },
  {
   "cell_type": "markdown",
   "id": "9d312b14",
   "metadata": {},
   "source": [
    "### [C3] For each product, what proportion of its orders are reorders?"
   ]
  },
  {
   "cell_type": "code",
   "execution_count": null,
   "id": "8ae9f4b1",
   "metadata": {},
   "outputs": [],
   "source": []
  },
  {
   "cell_type": "code",
   "execution_count": null,
   "id": "103e7fe1",
   "metadata": {},
   "outputs": [],
   "source": []
  },
  {
   "cell_type": "code",
   "execution_count": null,
   "id": "social-individual",
   "metadata": {},
   "outputs": [],
   "source": []
  },
  {
   "cell_type": "markdown",
   "id": "subject-boxing",
   "metadata": {},
   "source": [
    "### [C4] For each customer, what proportion of their products ordered are reorders?"
   ]
  },
  {
   "cell_type": "code",
   "execution_count": null,
   "id": "medical-couple",
   "metadata": {
    "scrolled": true
   },
   "outputs": [],
   "source": []
  },
  {
   "cell_type": "code",
   "execution_count": null,
   "id": "8892e4b4",
   "metadata": {},
   "outputs": [],
   "source": []
  },
  {
   "cell_type": "markdown",
   "id": "92d35137",
   "metadata": {},
   "source": [
    "### [C5] What are the top 20 items that people put in their carts first? "
   ]
  },
  {
   "cell_type": "code",
   "execution_count": null,
   "id": "0ae57274",
   "metadata": {
    "scrolled": true
   },
   "outputs": [],
   "source": []
  },
  {
   "cell_type": "code",
   "execution_count": null,
   "id": "forty-netherlands",
   "metadata": {
    "scrolled": true
   },
   "outputs": [],
   "source": []
  },
  {
   "cell_type": "code",
   "execution_count": null,
   "id": "08e41ec2",
   "metadata": {},
   "outputs": [],
   "source": []
  },
  {
   "cell_type": "markdown",
   "id": "28ce9872",
   "metadata": {},
   "source": []
  },
  {
   "cell_type": "code",
   "execution_count": null,
   "id": "f4a2af09",
   "metadata": {},
   "outputs": [],
   "source": []
  },
  {
   "cell_type": "code",
   "execution_count": null,
   "id": "3adef5fb",
   "metadata": {},
   "outputs": [],
   "source": []
  }
 ],
 "metadata": {
  "kernelspec": {
   "display_name": "Python 3 (ipykernel)",
   "language": "python",
   "name": "python3"
  },
  "language_info": {
   "codemirror_mode": {
    "name": "ipython",
    "version": 3
   },
   "file_extension": ".py",
   "mimetype": "text/x-python",
   "name": "python",
   "nbconvert_exporter": "python",
   "pygments_lexer": "ipython3",
   "version": "3.9.19"
  },
  "toc": {
   "base_numbering": 1,
   "nav_menu": {},
   "number_sections": true,
   "sideBar": true,
   "skip_h1_title": true,
   "title_cell": "Table of Contents",
   "title_sidebar": "Contents",
   "toc_cell": false,
   "toc_position": {
    "height": "calc(100% - 180px)",
    "left": "10px",
    "top": "150px",
    "width": "165px"
   },
   "toc_section_display": true,
   "toc_window_display": true
  },
  "vscode": {
   "interpreter": {
    "hash": "01a7be9ec63e704a62cefc5fe7a4756944464ee731be31632bdf42a4cb4688cf"
   }
  }
 },
 "nbformat": 4,
 "nbformat_minor": 5
}
