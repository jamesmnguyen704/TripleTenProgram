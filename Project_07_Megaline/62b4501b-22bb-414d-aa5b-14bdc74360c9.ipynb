{
 "cells": [
  {
   "cell_type": "markdown",
   "metadata": {},
   "source": [
    "<div style=\"border:solid green 2px; padding: 20px\">\n",
    "    \n",
    "<b>Hello, James!</b> We're glad to see you in code-reviewer territory. You've done a great job on the project, but let's get to know each other and make it even better! We have our own atmosphere here and a few rules:\n",
    "\n",
    "\n",
    "1. My name is Alexander Matveevsky. I work as a code reviewer, and my main goal is not to point out your mistakes, but to share my experience and help you become a data analyst.\n",
    "2. We speak on a first-come-first-served basis.\n",
    "3. if you want to write or ask a question, don't be shy. Just choose your color for your comment.  \n",
    "4. this is a training project, you don't have to be afraid of making a mistake.  \n",
    "5. You have an unlimited number of attempts to pass the project.  \n",
    "6. Let's Go!\n",
    "\n",
    "\n",
    "---\n",
    "I'll be color-coding comments, please don't delete them:\n",
    "\n",
    "<div class=\"alert alert-block alert-danger\">✍\n",
    "    \n",
    "\n",
    "__Reviewer's comment №1__\n",
    "\n",
    "Needs fixing. The block requires some corrections. Work can't be accepted with the red comments.\n",
    "</div>\n",
    "    \n",
    "---\n",
    "\n",
    "<div class=\"alert alert-block alert-warning\">📝\n",
    "    \n",
    "\n",
    "__Reviewer's comment №1__\n",
    "\n",
    "\n",
    "Remarks. Some recommendations.\n",
    "</div>\n",
    "\n",
    "---\n",
    "\n",
    "<div class=\"alert alert-block alert-success\">✔️\n",
    "    \n",
    "\n",
    "__Reviewer's comment №1__\n",
    "\n",
    "Success. Everything is done succesfully.\n",
    "</div>\n",
    "    \n",
    "---\n",
    "    \n",
    "I suggest that we work on the project in dialogue: if you change something in the project or respond to my comments, write about it. It will be easier for me to track changes if you highlight your comments:   \n",
    "    \n",
    "<div class=\"alert alert-info\"> <b>Student сomments:</b> Student answer..</div>\n",
    "    \n",
    "All this will help to make the recheck of your project faster. If you have any questions about my comments, let me know, we'll figure it out together :)   \n",
    "    \n",
    "---"
   ]
  },
  {
   "cell_type": "markdown",
   "metadata": {},
   "source": []
  },
  {
   "cell_type": "markdown",
   "metadata": {},
   "source": [
    "# Content\n",
    "\n",
    "    Introduction\n",
    "    Data Initiation\n",
    "        . Examine Data\n",
    "        . Data Description\n",
    "    Machine Learning\n",
    "        . Data Segmentation\n",
    "        . Training\n",
    "            . Algorithm DecisionTreeClassifier\n",
    "            . Algorithm RandomForestClassifier\n",
    "            . Algorithm LogisticRegression\n",
    "        . Model Quality\n",
    "        . Sanity Test\n",
    "    General Conclusion"
   ]
  },
  {
   "cell_type": "markdown",
   "metadata": {},
   "source": [
    "# Introduction\n",
    "The mobile company Megaline is not satisfied seeing that many of its customers are using legacy plans. They want to develop a model that can analyze customer behavior and recommend one of Megaline's new plans: Smart or Ultra. You have access to the behavior data of subscribers who have already switched to the new plans.\n",
    "\n",
    "For this classification task, we will create a model that selects the correct plan.\n",
    "\n",
    "We will develop a model with the highest possible accuracy, aiming for at least a 75% accuracy threshold. We will use the dataset to verify accuracy.\n",
    "\n",
    "\n",
    "# Objective\n",
    "The objective is to obtain a model capable of predicting the type of plan, Ultra or Smart, that users need.\n",
    "\n",
    "# Data Initiation\n",
    "We import the libraries:\n"
   ]
  },
  {
   "cell_type": "markdown",
   "metadata": {},
   "source": [
    "<div class=\"alert alert-block alert-success\">✔️\n",
    "    \n",
    "\n",
    "__Reviewer's comment №1__\n",
    "An excellent practice is to describe the goal and main steps in your own words (a skill that will help a lot on a final project). It would be good to add the progress and purpose of the study."
   ]
  },
  {
   "cell_type": "code",
   "execution_count": 1,
   "metadata": {},
   "outputs": [],
   "source": [
    "import pandas as pd\n",
    "import numpy as np\n",
    "from sklearn.model_selection import train_test_split\n",
    "from sklearn.tree import DecisionTreeClassifier\n",
    "from sklearn.ensemble import RandomForestClassifier\n",
    "from sklearn.linear_model import LogisticRegression\n",
    "from sklearn.metrics import accuracy_score"
   ]
  },
  {
   "cell_type": "markdown",
   "metadata": {},
   "source": [
    "<div class=\"alert alert-block alert-success\">✔️\n",
    "    \n",
    "\n",
    "__Reviewer's comment №1__\n",
    "    \n",
    "Great, the libraries are loaded    "
   ]
  },
  {
   "cell_type": "markdown",
   "metadata": {},
   "source": [
    "We load the dataset:"
   ]
  },
  {
   "cell_type": "code",
   "execution_count": 2,
   "metadata": {},
   "outputs": [],
   "source": [
    "users = pd.read_csv(r'/datasets/users_behavior.csv')"
   ]
  },
  {
   "cell_type": "markdown",
   "metadata": {},
   "source": [
    "# Examine Data"
   ]
  },
  {
   "cell_type": "code",
   "execution_count": 3,
   "metadata": {},
   "outputs": [
    {
     "data": {
      "text/html": [
       "<div>\n",
       "<style scoped>\n",
       "    .dataframe tbody tr th:only-of-type {\n",
       "        vertical-align: middle;\n",
       "    }\n",
       "\n",
       "    .dataframe tbody tr th {\n",
       "        vertical-align: top;\n",
       "    }\n",
       "\n",
       "    .dataframe thead th {\n",
       "        text-align: right;\n",
       "    }\n",
       "</style>\n",
       "<table border=\"1\" class=\"dataframe\">\n",
       "  <thead>\n",
       "    <tr style=\"text-align: right;\">\n",
       "      <th></th>\n",
       "      <th>calls</th>\n",
       "      <th>minutes</th>\n",
       "      <th>messages</th>\n",
       "      <th>mb_used</th>\n",
       "      <th>is_ultra</th>\n",
       "    </tr>\n",
       "  </thead>\n",
       "  <tbody>\n",
       "    <tr>\n",
       "      <th>0</th>\n",
       "      <td>40.0</td>\n",
       "      <td>311.90</td>\n",
       "      <td>83.0</td>\n",
       "      <td>19915.42</td>\n",
       "      <td>0</td>\n",
       "    </tr>\n",
       "    <tr>\n",
       "      <th>1</th>\n",
       "      <td>85.0</td>\n",
       "      <td>516.75</td>\n",
       "      <td>56.0</td>\n",
       "      <td>22696.96</td>\n",
       "      <td>0</td>\n",
       "    </tr>\n",
       "    <tr>\n",
       "      <th>2</th>\n",
       "      <td>77.0</td>\n",
       "      <td>467.66</td>\n",
       "      <td>86.0</td>\n",
       "      <td>21060.45</td>\n",
       "      <td>0</td>\n",
       "    </tr>\n",
       "    <tr>\n",
       "      <th>3</th>\n",
       "      <td>106.0</td>\n",
       "      <td>745.53</td>\n",
       "      <td>81.0</td>\n",
       "      <td>8437.39</td>\n",
       "      <td>1</td>\n",
       "    </tr>\n",
       "    <tr>\n",
       "      <th>4</th>\n",
       "      <td>66.0</td>\n",
       "      <td>418.74</td>\n",
       "      <td>1.0</td>\n",
       "      <td>14502.75</td>\n",
       "      <td>0</td>\n",
       "    </tr>\n",
       "  </tbody>\n",
       "</table>\n",
       "</div>"
      ],
      "text/plain": [
       "   calls  minutes  messages   mb_used  is_ultra\n",
       "0   40.0   311.90      83.0  19915.42         0\n",
       "1   85.0   516.75      56.0  22696.96         0\n",
       "2   77.0   467.66      86.0  21060.45         0\n",
       "3  106.0   745.53      81.0   8437.39         1\n",
       "4   66.0   418.74       1.0  14502.75         0"
      ]
     },
     "execution_count": 3,
     "metadata": {},
     "output_type": "execute_result"
    }
   ],
   "source": [
    "users.head()"
   ]
  },
  {
   "cell_type": "code",
   "execution_count": 4,
   "metadata": {},
   "outputs": [
    {
     "name": "stdout",
     "output_type": "stream",
     "text": [
      "<class 'pandas.core.frame.DataFrame'>\n",
      "RangeIndex: 3214 entries, 0 to 3213\n",
      "Data columns (total 5 columns):\n",
      " #   Column    Non-Null Count  Dtype  \n",
      "---  ------    --------------  -----  \n",
      " 0   calls     3214 non-null   float64\n",
      " 1   minutes   3214 non-null   float64\n",
      " 2   messages  3214 non-null   float64\n",
      " 3   mb_used   3214 non-null   float64\n",
      " 4   is_ultra  3214 non-null   int64  \n",
      "dtypes: float64(4), int64(1)\n",
      "memory usage: 125.7 KB\n"
     ]
    }
   ],
   "source": [
    "users.info()"
   ]
  },
  {
   "cell_type": "code",
   "execution_count": 5,
   "metadata": {},
   "outputs": [
    {
     "data": {
      "text/plain": [
       "0"
      ]
     },
     "execution_count": 5,
     "metadata": {},
     "output_type": "execute_result"
    }
   ],
   "source": [
    "users.duplicated().sum()"
   ]
  },
  {
   "cell_type": "markdown",
   "metadata": {},
   "source": [
    "The dataset contains 3214 records and 5 columns, the data types are correct, there are no missing values or duplicate records."
   ]
  },
  {
   "cell_type": "markdown",
   "metadata": {},
   "source": [
    "<div class=\"alert alert-block alert-success\">✔️\n",
    "    \n",
    "\n",
    "__Reviewer's comment №1__\n",
    "    \n",
    "Duplicate checking is the basis of data preprocessing"
   ]
  },
  {
   "cell_type": "markdown",
   "metadata": {},
   "source": [
    "# Data Description\n",
    "Each observation in the dataset contains information on the monthly behavior of a user. The information provided is as follows:\n",
    "\n",
    "    . calls: number of calls\n",
    "    . minutes: total call duration in minutes\n",
    "    . messages: number of text messages\n",
    "    . mb_used: Internet traffic used in MB\n",
    "    . is_ultra: plan for the current month (Ultra - 1, Smart - 0)\n",
    "The is_ultra column will be our dependent/target variable, and our independent variables will be the other columns: calls, minutes, messages,"
   ]
  },
  {
   "cell_type": "markdown",
   "metadata": {},
   "source": [
    "# Machine Learning\n",
    "# Data Segmentation\n",
    "Before anything else, we need to segment our users dataset into 3 parts with proportions of 3:1:1 as follows:\n",
    "\n",
    "    . 60% of the data for training\n",
    "    . 20% of the data for validation\n",
    "    . 20% of the data for testing"
   ]
  },
  {
   "cell_type": "code",
   "execution_count": 6,
   "metadata": {},
   "outputs": [
    {
     "name": "stdout",
     "output_type": "stream",
     "text": [
      "dataset (3214, 5)\n",
      "features_train: (1928, 4)\n",
      "target_train: (1928,)\n",
      "features_valid: (643, 4)\n",
      "target_valid: (643,)\n",
      "features_test: (643, 4)\n",
      "target_test: (643,)\n"
     ]
    }
   ],
   "source": [
    "features = users.drop('is_ultra', axis=1)\n",
    "target = users['is_ultra']\n",
    "features_train, features_valid, target_train, target_valid = train_test_split(features, target, test_size=0.40, random_state=12345)\n",
    "features_valid, features_test, target_valid, target_test = train_test_split(features_valid, target_valid, test_size=0.50, random_state=12345)\n",
    "\n",
    "print('dataset', users.shape)\n",
    "print('features_train:', features_train.shape)\n",
    "print('target_train:', target_train.shape)\n",
    "\n",
    "print('features_valid:', features_valid.shape)\n",
    "print('target_valid:', target_valid.shape)\n",
    "\n",
    "print('features_test:', features_test.shape)\n",
    "print('target_test:', target_test.shape)"
   ]
  },
  {
   "cell_type": "markdown",
   "metadata": {},
   "source": [
    "\n",
    "Training\n",
    "We will create models using 3 training algorithms for classification and hyperparameters that will allow us to learn from the data and predict new observations.\n",
    "\n",
    "We will use:\n",
    "\n",
    "    . Decision tree DecisionTreeClassifier, we will use max_depth to determine various depths.\n",
    "    . Random forest RandomForestClassifier, we will use n_estimators to determine several trees and 'max_depth' for various depths.\n",
    "    . Logistic regression LogisticRegression, we will use 'solver-liblinear', random_state=12345.\n",
    "\n",
    "Algorithm DecisionTreeClassifier\n",
    "We are going to train a model with the decision tree algorithm. The hyperparameters to use are:\n",
    "\n",
    "    . random_state=12345\n",
    "    . max_depth= 1 to 5"
   ]
  },
  {
   "cell_type": "markdown",
   "metadata": {},
   "source": [
    "<div class=\"alert alert-block alert-success\">✔️\n",
    "    \n",
    "\n",
    "__Reviewer's comment №1__\n",
    "\n",
    "1. It is good here, random_state is fixed. We have ensured reproducibility of the results of splitting the sample into training (training) / test / validation samples, so the subsamples will be identical in all subsequent runs of our code.\n",
    "    \n",
    "2. Fraction of train/valid/test sizes 3:1:1 is good.\n",
    "\n",
    "\n",
    "</div>"
   ]
  },
  {
   "cell_type": "code",
   "execution_count": 7,
   "metadata": {},
   "outputs": [
    {
     "name": "stdout",
     "output_type": "stream",
     "text": [
      "depth 1\n",
      "Train data accuracy  0.7577800829875518\n",
      "Valid data accuracy  0.7542768273716952\n",
      "\n",
      "depth 2\n",
      "Train data accuracy  0.7878630705394191\n",
      "Valid data accuracy  0.7822706065318819\n",
      "\n",
      "depth 3\n",
      "Train data accuracy  0.8075726141078838\n",
      "Valid data accuracy  0.7853810264385692\n",
      "\n",
      "depth 4\n",
      "Train data accuracy  0.8106846473029046\n",
      "Valid data accuracy  0.7791601866251944\n",
      "\n",
      "depth 5\n",
      "Train data accuracy  0.8200207468879668\n",
      "Valid data accuracy  0.7791601866251944\n",
      "\n",
      "RESULT: Best model with DecisionTreeClassifier on the validation dataset with depth = 3 and accuracy 0.7853810264385692\n"
     ]
    }
   ],
   "source": [
    "best_est = 0\n",
    "best_score = 0\n",
    "\n",
    "for depth in range(1, 6):\n",
    "    print('depth', depth)\n",
    "\n",
    "    model = DecisionTreeClassifier(random_state=12345, max_depth=depth)\n",
    "\n",
    "    model.fit(features_train, target_train)\n",
    "\n",
    "    prediction_train = model.predict(features_train)\n",
    "    score_train = accuracy_score(target_train, prediction_train)\n",
    "    print('Train data accuracy ', score_train)\n",
    "\n",
    "    prediction_valid = model.predict(features_valid)\n",
    "    score = accuracy_score(target_valid, prediction_valid)\n",
    "    print('Valid data accuracy ', score)\n",
    "    print()\n",
    "\n",
    "    if score > best_score:\n",
    "        best_score = score\n",
    "        best_est = depth\n",
    "\n",
    "\n",
    "print('RESULT: Best model with DecisionTreeClassifier on the validation dataset with depth = {} and accuracy {}'.format(best_est, best_score)) "
   ]
  },
  {
   "cell_type": "markdown",
   "metadata": {},
   "source": [
    "We have carried out our training using the DecisionTreeClassifier decision tree classification by varying the depth of the tree from 1 to 10. We found that the best model has a depth of 3 and its accuracy is 78%. Furthermore, we were able to observe the behavior of the predictions with the training data and with the validation data, we can note that the deeper we make the tree, the more overfitting begins to show in the training data, as the training data have a higher precision value with respect to the predictions made on the validation data set.\n",
    "\n",
    "Algorithm RandomForestClassifier\n",
    "We will use the random forest algorithm, with the hyperparameters:\n",
    "\n",
    "    . random_state=12345\n",
    "    . n_estimators= 10 to 20\n",
    "    . max_depth= 1 to 3"
   ]
  },
  {
   "cell_type": "code",
   "execution_count": 8,
   "metadata": {},
   "outputs": [
    {
     "name": "stdout",
     "output_type": "stream",
     "text": [
      "---------- 10 tree - depth 1 ----------\n",
      "Train data accuracy 0.7442946058091287\n",
      "Valid data accuracy 0.7558320373250389\n",
      "\n",
      "---------- 10 tree - depth 2 ----------\n",
      "Train data accuracy 0.7785269709543569\n",
      "Valid data accuracy 0.7776049766718507\n",
      "\n",
      "---------- 10 tree - depth 3 ----------\n",
      "Train data accuracy 0.8101659751037344\n",
      "Valid data accuracy 0.7853810264385692\n",
      "\n",
      "---------- 11 tree - depth 1 ----------\n",
      "Train data accuracy 0.7448132780082988\n",
      "Valid data accuracy 0.7542768273716952\n",
      "\n",
      "---------- 11 tree - depth 2 ----------\n",
      "Train data accuracy 0.7883817427385892\n",
      "Valid data accuracy 0.7853810264385692\n",
      "\n",
      "---------- 11 tree - depth 3 ----------\n",
      "Train data accuracy 0.8101659751037344\n",
      "Valid data accuracy 0.7838258164852255\n",
      "\n",
      "---------- 12 tree - depth 1 ----------\n",
      "Train data accuracy 0.7442946058091287\n",
      "Valid data accuracy 0.7527216174183515\n",
      "\n",
      "---------- 12 tree - depth 2 ----------\n",
      "Train data accuracy 0.7883817427385892\n",
      "Valid data accuracy 0.7838258164852255\n",
      "\n",
      "---------- 12 tree - depth 3 ----------\n",
      "Train data accuracy 0.8096473029045643\n",
      "Valid data accuracy 0.7869362363919129\n",
      "\n",
      "---------- 13 tree - depth 1 ----------\n",
      "Train data accuracy 0.7442946058091287\n",
      "Valid data accuracy 0.7527216174183515\n",
      "\n",
      "---------- 13 tree - depth 2 ----------\n",
      "Train data accuracy 0.7894190871369294\n",
      "Valid data accuracy 0.7884914463452566\n",
      "\n",
      "---------- 13 tree - depth 3 ----------\n",
      "Train data accuracy 0.8096473029045643\n",
      "Valid data accuracy 0.7884914463452566\n",
      "\n",
      "---------- 14 tree - depth 1 ----------\n",
      "Train data accuracy 0.7453319502074689\n",
      "Valid data accuracy 0.7527216174183515\n",
      "\n",
      "---------- 14 tree - depth 2 ----------\n",
      "Train data accuracy 0.7889004149377593\n",
      "Valid data accuracy 0.7838258164852255\n",
      "\n",
      "---------- 14 tree - depth 3 ----------\n",
      "Train data accuracy 0.8091286307053942\n",
      "Valid data accuracy 0.7884914463452566\n",
      "\n",
      "---------- 15 tree - depth 1 ----------\n",
      "Train data accuracy 0.7442946058091287\n",
      "Valid data accuracy 0.7527216174183515\n",
      "\n",
      "---------- 15 tree - depth 2 ----------\n",
      "Train data accuracy 0.7883817427385892\n",
      "Valid data accuracy 0.7838258164852255\n",
      "\n",
      "---------- 15 tree - depth 3 ----------\n",
      "Train data accuracy 0.8101659751037344\n",
      "Valid data accuracy 0.7869362363919129\n",
      "\n",
      "---------- 16 tree - depth 1 ----------\n",
      "Train data accuracy 0.745850622406639\n",
      "Valid data accuracy 0.7527216174183515\n",
      "\n",
      "---------- 16 tree - depth 2 ----------\n",
      "Train data accuracy 0.7883817427385892\n",
      "Valid data accuracy 0.7838258164852255\n",
      "\n",
      "---------- 16 tree - depth 3 ----------\n",
      "Train data accuracy 0.8096473029045643\n",
      "Valid data accuracy 0.7869362363919129\n",
      "\n",
      "---------- 17 tree - depth 1 ----------\n",
      "Train data accuracy 0.7536307053941909\n",
      "Valid data accuracy 0.7651632970451011\n",
      "\n",
      "---------- 17 tree - depth 2 ----------\n",
      "Train data accuracy 0.7878630705394191\n",
      "Valid data accuracy 0.7822706065318819\n",
      "\n",
      "---------- 17 tree - depth 3 ----------\n",
      "Train data accuracy 0.8091286307053942\n",
      "Valid data accuracy 0.7853810264385692\n",
      "\n",
      "---------- 18 tree - depth 1 ----------\n",
      "Train data accuracy 0.7520746887966805\n",
      "Valid data accuracy 0.7651632970451011\n",
      "\n",
      "---------- 18 tree - depth 2 ----------\n",
      "Train data accuracy 0.7883817427385892\n",
      "Valid data accuracy 0.7822706065318819\n",
      "\n",
      "---------- 18 tree - depth 3 ----------\n",
      "Train data accuracy 0.8096473029045643\n",
      "Valid data accuracy 0.7853810264385692\n",
      "\n",
      "---------- 19 tree - depth 1 ----------\n",
      "Train data accuracy 0.7525933609958506\n",
      "Valid data accuracy 0.7651632970451011\n",
      "\n",
      "---------- 19 tree - depth 2 ----------\n",
      "Train data accuracy 0.7878630705394191\n",
      "Valid data accuracy 0.7822706065318819\n",
      "\n",
      "---------- 19 tree - depth 3 ----------\n",
      "Train data accuracy 0.8101659751037344\n",
      "Valid data accuracy 0.7853810264385692\n",
      "\n",
      "---------- 20 tree - depth 1 ----------\n",
      "Train data accuracy 0.7588174273858921\n",
      "Valid data accuracy 0.7667185069984448\n",
      "\n",
      "---------- 20 tree - depth 2 ----------\n",
      "Train data accuracy 0.7883817427385892\n",
      "Valid data accuracy 0.7838258164852255\n",
      "\n",
      "---------- 20 tree - depth 3 ----------\n",
      "Train data accuracy 0.8096473029045643\n",
      "Valid data accuracy 0.7869362363919129\n",
      "\n",
      "RESULT: Best model with RandomForestClassifier on the validation dataset with trees:13-depth:2 and accuracy 0.7884914463452566\n"
     ]
    }
   ],
   "source": [
    "best_score = 0\n",
    "best_tree = 0\n",
    "best_depth = 0\n",
    "\n",
    "for tree in range(10, 21):\n",
    "    for depth in range(1, 4):\n",
    "        \n",
    "        print('----------', tree,'tree -', 'depth', depth,'----------')\n",
    "\n",
    "        model = RandomForestClassifier(\n",
    "            random_state=12345, n_estimators=tree, max_depth=depth)\n",
    "\n",
    "        model.fit(features_train, target_train)\n",
    "\n",
    "        score_train = model.score(features_train, target_train)\n",
    "        print('Train data accuracy', score_train)\n",
    "\n",
    "        score = model.score(features_valid, target_valid)\n",
    "        print('Valid data accuracy', score)\n",
    "        print()\n",
    "\n",
    "        if score > best_score:\n",
    "            best_score = score\n",
    "            best_tree = tree\n",
    "            best_depth = depth\n",
    "\n",
    "print('RESULT: Best model with RandomForestClassifier on the validation dataset with trees:{}-depth:{} and accuracy {}'.format(best_tree, best_depth, best_score))"
   ]
  },
  {
   "cell_type": "markdown",
   "metadata": {},
   "source": [
    "We have tested various training models with the RandomForestClassifier algorithm and obtained the best model with a 79% accuracy using 13 trees at a depth of 2. We also noticed that a 79% accuracy was achieved with the training data set, which suggests that we have controlled for overfitting in our model, something that did occur in the previous model.\n",
    "\n",
    "Algorithm LogisticRegression\n",
    "The last learning algorithm we will try is logistic regression. The hyperparameters to use are:\n",
    "\n",
    "    . random_state=12345\n",
    "    . solver= liblinear"
   ]
  },
  {
   "cell_type": "code",
   "execution_count": 9,
   "metadata": {},
   "outputs": [
    {
     "name": "stdout",
     "output_type": "stream",
     "text": [
      "Accuracy of the Logistic Regression Model in the training dataset 0.7505186721991701\n",
      "Accuracy of the Logistic Regression Model in the validation dataset: 0.7589424572317263\n"
     ]
    }
   ],
   "source": [
    "model = LogisticRegression(random_state=12345, solver='liblinear')\n",
    "\n",
    "model.fit(features_train, target_train)\n",
    "\n",
    "score_train = model.score(features_train, target_train)\n",
    "score_valid = model.score(features_valid, target_valid)\n",
    "\n",
    "print(\"Accuracy of the Logistic Regression Model in the training dataset\", score_train)\n",
    "print(\"Accuracy of the Logistic Regression Model in the validation dataset:\", score_valid)"
   ]
  },
  {
   "cell_type": "markdown",
   "metadata": {},
   "source": [
    "With logistic regression, we have found that our model achieved a 76% accuracy, which is lower than the previous models. We can also observe that the predictions with the training set do not overtake the predictions with the validation set, meaning there is no overfitting from the training data.\n",
    "\n",
    "Based on the models previously reviewed, we determined that the best model has the following characteristics:\n",
    "\n",
    "    . Learning algorithm: RandomForestClassifier\n",
    "    . Hyperparameters to use: 13 trees and depth of 2.\n",
    "\n",
    "## Model Quality\n",
    "We will verify the quality of our best model now using our test set."
   ]
  },
  {
   "cell_type": "code",
   "execution_count": 11,
   "metadata": {},
   "outputs": [
    {
     "name": "stdout",
     "output_type": "stream",
     "text": [
      "Accuracy of the best model RandomForestClassifier on the test dataset 0.7744945567651633\n"
     ]
    }
   ],
   "source": [
    "best_model = RandomForestClassifier(random_state=12345, n_estimators=13, max_depth=2)\n",
    "\n",
    "best_model.fit(features_train, target_train)\n",
    "\n",
    "predictions_test = best_model.predict(features_test)\n",
    "\n",
    "score_test = accuracy_score(target_test, predictions_test)\n",
    "print('Accuracy of the best model RandomForestClassifier on the test dataset', score_test)"
   ]
  },
  {
   "cell_type": "markdown",
   "metadata": {},
   "source": [
    "We have used our model (RandomForestClassifier with 13 trees and depth of 2) and obtained predictions from the test dataset, achieving a 77% accuracy, which is 2 percentage points lower than what was obtained in our validation dataset.\n",
    "\n",
    "## Sanity Check\n",
    "To demonstrate that our model performs better than chance, we will conduct a sanity check. This test will look for classification issues in our model, so we will compare our predictions with predictions based on randomness to demonstrate that our model is better.\n",
    "\n",
    "With that said, we will simulate responses randomly to assess their accuracy. Then we will create a series of the same size as our test target set and fill it with 0s and 1s randomly."
   ]
  },
  {
   "cell_type": "code",
   "execution_count": 12,
   "metadata": {},
   "outputs": [
    {
     "name": "stdout",
     "output_type": "stream",
     "text": [
      "1    328\n",
      "0    315\n",
      "dtype: int64\n",
      "\n",
      "0      0\n",
      "1      1\n",
      "2      1\n",
      "3      1\n",
      "4      0\n",
      "      ..\n",
      "638    0\n",
      "639    1\n",
      "640    1\n",
      "641    0\n",
      "642    1\n",
      "Length: 643, dtype: int64\n"
     ]
    }
   ],
   "source": [
    "np.random.seed(12345)\n",
    "\n",
    "random_test =  pd.Series(np.random.choice([0, 1], size=len(target_test)))\n",
    "\n",
    "print(random_test.value_counts(dropna=False))\n",
    "print()\n",
    "print(random_test)"
   ]
  },
  {
   "cell_type": "markdown",
   "metadata": {},
   "source": [
    "As we can see, random_test contains responses of 0s and 1s in a random manner. To complete our sanity check, we will measure the accuracy of these random predictions. This will help us to determine if our model's predictions are indeed better than random chance, thereby validating the effectiveness of the model."
   ]
  },
  {
   "cell_type": "code",
   "execution_count": 13,
   "metadata": {},
   "outputs": [
    {
     "name": "stdout",
     "output_type": "stream",
     "text": [
      "Accuracy of the random responses: 0.4821150855365474\n",
      "Accuracy of the model RandomForestClassifier 0.7744945567651633\n"
     ]
    }
   ],
   "source": [
    "print('Accuracy of the random responses:', accuracy_score(target_test, random_test))\n",
    "print('Accuracy of the model RandomForestClassifier', score_test)"
   ]
  },
  {
   "cell_type": "markdown",
   "metadata": {},
   "source": [
    "We measured the accuracy of the random responses and obtained 48%, clearly demonstrating that our prediction model is better as it has an accuracy of 77%. This means our model has passed the sanity check as it predicts better than random guesses.\n",
    "\n",
    "# General Conclusion\n",
    "We conducted research on classification algorithms to create predictive models by varying their hyperparameters. From this, we obtained:\n",
    "\n",
    "1. With DecisionTreeClassifier, we varied the depth of the tree from 1 to 10. We found that the best model has a depth of 3 and an accuracy of 78%. However, the predictions in the training set were overfitted.\n",
    "2. With RandomForestClassifier, we obtained the best model with a 79% accuracy using 13 trees with a depth of 2. The predictions in the training set did not show overfitting, which is a good indication.\n",
    "3. With LogisticRegression, our model achieved a 76% accuracy, which is lower than the previous models. We also observed that the prediction with the training set does not precede the prediction with the validation set, meaning there is no overfitting from the training data.\n",
    "Therefore, we can determine that the predictive model uses the RandomForestClassifier learning algorithm. The forest is composed of 13 trees with a depth of 2. The quality of the model was measured by an accuracy of 77%, exceeding the accuracy threshold initially set in the objective of this analysis and also surpassing the sanity check.\n",
    "\n",
    "We have obtained a model capable of predicting the type of plan (Ultra or Smart) that users of the Megaline company need."
   ]
  },
  {
   "cell_type": "markdown",
   "metadata": {},
   "source": [
    "<div class=\"alert alert-block alert-success\">✔️\n",
    "    \n",
    "\n",
    "__Reviewer's comment №1__\n",
    "\n",
    "Here's the great thing: we picked the best hyperparameters for all our models (in this case, maximizing the accuracy_score metric). Here we also identified the MOST optimal model. On validation, it turned out to be the \"random forest\" model.\n",
    "\n",
    "After the hyperparameters are selected for validation, we test the models on the test data. Based on the results of testing on the test (sorry for the tautalogy), we choose a model that we can pass to production."
   ]
  },
  {
   "cell_type": "markdown",
   "metadata": {},
   "source": []
  },
  {
   "cell_type": "markdown",
   "metadata": {},
   "source": [
    "<div class=\"alert alert-block alert-success\">✔️\n",
    "    \n",
    "\n",
    "__Reviewer's comment №1__\n",
    "\n",
    "\n",
    "Otherwise it's great😊. Your project is begging for github =)   \n",
    "    \n",
    "Congratulations on the successful completion of the project 😊👍\n",
    "And I wish you success in new works 😊"
   ]
  }
 ],
 "metadata": {
  "kernelspec": {
   "display_name": "Python 3 (ipykernel)",
   "language": "python",
   "name": "python3"
  },
  "language_info": {
   "codemirror_mode": {
    "name": "ipython",
    "version": 3
   },
   "file_extension": ".py",
   "mimetype": "text/x-python",
   "name": "python",
   "nbconvert_exporter": "python",
   "pygments_lexer": "ipython3",
   "version": "3.9.19"
  },
  "toc": {
   "base_numbering": 1,
   "nav_menu": {},
   "number_sections": true,
   "sideBar": true,
   "skip_h1_title": true,
   "title_cell": "Table of Contents",
   "title_sidebar": "Contents",
   "toc_cell": false,
   "toc_position": {},
   "toc_section_display": true,
   "toc_window_display": true
  }
 },
 "nbformat": 4,
 "nbformat_minor": 2
}
