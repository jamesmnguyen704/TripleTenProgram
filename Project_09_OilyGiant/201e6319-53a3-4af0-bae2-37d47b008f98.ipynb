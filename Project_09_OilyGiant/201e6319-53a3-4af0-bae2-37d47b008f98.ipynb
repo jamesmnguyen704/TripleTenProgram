{
 "cells": [
  {
   "cell_type": "markdown",
   "metadata": {},
   "source": [
    "**Review**\n",
    "\n",
    "Hi, my name is Dmitry and I will be reviewing your project.\n",
    "  \n",
    "You can find my comments in colored markdown cells:\n",
    "  \n",
    "<div class=\"alert alert-success\">\n",
    "  If everything is done successfully.\n",
    "</div>\n",
    "  \n",
    "<div class=\"alert alert-warning\">\n",
    "  If I have some (optional) suggestions, or questions to think about, or general comments.\n",
    "</div>\n",
    "  \n",
    "<div class=\"alert alert-danger\">\n",
    "  If a section requires some corrections. Work can't be accepted with red comments.\n",
    "</div>\n",
    "  \n",
    "Please don't remove my comments, as it will make further review iterations much harder for me.\n",
    "  \n",
    "Feel free to reply to my comments or ask questions using the following template:\n",
    "  \n",
    "<div class=\"alert alert-info\">\n",
    "  For your comments and questions.\n",
    "</div>\n",
    "  "
   ]
  },
  {
   "cell_type": "markdown",
   "id": "323c7a30",
   "metadata": {},
   "source": [
    "<b>Student's comment</b>\n",
    "    \n",
    "I'm going to redo my project. I think I over did the previous one and wanted to start fresh and simnple. My whole understanding of it has change and I have went back to the material to come at it at a different apporach. \n",
    "    "
   ]
  },
  {
   "cell_type": "markdown",
   "metadata": {},
   "source": [
    "<div class=\"alert alert-success\">\n",
    "<b>Reviewer's comment V4</b>\n",
    "\n",
    "Ok, I see!\n",
    "\n",
    "</div>"
   ]
  },
  {
   "cell_type": "markdown",
   "id": "8972c089",
   "metadata": {},
   "source": [
    "# Project Overview: Optimal Oil Well Location Analysis for OilyGiant\n",
    "\n",
    "## Objective\n",
    "This project aims to pinpoint the most lucrative oil well location for OilyGiant by leveraging geological data from three distinct regions. Our mission is to deploy a linear regression model that forecasts the potential reserve volumes of each site, guided by key parameters like oil quality and estimated reserves. Through predictive analysis, we'll identify the prime wells for development, focusing on a region that promises the maximum total profit.\n",
    "\n",
    "## Methodology\n",
    "We will employ a linear regression approach to estimate the reserve volume for each of the 500 potential oil wells in every region. The analysis will prioritize the top 200 wells based on their projected profitability. Our financial framework considers an investment budget of 100 million for the development of these wells, with an anticipated revenue of $4.5 per barrel of oil (considering reserves are in thousands of barrels, equating to 4,500 per unit of product). A rigorous Bootstrapping technique will be applied to assess potential profits and the risk factors, ensuring the selection process adheres to a strict risk of loss threshold below 2.5%.\n",
    "\n",
    "## Selection Criteria\n",
    "Only regions that demonstrate a loss risk below the 2.5% benchmark will advance to the final round of consideration. The deciding factor will be the average profit potential, guiding us to the optimal region for new developments.\n",
    "\n",
    "## Contents\n",
    "1. **Data Loading and Inspection**\n",
    "2. **Data Cleansing**\n",
    "3. **Feature Creation and Model Evaluation**\n",
    "4. **Profitability and Risk Assessment via Bootstrapping**\n",
    "5. **Conclusions and Recommendations**\n"
   ]
  },
  {
   "cell_type": "code",
   "execution_count": 1,
   "id": "e616516d",
   "metadata": {},
   "outputs": [],
   "source": [
    "import pandas as pd \n",
    "import numpy as np\n",
    "from sklearn.model_selection import train_test_split\n",
    "from sklearn.linear_model import LinearRegression\n",
    "from sklearn.metrics import mean_squared_error"
   ]
  },
  {
   "cell_type": "markdown",
   "id": "7fbf8c73",
   "metadata": {},
   "source": [
    "##  Load and Inspect Data"
   ]
  },
  {
   "cell_type": "code",
   "execution_count": 2,
   "id": "58aacfb2",
   "metadata": {},
   "outputs": [],
   "source": [
    "# loading data from the CSV files given\n",
    "data0 = pd.read_csv(\"/datasets/geo_data_0.csv\")\n",
    "data1 = pd.read_csv(\"/datasets/geo_data_1.csv\")\n",
    "data2 = pd.read_csv(\"/datasets/geo_data_2.csv\")"
   ]
  },
  {
   "cell_type": "code",
   "execution_count": 3,
   "id": "4fab7493",
   "metadata": {},
   "outputs": [],
   "source": [
    "# creating the list of data sets\n",
    "data_sets = [data0, data1, data2]"
   ]
  },
  {
   "cell_type": "code",
   "execution_count": 4,
   "id": "5e83944d",
   "metadata": {},
   "outputs": [
    {
     "name": "stdout",
     "output_type": "stream",
     "text": [
      "data0:\n",
      "<class 'pandas.core.frame.DataFrame'>\n",
      "RangeIndex: 100000 entries, 0 to 99999\n",
      "Data columns (total 5 columns):\n",
      " #   Column   Non-Null Count   Dtype  \n",
      "---  ------   --------------   -----  \n",
      " 0   id       100000 non-null  object \n",
      " 1   f0       100000 non-null  float64\n",
      " 2   f1       100000 non-null  float64\n",
      " 3   f2       100000 non-null  float64\n",
      " 4   product  100000 non-null  float64\n",
      "dtypes: float64(4), object(1)\n",
      "memory usage: 3.8+ MB\n",
      "None\n",
      " \n",
      "data1:\n",
      "<class 'pandas.core.frame.DataFrame'>\n",
      "RangeIndex: 100000 entries, 0 to 99999\n",
      "Data columns (total 5 columns):\n",
      " #   Column   Non-Null Count   Dtype  \n",
      "---  ------   --------------   -----  \n",
      " 0   id       100000 non-null  object \n",
      " 1   f0       100000 non-null  float64\n",
      " 2   f1       100000 non-null  float64\n",
      " 3   f2       100000 non-null  float64\n",
      " 4   product  100000 non-null  float64\n",
      "dtypes: float64(4), object(1)\n",
      "memory usage: 3.8+ MB\n",
      "None\n",
      " \n",
      "data2:\n",
      "<class 'pandas.core.frame.DataFrame'>\n",
      "RangeIndex: 100000 entries, 0 to 99999\n",
      "Data columns (total 5 columns):\n",
      " #   Column   Non-Null Count   Dtype  \n",
      "---  ------   --------------   -----  \n",
      " 0   id       100000 non-null  object \n",
      " 1   f0       100000 non-null  float64\n",
      " 2   f1       100000 non-null  float64\n",
      " 3   f2       100000 non-null  float64\n",
      " 4   product  100000 non-null  float64\n",
      "dtypes: float64(4), object(1)\n",
      "memory usage: 3.8+ MB\n",
      "None\n",
      " \n"
     ]
    }
   ],
   "source": [
    "# displaying general dataframe information for the project\n",
    "n =0\n",
    "for i in data_sets:\n",
    "    print(f'data{n}:')\n",
    "    print(data0.info())\n",
    "    print(' ')\n",
    "    n = n+1"
   ]
  },
  {
   "cell_type": "code",
   "execution_count": 5,
   "id": "b7fd0079",
   "metadata": {},
   "outputs": [
    {
     "name": "stdout",
     "output_type": "stream",
     "text": [
      "data0:\n"
     ]
    },
    {
     "data": {
      "text/html": [
       "<div>\n",
       "<style scoped>\n",
       "    .dataframe tbody tr th:only-of-type {\n",
       "        vertical-align: middle;\n",
       "    }\n",
       "\n",
       "    .dataframe tbody tr th {\n",
       "        vertical-align: top;\n",
       "    }\n",
       "\n",
       "    .dataframe thead th {\n",
       "        text-align: right;\n",
       "    }\n",
       "</style>\n",
       "<table border=\"1\" class=\"dataframe\">\n",
       "  <thead>\n",
       "    <tr style=\"text-align: right;\">\n",
       "      <th></th>\n",
       "      <th>f0</th>\n",
       "      <th>f1</th>\n",
       "      <th>f2</th>\n",
       "      <th>product</th>\n",
       "    </tr>\n",
       "  </thead>\n",
       "  <tbody>\n",
       "    <tr>\n",
       "      <th>count</th>\n",
       "      <td>100000.000000</td>\n",
       "      <td>100000.000000</td>\n",
       "      <td>100000.000000</td>\n",
       "      <td>100000.000000</td>\n",
       "    </tr>\n",
       "    <tr>\n",
       "      <th>mean</th>\n",
       "      <td>0.500419</td>\n",
       "      <td>0.250143</td>\n",
       "      <td>2.502647</td>\n",
       "      <td>92.500000</td>\n",
       "    </tr>\n",
       "    <tr>\n",
       "      <th>std</th>\n",
       "      <td>0.871832</td>\n",
       "      <td>0.504433</td>\n",
       "      <td>3.248248</td>\n",
       "      <td>44.288691</td>\n",
       "    </tr>\n",
       "    <tr>\n",
       "      <th>min</th>\n",
       "      <td>-1.408605</td>\n",
       "      <td>-0.848218</td>\n",
       "      <td>-12.088328</td>\n",
       "      <td>0.000000</td>\n",
       "    </tr>\n",
       "    <tr>\n",
       "      <th>25%</th>\n",
       "      <td>-0.072580</td>\n",
       "      <td>-0.200881</td>\n",
       "      <td>0.287748</td>\n",
       "      <td>56.497507</td>\n",
       "    </tr>\n",
       "    <tr>\n",
       "      <th>50%</th>\n",
       "      <td>0.502360</td>\n",
       "      <td>0.250252</td>\n",
       "      <td>2.515969</td>\n",
       "      <td>91.849972</td>\n",
       "    </tr>\n",
       "    <tr>\n",
       "      <th>75%</th>\n",
       "      <td>1.073581</td>\n",
       "      <td>0.700646</td>\n",
       "      <td>4.715088</td>\n",
       "      <td>128.564089</td>\n",
       "    </tr>\n",
       "    <tr>\n",
       "      <th>max</th>\n",
       "      <td>2.362331</td>\n",
       "      <td>1.343769</td>\n",
       "      <td>16.003790</td>\n",
       "      <td>185.364347</td>\n",
       "    </tr>\n",
       "  </tbody>\n",
       "</table>\n",
       "</div>"
      ],
      "text/plain": [
       "                  f0             f1             f2        product\n",
       "count  100000.000000  100000.000000  100000.000000  100000.000000\n",
       "mean        0.500419       0.250143       2.502647      92.500000\n",
       "std         0.871832       0.504433       3.248248      44.288691\n",
       "min        -1.408605      -0.848218     -12.088328       0.000000\n",
       "25%        -0.072580      -0.200881       0.287748      56.497507\n",
       "50%         0.502360       0.250252       2.515969      91.849972\n",
       "75%         1.073581       0.700646       4.715088     128.564089\n",
       "max         2.362331       1.343769      16.003790     185.364347"
      ]
     },
     "metadata": {},
     "output_type": "display_data"
    },
    {
     "name": "stdout",
     "output_type": "stream",
     "text": [
      " \n",
      "data1:\n"
     ]
    },
    {
     "data": {
      "text/html": [
       "<div>\n",
       "<style scoped>\n",
       "    .dataframe tbody tr th:only-of-type {\n",
       "        vertical-align: middle;\n",
       "    }\n",
       "\n",
       "    .dataframe tbody tr th {\n",
       "        vertical-align: top;\n",
       "    }\n",
       "\n",
       "    .dataframe thead th {\n",
       "        text-align: right;\n",
       "    }\n",
       "</style>\n",
       "<table border=\"1\" class=\"dataframe\">\n",
       "  <thead>\n",
       "    <tr style=\"text-align: right;\">\n",
       "      <th></th>\n",
       "      <th>f0</th>\n",
       "      <th>f1</th>\n",
       "      <th>f2</th>\n",
       "      <th>product</th>\n",
       "    </tr>\n",
       "  </thead>\n",
       "  <tbody>\n",
       "    <tr>\n",
       "      <th>count</th>\n",
       "      <td>100000.000000</td>\n",
       "      <td>100000.000000</td>\n",
       "      <td>100000.000000</td>\n",
       "      <td>100000.000000</td>\n",
       "    </tr>\n",
       "    <tr>\n",
       "      <th>mean</th>\n",
       "      <td>0.500419</td>\n",
       "      <td>0.250143</td>\n",
       "      <td>2.502647</td>\n",
       "      <td>92.500000</td>\n",
       "    </tr>\n",
       "    <tr>\n",
       "      <th>std</th>\n",
       "      <td>0.871832</td>\n",
       "      <td>0.504433</td>\n",
       "      <td>3.248248</td>\n",
       "      <td>44.288691</td>\n",
       "    </tr>\n",
       "    <tr>\n",
       "      <th>min</th>\n",
       "      <td>-1.408605</td>\n",
       "      <td>-0.848218</td>\n",
       "      <td>-12.088328</td>\n",
       "      <td>0.000000</td>\n",
       "    </tr>\n",
       "    <tr>\n",
       "      <th>25%</th>\n",
       "      <td>-0.072580</td>\n",
       "      <td>-0.200881</td>\n",
       "      <td>0.287748</td>\n",
       "      <td>56.497507</td>\n",
       "    </tr>\n",
       "    <tr>\n",
       "      <th>50%</th>\n",
       "      <td>0.502360</td>\n",
       "      <td>0.250252</td>\n",
       "      <td>2.515969</td>\n",
       "      <td>91.849972</td>\n",
       "    </tr>\n",
       "    <tr>\n",
       "      <th>75%</th>\n",
       "      <td>1.073581</td>\n",
       "      <td>0.700646</td>\n",
       "      <td>4.715088</td>\n",
       "      <td>128.564089</td>\n",
       "    </tr>\n",
       "    <tr>\n",
       "      <th>max</th>\n",
       "      <td>2.362331</td>\n",
       "      <td>1.343769</td>\n",
       "      <td>16.003790</td>\n",
       "      <td>185.364347</td>\n",
       "    </tr>\n",
       "  </tbody>\n",
       "</table>\n",
       "</div>"
      ],
      "text/plain": [
       "                  f0             f1             f2        product\n",
       "count  100000.000000  100000.000000  100000.000000  100000.000000\n",
       "mean        0.500419       0.250143       2.502647      92.500000\n",
       "std         0.871832       0.504433       3.248248      44.288691\n",
       "min        -1.408605      -0.848218     -12.088328       0.000000\n",
       "25%        -0.072580      -0.200881       0.287748      56.497507\n",
       "50%         0.502360       0.250252       2.515969      91.849972\n",
       "75%         1.073581       0.700646       4.715088     128.564089\n",
       "max         2.362331       1.343769      16.003790     185.364347"
      ]
     },
     "metadata": {},
     "output_type": "display_data"
    },
    {
     "name": "stdout",
     "output_type": "stream",
     "text": [
      " \n",
      "data2:\n"
     ]
    },
    {
     "data": {
      "text/html": [
       "<div>\n",
       "<style scoped>\n",
       "    .dataframe tbody tr th:only-of-type {\n",
       "        vertical-align: middle;\n",
       "    }\n",
       "\n",
       "    .dataframe tbody tr th {\n",
       "        vertical-align: top;\n",
       "    }\n",
       "\n",
       "    .dataframe thead th {\n",
       "        text-align: right;\n",
       "    }\n",
       "</style>\n",
       "<table border=\"1\" class=\"dataframe\">\n",
       "  <thead>\n",
       "    <tr style=\"text-align: right;\">\n",
       "      <th></th>\n",
       "      <th>f0</th>\n",
       "      <th>f1</th>\n",
       "      <th>f2</th>\n",
       "      <th>product</th>\n",
       "    </tr>\n",
       "  </thead>\n",
       "  <tbody>\n",
       "    <tr>\n",
       "      <th>count</th>\n",
       "      <td>100000.000000</td>\n",
       "      <td>100000.000000</td>\n",
       "      <td>100000.000000</td>\n",
       "      <td>100000.000000</td>\n",
       "    </tr>\n",
       "    <tr>\n",
       "      <th>mean</th>\n",
       "      <td>0.500419</td>\n",
       "      <td>0.250143</td>\n",
       "      <td>2.502647</td>\n",
       "      <td>92.500000</td>\n",
       "    </tr>\n",
       "    <tr>\n",
       "      <th>std</th>\n",
       "      <td>0.871832</td>\n",
       "      <td>0.504433</td>\n",
       "      <td>3.248248</td>\n",
       "      <td>44.288691</td>\n",
       "    </tr>\n",
       "    <tr>\n",
       "      <th>min</th>\n",
       "      <td>-1.408605</td>\n",
       "      <td>-0.848218</td>\n",
       "      <td>-12.088328</td>\n",
       "      <td>0.000000</td>\n",
       "    </tr>\n",
       "    <tr>\n",
       "      <th>25%</th>\n",
       "      <td>-0.072580</td>\n",
       "      <td>-0.200881</td>\n",
       "      <td>0.287748</td>\n",
       "      <td>56.497507</td>\n",
       "    </tr>\n",
       "    <tr>\n",
       "      <th>50%</th>\n",
       "      <td>0.502360</td>\n",
       "      <td>0.250252</td>\n",
       "      <td>2.515969</td>\n",
       "      <td>91.849972</td>\n",
       "    </tr>\n",
       "    <tr>\n",
       "      <th>75%</th>\n",
       "      <td>1.073581</td>\n",
       "      <td>0.700646</td>\n",
       "      <td>4.715088</td>\n",
       "      <td>128.564089</td>\n",
       "    </tr>\n",
       "    <tr>\n",
       "      <th>max</th>\n",
       "      <td>2.362331</td>\n",
       "      <td>1.343769</td>\n",
       "      <td>16.003790</td>\n",
       "      <td>185.364347</td>\n",
       "    </tr>\n",
       "  </tbody>\n",
       "</table>\n",
       "</div>"
      ],
      "text/plain": [
       "                  f0             f1             f2        product\n",
       "count  100000.000000  100000.000000  100000.000000  100000.000000\n",
       "mean        0.500419       0.250143       2.502647      92.500000\n",
       "std         0.871832       0.504433       3.248248      44.288691\n",
       "min        -1.408605      -0.848218     -12.088328       0.000000\n",
       "25%        -0.072580      -0.200881       0.287748      56.497507\n",
       "50%         0.502360       0.250252       2.515969      91.849972\n",
       "75%         1.073581       0.700646       4.715088     128.564089\n",
       "max         2.362331       1.343769      16.003790     185.364347"
      ]
     },
     "metadata": {},
     "output_type": "display_data"
    },
    {
     "name": "stdout",
     "output_type": "stream",
     "text": [
      " \n"
     ]
    }
   ],
   "source": [
    "# displaying descriptive statistics for the datasets\n",
    "n =0\n",
    "for i in data_sets:\n",
    "    print(f'data{n}:')\n",
    "    display(data0.describe())\n",
    "    print(' ')\n",
    "    n = n+1"
   ]
  },
  {
   "cell_type": "markdown",
   "id": "68ab214a",
   "metadata": {},
   "source": [
    "## Clean Data"
   ]
  },
  {
   "cell_type": "code",
   "execution_count": 6,
   "id": "595ee3a3",
   "metadata": {},
   "outputs": [
    {
     "name": "stdout",
     "output_type": "stream",
     "text": [
      "data0:\n",
      "10\n",
      "data1:\n",
      "4\n",
      "data2:\n",
      "4\n"
     ]
    }
   ],
   "source": [
    "# checking for duplicates in each datasets with loop added to each \n",
    "data_l = [data0, data1, data2]\n",
    "n= 0\n",
    "for i in data_l:\n",
    "    print(f'data{n}:')\n",
    "    print(i['id'].duplicated().sum())\n",
    "    n = n +1 "
   ]
  },
  {
   "cell_type": "code",
   "execution_count": 7,
   "id": "dc3fd044",
   "metadata": {},
   "outputs": [],
   "source": [
    "# writing function to check for and subsequently drop duplicate values in the data\n",
    "def check_drop_dupe(data):\n",
    "    dupes = list(data[data['id'].duplicated()]['id'])\n",
    "    ind = data[data['id'].isin(dupes) == True].index\n",
    "    s = data['id'].duplicated().sum()\n",
    "    if s > 0:\n",
    "        data = data.drop(ind)\n",
    "    return data\n"
   ]
  },
  {
   "cell_type": "code",
   "execution_count": 8,
   "id": "fa128531",
   "metadata": {},
   "outputs": [],
   "source": [
    "# running data through duplicate function and dropping it\n",
    "data0 = check_drop_dupe(data0)\n",
    "data1 = check_drop_dupe(data1)\n",
    "data2 = check_drop_dupe(data2)"
   ]
  },
  {
   "cell_type": "markdown",
   "metadata": {},
   "source": [
    "<div class=\"alert alert-success\">\n",
    "<b>Reviewer's comment V4</b>\n",
    "\n",
    "The data was prepared successfully!\n",
    "\n",
    "</div>"
   ]
  },
  {
   "cell_type": "markdown",
   "id": "c75ba566",
   "metadata": {},
   "source": [
    "## Creation and Model Testing"
   ]
  },
  {
   "cell_type": "code",
   "execution_count": 9,
   "id": "d1d53058",
   "metadata": {},
   "outputs": [],
   "source": [
    "# creating feature and target data for id and product\n",
    "features0 = data0.drop(['id', 'product'], axis = 1)\n",
    "target0 = data0['product']\n",
    "\n",
    "features1 = data1.drop(['id', 'product'], axis = 1)\n",
    "target1 = data1['product']\n",
    "\n",
    "features2 = data2.drop(['id', 'product'], axis = 1)\n",
    "target2 = data2['product']"
   ]
  },
  {
   "cell_type": "code",
   "execution_count": 10,
   "id": "b8e537f3",
   "metadata": {},
   "outputs": [],
   "source": [
    "# creating function to split data into training and validation data \n",
    "def split_data(features, target):\n",
    "\n",
    "    features_train, features_valid, target_train, target_valid = train_test_split(features, \n",
    "                                                                              target, \n",
    "                                                                              test_size = .25,\n",
    "                                                                              random_state = 12345)\n",
    "    return features_train, features_valid, target_train, target_valid"
   ]
  },
  {
   "cell_type": "code",
   "execution_count": 11,
   "id": "e916e951",
   "metadata": {},
   "outputs": [],
   "source": [
    "# running data through split function\n",
    "features_train0, features_valid0, target_train0, target_valid0 = split_data(features0, target0)\n",
    "\n",
    "features_train1, features_valid1, target_train1, target_valid1 = split_data(features1, target1)\n",
    "\n",
    "features_train2, features_valid2, target_train2, target_valid2 = split_data(features2, target2)"
   ]
  },
  {
   "cell_type": "markdown",
   "metadata": {},
   "source": [
    "<div class=\"alert alert-success\">\n",
    "<b>Reviewer's comment V4</b>\n",
    "\n",
    "The data for each region was split into train and validation\n",
    "\n",
    "</div>"
   ]
  },
  {
   "cell_type": "code",
   "execution_count": 12,
   "id": "a46d679e",
   "metadata": {},
   "outputs": [
    {
     "name": "stdout",
     "output_type": "stream",
     "text": [
      "Baseline RMSE: 44.34727648978901\n"
     ]
    }
   ],
   "source": [
    "# creating baseline for data0\n",
    "baseline0 = pd.Series(target_train0.mean(), index = target_valid0.index)\n",
    "base_mse = mean_squared_error(target_valid0, baseline0)\n",
    "print(f'Baseline RMSE: {np.sqrt(base_mse)}')"
   ]
  },
  {
   "cell_type": "code",
   "execution_count": 13,
   "id": "6888603d",
   "metadata": {},
   "outputs": [
    {
     "name": "stdout",
     "output_type": "stream",
     "text": [
      "Average Volume of Predicted Reserves: 92.42384109947359\n",
      "Model RMSE: 37.716904960382735\n"
     ]
    }
   ],
   "source": [
    "# intializing model\n",
    "model = LinearRegression()\n",
    "# fitting data\n",
    "model.fit(features_train0, target_train0)\n",
    "# prediciting data \n",
    "predictions_valid0 = model.predict(features_valid0)\n",
    "\n",
    "# gathering mse score and rmse score \n",
    "mse0 = mean_squared_error(target_valid0, predictions_valid0)\n",
    "rmse0 = np.sqrt(mse0)\n",
    "print(f'Average Volume of Predicted Reserves: {predictions_valid0.mean()}')\n",
    "print(f'Model RMSE: {rmse0}')"
   ]
  },
  {
   "cell_type": "code",
   "execution_count": 14,
   "id": "4bd26334",
   "metadata": {},
   "outputs": [
    {
     "name": "stdout",
     "output_type": "stream",
     "text": [
      "Baseline RMSE: 45.97003721244109\n"
     ]
    }
   ],
   "source": [
    "baseline1 = pd.Series(target_train1.mean(), index = target_valid1.index)\n",
    "base_mse = mean_squared_error(target_valid1, baseline1)\n",
    "print(f'Baseline RMSE: {np.sqrt(base_mse)}')"
   ]
  },
  {
   "cell_type": "code",
   "execution_count": 15,
   "id": "d9e19f5f",
   "metadata": {},
   "outputs": [
    {
     "name": "stdout",
     "output_type": "stream",
     "text": [
      "Average Volume of Predicted Reserves: 68.98311857983123\n",
      "Model RMSE: 0.8914901390348537\n"
     ]
    }
   ],
   "source": [
    "# intializing model\n",
    "model = LinearRegression()\n",
    "# fitting data\n",
    "model.fit(features_train1, target_train1)\n",
    "# prediciting data \n",
    "predictions_valid1 = model.predict(features_valid1)\n",
    "\n",
    "# gathering mse score and rmse score \n",
    "mse1 = mean_squared_error(target_valid1, predictions_valid1)\n",
    "rmse1 = np.sqrt(mse1)\n",
    "print(f'Average Volume of Predicted Reserves: {predictions_valid1.mean()}')\n",
    "print(f'Model RMSE: {rmse1}')"
   ]
  },
  {
   "cell_type": "code",
   "execution_count": 16,
   "id": "7ad8de42",
   "metadata": {},
   "outputs": [
    {
     "name": "stdout",
     "output_type": "stream",
     "text": [
      "Baseline RMSE: 44.57522707537966\n"
     ]
    }
   ],
   "source": [
    "baseline2 = pd.Series(target_train2.mean(), index = target_valid2.index)\n",
    "base_mse = mean_squared_error(target_valid2, baseline2)\n",
    "print(f'Baseline RMSE: {np.sqrt(base_mse)}')"
   ]
  },
  {
   "cell_type": "code",
   "execution_count": 17,
   "id": "55c41cb7",
   "metadata": {},
   "outputs": [
    {
     "name": "stdout",
     "output_type": "stream",
     "text": [
      "Average Volume of Predicted Reserves: 95.11622302076479\n",
      "Model RMSE: 39.975543264382345\n"
     ]
    }
   ],
   "source": [
    "# intializing model\n",
    "model = LinearRegression()\n",
    "# fitting data\n",
    "model.fit(features_train2, target_train2)\n",
    "# prediciting data \n",
    "predictions_valid2 = model.predict(features_valid2)\n",
    "\n",
    "# gathering mse score and rmse score \n",
    "mse2 = mean_squared_error(target_valid2, predictions_valid2)\n",
    "rmse2 = np.sqrt(mse2)\n",
    "print(f'Average Volume of Predicted Reserves: {predictions_valid2.mean()}')\n",
    "print(f'Model RMSE: {rmse2}')"
   ]
  },
  {
   "cell_type": "markdown",
   "metadata": {},
   "source": [
    "<div class=\"alert alert-success\">\n",
    "<b>Reviewer's comment V4</b>\n",
    "\n",
    "The models were trained and evaluated correctly! It's nice that you compared the models to a simple constant baseline\n",
    "\n",
    "</div>"
   ]
  },
  {
   "cell_type": "code",
   "execution_count": 18,
   "id": "b66d3311",
   "metadata": {},
   "outputs": [
    {
     "name": "stdout",
     "output_type": "stream",
     "text": [
      "Minimum units for net positive profit when developing a new well: 111.111\n"
     ]
    }
   ],
   "source": [
    "# finding minimum units for net profit\n",
    "n_best = 200 \n",
    "budget = 100000000\n",
    "barrel = 4.5\n",
    "unit =  1000 * barrel\n",
    "minimum_reserve = budget/n_best/unit\n",
    "print(f'Minimum units for net positive profit when developing a new well: {minimum_reserve:.3f}')"
   ]
  },
  {
   "cell_type": "markdown",
   "metadata": {},
   "source": [
    "<div class=\"alert alert-success\">\n",
    "<b>Reviewer's comment V4</b>\n",
    "\n",
    "Calculation is correct!\n",
    "\n",
    "</div>"
   ]
  },
  {
   "cell_type": "code",
   "execution_count": 19,
   "id": "a9af455d",
   "metadata": {},
   "outputs": [],
   "source": [
    "# creating profit calculation function\n",
    "def profit_calculation(target, predictions, count):\n",
    "    budget = 100000000\n",
    "    unit = 4.5 * 1000\n",
    "    top_predictions = predictions.nlargest(count).index\n",
    "    top_wells = target.loc[top_predictions]\n",
    "    rev = top_wells.sum() * unit\n",
    "    profit = rev - budget\n",
    "    return profit"
   ]
  },
  {
   "cell_type": "markdown",
   "metadata": {},
   "source": [
    "<div class=\"alert alert-success\">\n",
    "<b>Reviewer's comment V4</b>\n",
    "\n",
    "Profit is calculated correctly\n",
    "\n",
    "</div>"
   ]
  },
  {
   "cell_type": "code",
   "execution_count": 20,
   "id": "dfc352c9",
   "metadata": {},
   "outputs": [
    {
     "name": "stdout",
     "output_type": "stream",
     "text": [
      "Region 0 top 200 wells profit: $31360260.57\n",
      "\n",
      "Region 1 top 200 wells profit: $24150866.97\n",
      "\n",
      "Region 2 top 200 wells profit: $24659457.92\n",
      "\n"
     ]
    }
   ],
   "source": [
    "# running each region through profit calculations \n",
    "predictions_valid0 = pd.Series(predictions_valid0, index = target_valid0.index)\n",
    "profit0 = profit_calculation(target_valid0, predictions_valid0, 200)\n",
    "print(f'Region 0 top 200 wells profit: ${profit0:.2f}')\n",
    "print()\n",
    "\n",
    "predictions_valid1 = pd.Series(predictions_valid1, index = target_valid1.index)\n",
    "profit1 = profit_calculation(target_valid1, predictions_valid1, 200)\n",
    "print(f'Region 1 top 200 wells profit: ${profit1:.2f}')\n",
    "print()\n",
    "\n",
    "predictions_valid2 = pd.Series(predictions_valid2, index = target_valid2.index)\n",
    "profit2 = profit_calculation(target_valid2, predictions_valid2, 200)\n",
    "print(f'Region 2 top 200 wells profit: ${profit2:.2f}')\n",
    "print()"
   ]
  },
  {
   "cell_type": "markdown",
   "id": "335871b1",
   "metadata": {},
   "source": [
    "BootStrapping and Final Assessment of the Information we gathered from the training"
   ]
  },
  {
   "cell_type": "code",
   "execution_count": 21,
   "id": "0271d311",
   "metadata": {},
   "outputs": [],
   "source": [
    "# creating bootstrapping function\n",
    "def bootstrap_func(target, predictions, sample_size):\n",
    "    state = np.random.RandomState(12345)\n",
    "    profit_values = []\n",
    "\n",
    "    for i in range(1000):\n",
    "        target_subsample = target.sample(sample_size, replace = True, random_state = state)\n",
    "        predict_subsample = predictions[target_subsample.index]\n",
    "    \n",
    "        profit_values.append(profit_calculation(target_subsample, predict_subsample, 200))\n",
    "\n",
    "    \n",
    "    profit_values = pd.Series(profit_values)\n",
    "    \n",
    "    profit_mean = profit_values.mean()\n",
    "    lower = profit_values.quantile(.025)\n",
    "    upper = profit_values.quantile(.975)\n",
    "    risk_of_loss = profit_values[profit_values < 0].count() / len(profit_values)\n",
    "    \n",
    "    print(f'''\n",
    "    Mean Profit: ${profit_mean:.2f},\n",
    "    95% Confidence interval - \n",
    "        Lower limit: {lower:.2f}, \n",
    "        Upper limit: {upper:.2f}),\n",
    "    Risk of Loss: {risk_of_loss:.1%}''')"
   ]
  },
  {
   "cell_type": "markdown",
   "metadata": {},
   "source": [
    "<div class=\"alert alert-success\">\n",
    "<b>Reviewer's comment V4</b>\n",
    "\n",
    "Bootstrapping is done correctly, all required statistics are calculated\n",
    "\n",
    "</div>"
   ]
  },
  {
   "cell_type": "code",
   "execution_count": 22,
   "id": "24627e11",
   "metadata": {},
   "outputs": [
    {
     "name": "stdout",
     "output_type": "stream",
     "text": [
      "Region 0:\n",
      "\n",
      "    Mean Profit: $6329210.98,\n",
      "    95% Confidence interval - \n",
      "        Lower limit: 549998.19, \n",
      "        Upper limit: 12849098.55),\n",
      "    Risk of Loss: 2.0%\n"
     ]
    }
   ],
   "source": [
    "# running region 0 through bootstrap function\n",
    "print('Region 0:')\n",
    "bootstrap_func(target_valid0, predictions_valid0, 500)"
   ]
  },
  {
   "cell_type": "code",
   "execution_count": 23,
   "id": "e67bf030",
   "metadata": {},
   "outputs": [
    {
     "name": "stdout",
     "output_type": "stream",
     "text": [
      "Region 1:\n",
      "\n",
      "    Mean Profit: $6836507.78,\n",
      "    95% Confidence interval - \n",
      "        Lower limit: 1761041.83, \n",
      "        Upper limit: 12000844.86),\n",
      "    Risk of Loss: 0.7%\n"
     ]
    }
   ],
   "source": [
    "# running region 1 through bootstrap function\n",
    "print('Region 1:')\n",
    "bootstrap_func(target_valid1, predictions_valid1, 500)"
   ]
  },
  {
   "cell_type": "code",
   "execution_count": 24,
   "id": "3b389e24",
   "metadata": {},
   "outputs": [
    {
     "name": "stdout",
     "output_type": "stream",
     "text": [
      "Region 2:\n",
      "\n",
      "    Mean Profit: $5290364.67,\n",
      "    95% Confidence interval - \n",
      "        Lower limit: -635691.31, \n",
      "        Upper limit: 11644733.64),\n",
      "    Risk of Loss: 4.4%\n"
     ]
    }
   ],
   "source": [
    "# running region 2 through bootstrap function\n",
    "print('Region 2:')\n",
    "bootstrap_func(target_valid2, predictions_valid2, 500)"
   ]
  },
  {
   "cell_type": "markdown",
   "id": "172c6578",
   "metadata": {},
   "source": [
    "## Conclusion\n",
    "\n",
    "Our comprehensive analysis across the three regions under consideration reveals a nuanced picture of potential profitability and risk. Despite the allure of higher profits from the top 200 wells in regions 2 and 3, our findings underscore Region 1 as the most prudent choice for OilyGiant's new well developments. This conclusion is drawn not solely based on the absolute profit figures but, more critically, on the reliability and risk profile associated with Region 1.\n",
    "\n",
    "### Key Findings:\n",
    "- **Stability Over Maximum Profit:** Although Region 1's top 200 wells yield lower profits relative to the counterparts in Regions 2 and 3, they present a more stable and reliable source of income.\n",
    "- **Risk Assessment:** Significantly, Region 1 showcases superior performance in terms of risk management. It demonstrates a notably lower risk of loss, a critical factor for sustainable development in the volatile oil market.\n",
    "- **Confidence in Investment:** The analysis within a 95% confidence interval reveals that Region 1 offers higher values at the lower quantile, suggesting a more dependable return on investment compared to the other regions.\n",
    "\n",
    "### Recommendation:\n",
    "Based on the detailed analysis and the strategic importance of minimizing risk while ensuring a reliable source of revenue, **it is strongly recommended that OilyGiant prioritizes Region 1 for the development of new oil wells.** This region aligns with OilyGiant's objectives of sustaining profitability while adhering to a conservative risk threshold.\n",
    "\n",
    "In conclusion, the investment in Region 1, despite its relatively lower immediate profit margins, represents a strategic decision to secure a more predictable and stable financial future. This approach underscores the importance of a comprehensive analysis that goes beyond surface-level profit figures and delves into the nuances of risk and return on investment.\n"
   ]
  },
  {
   "cell_type": "markdown",
   "metadata": {},
   "source": [
    "<div class=\"alert alert-success\">\n",
    "<b>Reviewer's comment V4</b>\n",
    "\n",
    "Conclusions make sense! Region choice is correct and justified\n",
    "\n",
    "</div>"
   ]
  },
  {
   "cell_type": "markdown",
   "metadata": {},
   "source": [
    "<b>Student's comment</b>\n",
    "    \n",
    "I wanted to condense the informations, Please let me know if this is what you were looking for or do i need to go back to my original work. \n",
    "    \n",
    "</div>"
   ]
  },
  {
   "cell_type": "markdown",
   "metadata": {},
   "source": [
    "<div class=\"alert alert-success\">\n",
    "<b>Reviewer's comment V4</b>\n",
    "\n",
    "No, this looks great! Well done! :)\n",
    "    \n",
    "The project is now accepted. Keep up the good work on the next sprint!\n",
    "\n",
    "</div>"
   ]
  }
 ],
 "metadata": {
  "kernelspec": {
   "display_name": "Python 3 (ipykernel)",
   "language": "python",
   "name": "python3"
  },
  "language_info": {
   "codemirror_mode": {
    "name": "ipython",
    "version": 3
   },
   "file_extension": ".py",
   "mimetype": "text/x-python",
   "name": "python",
   "nbconvert_exporter": "python",
   "pygments_lexer": "ipython3",
   "version": "3.9.19"
  },
  "toc": {
   "base_numbering": 1,
   "nav_menu": {},
   "number_sections": true,
   "sideBar": true,
   "skip_h1_title": true,
   "title_cell": "Table of Contents",
   "title_sidebar": "Contents",
   "toc_cell": false,
   "toc_position": {},
   "toc_section_display": true,
   "toc_window_display": false
  }
 },
 "nbformat": 4,
 "nbformat_minor": 2
}
